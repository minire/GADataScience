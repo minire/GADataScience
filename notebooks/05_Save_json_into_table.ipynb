{
 "cells": [
  {
   "cell_type": "markdown",
   "metadata": {},
   "source": [
    "This exercise is to show how to load json contents into a table"
   ]
  },
  {
   "cell_type": "code",
   "execution_count": 5,
   "metadata": {
    "collapsed": false
   },
   "outputs": [
    {
     "data": {
      "text/plain": [
       "u'{\\n   \"results\" : [\\n      {\\n         \"elevation\" : 241.9638366699219,\\n         \"location\" : {\\n            \"lat\" : 42.974049,\\n            \"lng\" : -81.205203\\n         },\\n         \"resolution\" : 9.543951988220215\\n      },\\n      {\\n         \"elevation\" : 246.0401153564453,\\n         \"location\" : {\\n            \"lat\" : 42.974298,\\n            \"lng\" : -81.19575500000001\\n         },\\n         \"resolution\" : 9.543951988220215\\n      }\\n   ],\\n   \"status\" : \"OK\"\\n}\\n'"
      ]
     },
     "execution_count": 5,
     "metadata": {},
     "output_type": "execute_result"
    }
   ],
   "source": [
    "import requests\n",
    "path1 = '42.974049,-81.205203|42.974298,-81.195755'\n",
    "r = requests.get('http://maps.googleapis.com/maps/api/elevation/json?locations='+path1+'&sensor=false')\n",
    "r.text"
   ]
  },
  {
   "cell_type": "code",
   "execution_count": 6,
   "metadata": {
    "collapsed": false
   },
   "outputs": [
    {
     "data": {
      "text/plain": [
       "[u'{',\n",
       " u'   \"results\" : [',\n",
       " u'      {',\n",
       " u'         \"elevation\" : 241.9638366699219,',\n",
       " u'         \"location\" : {',\n",
       " u'            \"lat\" : 42.974049,',\n",
       " u'            \"lng\" : -81.205203',\n",
       " u'         },',\n",
       " u'         \"resolution\" : 9.543951988220215',\n",
       " u'      },',\n",
       " u'      {',\n",
       " u'         \"elevation\" : 246.0401153564453,',\n",
       " u'         \"location\" : {',\n",
       " u'            \"lat\" : 42.974298,',\n",
       " u'            \"lng\" : -81.19575500000001',\n",
       " u'         },',\n",
       " u'         \"resolution\" : 9.543951988220215',\n",
       " u'      }',\n",
       " u'   ],',\n",
       " u'   \"status\" : \"OK\"',\n",
       " u'}']"
      ]
     },
     "execution_count": 6,
     "metadata": {},
     "output_type": "execute_result"
    }
   ],
   "source": [
    "r.text.splitlines()"
   ]
  },
  {
   "cell_type": "code",
   "execution_count": 7,
   "metadata": {
    "collapsed": false
   },
   "outputs": [],
   "source": [
    "data = r.json()"
   ]
  },
  {
   "cell_type": "code",
   "execution_count": 8,
   "metadata": {
    "collapsed": false
   },
   "outputs": [
    {
     "data": {
      "text/plain": [
       "dict"
      ]
     },
     "execution_count": 8,
     "metadata": {},
     "output_type": "execute_result"
    }
   ],
   "source": [
    "type(data)"
   ]
  },
  {
   "cell_type": "code",
   "execution_count": 9,
   "metadata": {
    "collapsed": false
   },
   "outputs": [
    {
     "data": {
      "text/plain": [
       "[u'status', u'results']"
      ]
     },
     "execution_count": 9,
     "metadata": {},
     "output_type": "execute_result"
    }
   ],
   "source": [
    "data.keys()"
   ]
  },
  {
   "cell_type": "code",
   "execution_count": 10,
   "metadata": {
    "collapsed": false
   },
   "outputs": [
    {
     "data": {
      "text/plain": [
       "[{u'elevation': 241.9638366699219,\n",
       "  u'location': {u'lat': 42.974049, u'lng': -81.205203},\n",
       "  u'resolution': 9.543951988220215},\n",
       " {u'elevation': 246.0401153564453,\n",
       "  u'location': {u'lat': 42.974298, u'lng': -81.195755},\n",
       "  u'resolution': 9.543951988220215}]"
      ]
     },
     "execution_count": 10,
     "metadata": {},
     "output_type": "execute_result"
    }
   ],
   "source": [
    "data['results'] # is a list"
   ]
  },
  {
   "cell_type": "code",
   "execution_count": 11,
   "metadata": {
    "collapsed": false
   },
   "outputs": [],
   "source": [
    "from pandas.io.json import json_normalize\n",
    "df =json_normalize(data['results'])"
   ]
  },
  {
   "cell_type": "code",
   "execution_count": 12,
   "metadata": {
    "collapsed": false
   },
   "outputs": [
    {
     "data": {
      "text/html": [
       "<div>\n",
       "<table border=\"1\" class=\"dataframe\">\n",
       "  <thead>\n",
       "    <tr style=\"text-align: right;\">\n",
       "      <th></th>\n",
       "      <th>elevation</th>\n",
       "      <th>location.lat</th>\n",
       "      <th>location.lng</th>\n",
       "      <th>resolution</th>\n",
       "    </tr>\n",
       "  </thead>\n",
       "  <tbody>\n",
       "    <tr>\n",
       "      <th>0</th>\n",
       "      <td>241.963837</td>\n",
       "      <td>42.974049</td>\n",
       "      <td>-81.205203</td>\n",
       "      <td>9.543952</td>\n",
       "    </tr>\n",
       "    <tr>\n",
       "      <th>1</th>\n",
       "      <td>246.040115</td>\n",
       "      <td>42.974298</td>\n",
       "      <td>-81.195755</td>\n",
       "      <td>9.543952</td>\n",
       "    </tr>\n",
       "  </tbody>\n",
       "</table>\n",
       "</div>"
      ],
      "text/plain": [
       "    elevation  location.lat  location.lng  resolution\n",
       "0  241.963837     42.974049    -81.205203    9.543952\n",
       "1  246.040115     42.974298    -81.195755    9.543952"
      ]
     },
     "execution_count": 12,
     "metadata": {},
     "output_type": "execute_result"
    }
   ],
   "source": [
    "df"
   ]
  },
  {
   "cell_type": "code",
   "execution_count": 13,
   "metadata": {
    "collapsed": true
   },
   "outputs": [],
   "source": [
    "#write dataframe into csv\n",
    "df.to_csv(\"GMapJson.csv\")"
   ]
  },
  {
   "cell_type": "code",
   "execution_count": null,
   "metadata": {
    "collapsed": true
   },
   "outputs": [],
   "source": []
  }
 ],
 "metadata": {
  "kernelspec": {
   "display_name": "Python 2",
   "language": "python",
   "name": "python2"
  },
  "language_info": {
   "codemirror_mode": {
    "name": "ipython",
    "version": 2
   },
   "file_extension": ".py",
   "mimetype": "text/x-python",
   "name": "python",
   "nbconvert_exporter": "python",
   "pygments_lexer": "ipython2",
   "version": "2.7.11"
  }
 },
 "nbformat": 4,
 "nbformat_minor": 0
}
