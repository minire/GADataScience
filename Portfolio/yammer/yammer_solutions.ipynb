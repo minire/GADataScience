{
 "cells": [
  {
   "cell_type": "markdown",
   "metadata": {},
   "source": [
    "## Yammer SQL analytics prompt \n",
    "\n",
    "prompt from Modeanalytics.com: \n",
    "\n",
    "The above chart shows the number of engaged users each week. Yammer defines engagement as having made some type of server call by interacting with the product (shown in the data as events of type “engagement”). Any point in this chart can be interpreted as “the number of users who logged at least one engagement event during the week starting on that date.”\n",
    "\n",
    "You are responsible for determining what caused the dip at the end of the chart shown above and, if appropriate, recommending solutions for the problem.\n",
    "\n",
    "Getting oriented\n",
    "\n",
    "Before you even touch the data, come up with a list of possible causes for the dip in retention shown in the chart above. Make a list and determine the order in which you will check them. Make sure to note how you will test each hypothesis. Think carefully about the criteria you use to order them and write down the criteria as well.\n",
    "\n",
    "Also, make sure you understand what the above chart shows and does not show.\n",
    "\n",
    "If you want to check your list of possible causes against ours, read the first part of the answer key.\n",
    "\n",
    "Digging in\n",
    "\n",
    "Once you have an ordered list of possible problems, it’s time to investigate.\n",
    "\n",
    "For this problem, you will need to use four tables. The tables names and column definitions are listed below—click a table name to view information about that table. Note: this data is fake and was generated for the purpose of this case study. It is similar in structure to Yammer’s actual data, but for privacy and security reasons it is not real.\n",
    "\n",
    "\n",
    "Table 1: Users\n",
    "\n",
    "Table 2: Events\n",
    "\n",
    "Table 3: Email Events\n",
    "\n",
    "Table 4: Rollup Periods\n",
    "\n",
    "Start to work your way through your list of hypotheses in order to determine the source of the drop in engagement. As you explore, make sure to save your work. It may be helpful to start with the code that produces the above query, which you can find by clicking the link in the footer of the chart and navigating to the “query” tab.\n",
    "\n",
    "Answer the following questions:\n",
    "\n",
    "Do the answers to any of your original hypotheses lead you to further questions?\n",
    "If so, what are they and how will you test them?\n",
    "If they are questions that you can’t answer using data alone, how would you go about answering them (hypothetically, assuming you actually worked at this company)?\n",
    "What seems like the most likely cause of the engagement dip?\n",
    "What, if anything, should the company do in response?\n",
    "        \n",
    " \n"
   ]
  },
  {
   "cell_type": "markdown",
   "metadata": {},
   "source": [
    "## Problem\n",
    "### List of potential causes: \n",
    "    \n",
    "1. Server problem \n",
    "2. Major holidays or vacation\n",
    "3. Feature bug, change or deletion \n",
    "4. Change in customer acquisition and user engagement \n",
    "5. Data collected is inaccurate \n",
    "\n",
    "### Brainstorming ways to test the potential causes:\n",
    "\n",
    "1. Server problem:\n",
    "    * investigate automated systems data i.e. auto generated emails\n",
    "    * compare event types, is there an overal suppression of events? or is it specific to one feature? \n",
    "        * overall suppression is more likely a server problem (could also be holiday, vacation, end of an ad campaign) \n",
    "        * specific feature suppression could still be a server problem but may also be explained by a feature change/deletion\n",
    "2. Major holidays or vacation:\n",
    "    * check calendar of international holidays against dip to determine if a holiday can account for some of the decrease \n",
    "    * check demographics of user base and vacation behavior, i.e. many Americans take vacation in the summer.  \n",
    "3. Feature bug, change or deletion: \n",
    "    * similar to server problem, check the event types and determine if there is suppression in a specific feature. Was this feature recently changed? \n",
    "4. Change in customer acquisition and user engagement: \n",
    "    * Look at the number of new subscriptions before and after the peak in engagement (peak - Aug 4) \n",
    "    \n",
    "5. Data collected is inaccurate: \n",
    "    * similar to server problem, check the event types and determine if their is suppression in a specific feature. Is there a bug in the code? look for null values? \n",
    "    \n",
    "### List of Queries and Comparisons: \n",
    "\n",
    "* COUNT of accounts created by day\n",
    "* COUNT Events by day and type of events by day, a decrease in a specific event type could indicate a problematic feature \n",
    "* COUNT of emails sent by day by types, look for email types that are autogenerated for every user as a metric for server activity \n",
    "* "
   ]
  },
  {
   "cell_type": "markdown",
   "metadata": {},
   "source": [
    "## Conclusions\n",
    "\n"
   ]
  }
 ],
 "metadata": {
  "kernelspec": {
   "display_name": "Python 2",
   "language": "python",
   "name": "python2"
  },
  "language_info": {
   "codemirror_mode": {
    "name": "ipython",
    "version": 2
   },
   "file_extension": ".py",
   "mimetype": "text/x-python",
   "name": "python",
   "nbconvert_exporter": "python",
   "pygments_lexer": "ipython2",
   "version": "2.7.13"
  }
 },
 "nbformat": 4,
 "nbformat_minor": 2
}
