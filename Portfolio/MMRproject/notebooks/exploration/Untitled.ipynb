{
 "cells": [
  {
   "cell_type": "markdown",
   "metadata": {},
   "source": [
    "#['MMR100K', 'MMRYEAR', 'MMR%', 'MMRBinary', 'ABRYEAR', 'REGION', 'ABR1000', 'COUNTRY', 'ABR%', 'Abortion_scale', 'AOD_MLE', 'AODYEAR', 'AOD_FMLE', 'AOD_BTSX', 'GNI', 'GNIYEAR', 'ED_FMLE%', 'ED_MLE%', 'EDYEARMLE', 'EDFMLE_MLE%', 'cell_Subscription%', 'cellYEAR', 'contraceptives%', 'contraYEAR', 'attend%', 'attendYEAR', 'prenat%', 'prenatYEAR', 'homicide100K', 'homicideYEAR']"
   ]
  }
 ],
 "metadata": {
  "kernelspec": {
   "display_name": "Python [Root]",
   "language": "python",
   "name": "Python [Root]"
  },
  "language_info": {
   "codemirror_mode": {
    "name": "ipython",
    "version": 2
   },
   "file_extension": ".py",
   "mimetype": "text/x-python",
   "name": "python",
   "nbconvert_exporter": "python",
   "pygments_lexer": "ipython2",
   "version": "2.7.12"
  }
 },
 "nbformat": 4,
 "nbformat_minor": 0
}
