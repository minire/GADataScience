{
 "cells": [
  {
   "cell_type": "markdown",
   "metadata": {},
   "source": [
    "This notebook is for exploration of WHO data with a link to WHO/GHO API resources below"
   ]
  },
  {
   "cell_type": "code",
   "execution_count": null,
   "metadata": {
    "collapsed": true
   },
   "outputs": [],
   "source": []
  },
  {
   "cell_type": "code",
   "execution_count": 40,
   "metadata": {
    "collapsed": true
   },
   "outputs": [],
   "source": [
    "#http://apps.who.int/gho/data/node.resources.api\n"
   ]
  },
  {
   "cell_type": "code",
   "execution_count": 2,
   "metadata": {
    "collapsed": true
   },
   "outputs": [],
   "source": [
    "import requests\n",
    "import pandas as pd \n",
    "import json"
   ]
  },
  {
   "cell_type": "code",
   "execution_count": 3,
   "metadata": {
    "collapsed": false
   },
   "outputs": [],
   "source": [
    "# grabbing data for the adolescent birth rate 'MDG_0000000003'    \n",
    "B = requests.get('http://apps.who.int/gho/athena/api/GHO/MDG_0000000003.json')\n"
   ]
  },
  {
   "cell_type": "code",
   "execution_count": 4,
   "metadata": {
    "collapsed": false
   },
   "outputs": [
    {
     "data": {
      "text/plain": [
       "[u'attribute', u'fact', u'dimension', u'copyright', u'dataset']"
      ]
     },
     "execution_count": 4,
     "metadata": {},
     "output_type": "execute_result"
    }
   ],
   "source": [
    "#Converting data into json format\n",
    "data = B.json()\n",
    "data.keys()"
   ]
  },
  {
   "cell_type": "code",
   "execution_count": 5,
   "metadata": {
    "collapsed": true
   },
   "outputs": [],
   "source": [
    "#numeric values for adolescent brith rate are contained in data['fact'], making a data frame for this key in 'data'"
   ]
  },
  {
   "cell_type": "code",
   "execution_count": 6,
   "metadata": {
    "collapsed": false
   },
   "outputs": [
    {
     "data": {
      "text/plain": [
       "{u'Dim': [{u'category': u'PUBLISHSTATE', u'code': u'PUBLISHED'},\n",
       "  {u'category': u'YEAR', u'code': u'2012'},\n",
       "  {u'category': u'COUNTRY', u'code': u'BOL'},\n",
       "  {u'category': u'SEX', u'code': u'FMLE'},\n",
       "  {u'category': u'GHO', u'code': u'MDG_0000000003'},\n",
       "  {u'category': u'WORLDBANKINCOMEGROUP', u'code': u'WB_LMI'},\n",
       "  {u'category': u'REGION', u'code': u'AMR'}],\n",
       " u'comments': u'Census National Statistics',\n",
       " u'dataset': u'CYCU',\n",
       " u'effective_date': u'2016-05-06',\n",
       " u'end_date': u'2900-12-31',\n",
       " u'fact_id': 13218505,\n",
       " u'published': True,\n",
       " u'value': {u'display': u'115.6',\n",
       "  u'high': None,\n",
       "  u'low': None,\n",
       "  u'numeric': 115.6}}"
      ]
     },
     "execution_count": 6,
     "metadata": {},
     "output_type": "execute_result"
    }
   ],
   "source": [
    "data['fact'][1]"
   ]
  },
  {
   "cell_type": "code",
   "execution_count": 7,
   "metadata": {
    "collapsed": false
   },
   "outputs": [
    {
     "data": {
      "text/plain": [
       "Index([u'Dim', u'comments', u'dataset', u'effective_date', u'end_date',\n",
       "       u'fact_id', u'published', u'value'],\n",
       "      dtype='object')"
      ]
     },
     "execution_count": 7,
     "metadata": {},
     "output_type": "execute_result"
    }
   ],
   "source": [
    "facts = data['fact']\n",
    "facts = pd.DataFrame(facts)\n",
    "facts.keys()"
   ]
  },
  {
   "cell_type": "code",
   "execution_count": 8,
   "metadata": {
    "collapsed": false
   },
   "outputs": [
    {
     "data": {
      "text/html": [
       "<div>\n",
       "<table border=\"1\" class=\"dataframe\">\n",
       "  <thead>\n",
       "    <tr style=\"text-align: right;\">\n",
       "      <th></th>\n",
       "      <th>Dim</th>\n",
       "      <th>comments</th>\n",
       "      <th>dataset</th>\n",
       "      <th>effective_date</th>\n",
       "      <th>end_date</th>\n",
       "      <th>fact_id</th>\n",
       "      <th>published</th>\n",
       "      <th>value</th>\n",
       "    </tr>\n",
       "  </thead>\n",
       "  <tbody>\n",
       "    <tr>\n",
       "      <th>0</th>\n",
       "      <td>[{u'category': u'PUBLISHSTATE', u'code': u'PUB...</td>\n",
       "      <td>Survey 2014 DHS</td>\n",
       "      <td>CYCU</td>\n",
       "      <td>2016-05-06</td>\n",
       "      <td>2900-12-31</td>\n",
       "      <td>13218498</td>\n",
       "      <td>True</td>\n",
       "      <td>{u'high': None, u'display': u'113.0', u'numeri...</td>\n",
       "    </tr>\n",
       "    <tr>\n",
       "      <th>1</th>\n",
       "      <td>[{u'category': u'PUBLISHSTATE', u'code': u'PUB...</td>\n",
       "      <td>Census National Statistics</td>\n",
       "      <td>CYCU</td>\n",
       "      <td>2016-05-06</td>\n",
       "      <td>2900-12-31</td>\n",
       "      <td>13218505</td>\n",
       "      <td>True</td>\n",
       "      <td>{u'high': None, u'display': u'115.6', u'numeri...</td>\n",
       "    </tr>\n",
       "    <tr>\n",
       "      <th>2</th>\n",
       "      <td>[{u'category': u'PUBLISHSTATE', u'code': u'PUB...</td>\n",
       "      <td>Estimate National statistics</td>\n",
       "      <td>CYCU</td>\n",
       "      <td>2016-05-06</td>\n",
       "      <td>2900-12-31</td>\n",
       "      <td>13218508</td>\n",
       "      <td>True</td>\n",
       "      <td>{u'high': None, u'display': u'64.8', u'numeric...</td>\n",
       "    </tr>\n",
       "    <tr>\n",
       "      <th>3</th>\n",
       "      <td>[{u'category': u'GHO', u'code': u'MDG_00000000...</td>\n",
       "      <td>Survey 2014 DHS</td>\n",
       "      <td>CYCU</td>\n",
       "      <td>2016-05-06</td>\n",
       "      <td>2900-12-31</td>\n",
       "      <td>13218514</td>\n",
       "      <td>True</td>\n",
       "      <td>{u'high': None, u'display': u'57.0', u'numeric...</td>\n",
       "    </tr>\n",
       "    <tr>\n",
       "      <th>4</th>\n",
       "      <td>[{u'category': u'GHO', u'code': u'MDG_00000000...</td>\n",
       "      <td>Registration National Statistics</td>\n",
       "      <td>CYCU</td>\n",
       "      <td>2016-05-06</td>\n",
       "      <td>2900-12-31</td>\n",
       "      <td>13218516</td>\n",
       "      <td>True</td>\n",
       "      <td>{u'high': None, u'display': u'12.6', u'numeric...</td>\n",
       "    </tr>\n",
       "  </tbody>\n",
       "</table>\n",
       "</div>"
      ],
      "text/plain": [
       "                                                 Dim  \\\n",
       "0  [{u'category': u'PUBLISHSTATE', u'code': u'PUB...   \n",
       "1  [{u'category': u'PUBLISHSTATE', u'code': u'PUB...   \n",
       "2  [{u'category': u'PUBLISHSTATE', u'code': u'PUB...   \n",
       "3  [{u'category': u'GHO', u'code': u'MDG_00000000...   \n",
       "4  [{u'category': u'GHO', u'code': u'MDG_00000000...   \n",
       "\n",
       "                           comments dataset effective_date    end_date  \\\n",
       "0                   Survey 2014 DHS    CYCU     2016-05-06  2900-12-31   \n",
       "1        Census National Statistics    CYCU     2016-05-06  2900-12-31   \n",
       "2      Estimate National statistics    CYCU     2016-05-06  2900-12-31   \n",
       "3                   Survey 2014 DHS    CYCU     2016-05-06  2900-12-31   \n",
       "4  Registration National Statistics    CYCU     2016-05-06  2900-12-31   \n",
       "\n",
       "    fact_id published                                              value  \n",
       "0  13218498      True  {u'high': None, u'display': u'113.0', u'numeri...  \n",
       "1  13218505      True  {u'high': None, u'display': u'115.6', u'numeri...  \n",
       "2  13218508      True  {u'high': None, u'display': u'64.8', u'numeric...  \n",
       "3  13218514      True  {u'high': None, u'display': u'57.0', u'numeric...  \n",
       "4  13218516      True  {u'high': None, u'display': u'12.6', u'numeric...  "
      ]
     },
     "execution_count": 8,
     "metadata": {},
     "output_type": "execute_result"
    }
   ],
   "source": [
    "facts.head()"
   ]
  },
  {
   "cell_type": "code",
   "execution_count": 9,
   "metadata": {
    "collapsed": false
   },
   "outputs": [
    {
     "data": {
      "text/plain": [
       "{u'display': u'113.0', u'high': None, u'low': None, u'numeric': 113.0}"
      ]
     },
     "execution_count": 9,
     "metadata": {},
     "output_type": "execute_result"
    }
   ],
   "source": [
    "facts.value[0]"
   ]
  },
  {
   "cell_type": "code",
   "execution_count": 10,
   "metadata": {
    "collapsed": false
   },
   "outputs": [
    {
     "data": {
      "text/html": [
       "<div>\n",
       "<table border=\"1\" class=\"dataframe\">\n",
       "  <thead>\n",
       "    <tr style=\"text-align: right;\">\n",
       "      <th></th>\n",
       "      <th>display</th>\n",
       "      <th>high</th>\n",
       "      <th>low</th>\n",
       "      <th>numeric</th>\n",
       "    </tr>\n",
       "  </thead>\n",
       "  <tbody>\n",
       "    <tr>\n",
       "      <th>0</th>\n",
       "      <td>113.0</td>\n",
       "      <td>None</td>\n",
       "      <td>None</td>\n",
       "      <td>113.0</td>\n",
       "    </tr>\n",
       "    <tr>\n",
       "      <th>1</th>\n",
       "      <td>115.6</td>\n",
       "      <td>None</td>\n",
       "      <td>None</td>\n",
       "      <td>115.6</td>\n",
       "    </tr>\n",
       "    <tr>\n",
       "      <th>2</th>\n",
       "      <td>64.8</td>\n",
       "      <td>None</td>\n",
       "      <td>None</td>\n",
       "      <td>64.8</td>\n",
       "    </tr>\n",
       "    <tr>\n",
       "      <th>3</th>\n",
       "      <td>57.0</td>\n",
       "      <td>None</td>\n",
       "      <td>None</td>\n",
       "      <td>57.0</td>\n",
       "    </tr>\n",
       "    <tr>\n",
       "      <th>4</th>\n",
       "      <td>12.6</td>\n",
       "      <td>None</td>\n",
       "      <td>None</td>\n",
       "      <td>12.6</td>\n",
       "    </tr>\n",
       "  </tbody>\n",
       "</table>\n",
       "</div>"
      ],
      "text/plain": [
       "  display  high   low  numeric\n",
       "0   113.0  None  None    113.0\n",
       "1   115.6  None  None    115.6\n",
       "2    64.8  None  None     64.8\n",
       "3    57.0  None  None     57.0\n",
       "4    12.6  None  None     12.6"
      ]
     },
     "execution_count": 10,
     "metadata": {},
     "output_type": "execute_result"
    }
   ],
   "source": [
    "#extracting numeric values from adolescent birth rate table data.fact.values\n",
    "\n",
    "data2 = list(facts.value)\n",
    "values = pd.DataFrame(data=data2)\n",
    "values.head()\n",
    "\n"
   ]
  },
  {
   "cell_type": "code",
   "execution_count": 11,
   "metadata": {
    "collapsed": false,
    "scrolled": true
   },
   "outputs": [
    {
     "data": {
      "text/plain": [
       "[{u'category': u'PUBLISHSTATE', u'code': u'PUBLISHED'},\n",
       " {u'category': u'SEX', u'code': u'FMLE'},\n",
       " {u'category': u'WORLDBANKINCOMEGROUP', u'code': u'WB_LMI'},\n",
       " {u'category': u'REGION', u'code': u'SEAR'},\n",
       " {u'category': u'GHO', u'code': u'MDG_0000000003'},\n",
       " {u'category': u'COUNTRY', u'code': u'BGD'},\n",
       " {u'category': u'YEAR', u'code': u'2013'}]"
      ]
     },
     "execution_count": 11,
     "metadata": {},
     "output_type": "execute_result"
    }
   ],
   "source": [
    "facts.Dim[0]"
   ]
  },
  {
   "cell_type": "code",
   "execution_count": 12,
   "metadata": {
    "collapsed": false
   },
   "outputs": [
    {
     "data": {
      "text/html": [
       "<div>\n",
       "<table border=\"1\" class=\"dataframe\">\n",
       "  <thead>\n",
       "    <tr style=\"text-align: right;\">\n",
       "      <th></th>\n",
       "      <th>Dim</th>\n",
       "      <th>comments</th>\n",
       "      <th>dataset</th>\n",
       "      <th>effective_date</th>\n",
       "      <th>end_date</th>\n",
       "      <th>fact_id</th>\n",
       "      <th>published</th>\n",
       "      <th>value</th>\n",
       "      <th>COUNTRY</th>\n",
       "      <th>YEAR</th>\n",
       "      <th>display</th>\n",
       "      <th>high</th>\n",
       "      <th>low</th>\n",
       "      <th>numeric</th>\n",
       "    </tr>\n",
       "  </thead>\n",
       "  <tbody>\n",
       "    <tr>\n",
       "      <th>0</th>\n",
       "      <td>[{u'category': u'PUBLISHSTATE', u'code': u'PUB...</td>\n",
       "      <td>Survey 2014 DHS</td>\n",
       "      <td>CYCU</td>\n",
       "      <td>2016-05-06</td>\n",
       "      <td>2900-12-31</td>\n",
       "      <td>13218498</td>\n",
       "      <td>True</td>\n",
       "      <td>{u'high': None, u'display': u'113.0', u'numeri...</td>\n",
       "      <td>BGD</td>\n",
       "      <td>2013</td>\n",
       "      <td>113.0</td>\n",
       "      <td>None</td>\n",
       "      <td>None</td>\n",
       "      <td>113.0</td>\n",
       "    </tr>\n",
       "    <tr>\n",
       "      <th>1</th>\n",
       "      <td>[{u'category': u'PUBLISHSTATE', u'code': u'PUB...</td>\n",
       "      <td>Census National Statistics</td>\n",
       "      <td>CYCU</td>\n",
       "      <td>2016-05-06</td>\n",
       "      <td>2900-12-31</td>\n",
       "      <td>13218505</td>\n",
       "      <td>True</td>\n",
       "      <td>{u'high': None, u'display': u'115.6', u'numeri...</td>\n",
       "      <td>BOL</td>\n",
       "      <td>2012</td>\n",
       "      <td>115.6</td>\n",
       "      <td>None</td>\n",
       "      <td>None</td>\n",
       "      <td>115.6</td>\n",
       "    </tr>\n",
       "    <tr>\n",
       "      <th>2</th>\n",
       "      <td>[{u'category': u'PUBLISHSTATE', u'code': u'PUB...</td>\n",
       "      <td>Estimate National statistics</td>\n",
       "      <td>CYCU</td>\n",
       "      <td>2016-05-06</td>\n",
       "      <td>2900-12-31</td>\n",
       "      <td>13218508</td>\n",
       "      <td>True</td>\n",
       "      <td>{u'high': None, u'display': u'64.8', u'numeric...</td>\n",
       "      <td>BRA</td>\n",
       "      <td>2011</td>\n",
       "      <td>64.8</td>\n",
       "      <td>None</td>\n",
       "      <td>None</td>\n",
       "      <td>64.8</td>\n",
       "    </tr>\n",
       "    <tr>\n",
       "      <th>3</th>\n",
       "      <td>[{u'category': u'GHO', u'code': u'MDG_00000000...</td>\n",
       "      <td>Survey 2014 DHS</td>\n",
       "      <td>CYCU</td>\n",
       "      <td>2016-05-06</td>\n",
       "      <td>2900-12-31</td>\n",
       "      <td>13218514</td>\n",
       "      <td>True</td>\n",
       "      <td>{u'high': None, u'display': u'57.0', u'numeric...</td>\n",
       "      <td>KHM</td>\n",
       "      <td>2013</td>\n",
       "      <td>57.0</td>\n",
       "      <td>None</td>\n",
       "      <td>None</td>\n",
       "      <td>57.0</td>\n",
       "    </tr>\n",
       "    <tr>\n",
       "      <th>4</th>\n",
       "      <td>[{u'category': u'GHO', u'code': u'MDG_00000000...</td>\n",
       "      <td>Registration National Statistics</td>\n",
       "      <td>CYCU</td>\n",
       "      <td>2016-05-06</td>\n",
       "      <td>2900-12-31</td>\n",
       "      <td>13218516</td>\n",
       "      <td>True</td>\n",
       "      <td>{u'high': None, u'display': u'12.6', u'numeric...</td>\n",
       "      <td>CAN</td>\n",
       "      <td>2011</td>\n",
       "      <td>12.6</td>\n",
       "      <td>None</td>\n",
       "      <td>None</td>\n",
       "      <td>12.6</td>\n",
       "    </tr>\n",
       "  </tbody>\n",
       "</table>\n",
       "</div>"
      ],
      "text/plain": [
       "                                                 Dim  \\\n",
       "0  [{u'category': u'PUBLISHSTATE', u'code': u'PUB...   \n",
       "1  [{u'category': u'PUBLISHSTATE', u'code': u'PUB...   \n",
       "2  [{u'category': u'PUBLISHSTATE', u'code': u'PUB...   \n",
       "3  [{u'category': u'GHO', u'code': u'MDG_00000000...   \n",
       "4  [{u'category': u'GHO', u'code': u'MDG_00000000...   \n",
       "\n",
       "                           comments dataset effective_date    end_date  \\\n",
       "0                   Survey 2014 DHS    CYCU     2016-05-06  2900-12-31   \n",
       "1        Census National Statistics    CYCU     2016-05-06  2900-12-31   \n",
       "2      Estimate National statistics    CYCU     2016-05-06  2900-12-31   \n",
       "3                   Survey 2014 DHS    CYCU     2016-05-06  2900-12-31   \n",
       "4  Registration National Statistics    CYCU     2016-05-06  2900-12-31   \n",
       "\n",
       "    fact_id published                                              value  \\\n",
       "0  13218498      True  {u'high': None, u'display': u'113.0', u'numeri...   \n",
       "1  13218505      True  {u'high': None, u'display': u'115.6', u'numeri...   \n",
       "2  13218508      True  {u'high': None, u'display': u'64.8', u'numeric...   \n",
       "3  13218514      True  {u'high': None, u'display': u'57.0', u'numeric...   \n",
       "4  13218516      True  {u'high': None, u'display': u'12.6', u'numeric...   \n",
       "\n",
       "  COUNTRY  YEAR display  high   low  numeric  \n",
       "0     BGD  2013   113.0  None  None    113.0  \n",
       "1     BOL  2012   115.6  None  None    115.6  \n",
       "2     BRA  2011    64.8  None  None     64.8  \n",
       "3     KHM  2013    57.0  None  None     57.0  \n",
       "4     CAN  2011    12.6  None  None     12.6  "
      ]
     },
     "execution_count": 12,
     "metadata": {},
     "output_type": "execute_result"
    }
   ],
   "source": [
    "#extracting country code and year from the dimension column \n",
    "\n",
    "\n",
    "def extract(A):\n",
    "    for A in foo:\n",
    "        if A['category'] == 'COUNTRY':\n",
    "            return A['code'] \n",
    "    \n",
    "facts['COUNTRY'] = [extract(foo) for foo in facts ['Dim']]\n",
    "\n",
    "def extract(A):\n",
    "    for A in foo:\n",
    "        if A['category'] == 'YEAR':\n",
    "            return A['code'] \n",
    "    \n",
    "facts['YEAR'] = [extract(foo) for foo in facts ['Dim']]\n",
    "           \n",
    "AdolBR = pd.concat([facts, values], axis=1)\n",
    "AdolBR.head()"
   ]
  },
  {
   "cell_type": "code",
   "execution_count": 13,
   "metadata": {
    "collapsed": false
   },
   "outputs": [
    {
     "data": {
      "text/plain": [
       "'AdolBR.iloc[30]\\nAdolBR.iloc[30][0]\\n\\nAdolBR.iloc[100]\\nAdolBR.iloc[100][0]\\n\\nAdolBR.iloc[188]\\nAdolBR.iloc[188][0]'"
      ]
     },
     "execution_count": 13,
     "metadata": {},
     "output_type": "execute_result"
    }
   ],
   "source": [
    "#checking rows for alignment \n",
    "\n",
    "\"\"\"AdolBR.iloc[30]\n",
    "AdolBR.iloc[30][0]\n",
    "\n",
    "AdolBR.iloc[100]\n",
    "AdolBR.iloc[100][0]\n",
    "\n",
    "AdolBR.iloc[188]\n",
    "AdolBR.iloc[188][0]\"\"\""
   ]
  },
  {
   "cell_type": "code",
   "execution_count": 14,
   "metadata": {
    "collapsed": false
   },
   "outputs": [],
   "source": [
    "#deleting unecessary feature columns, changing names and index  \n",
    "AdolBR.drop(['Dim', 'comments', 'dataset', 'effective_date', 'end_date', 'published', 'value', 'display'], axis=1, inplace=True)\n",
    "AdolBR = AdolBR.rename(columns = {'COUNTRY' : 'ISO'})\n"
   ]
  },
  {
   "cell_type": "code",
   "execution_count": 15,
   "metadata": {
    "collapsed": false
   },
   "outputs": [
    {
     "data": {
      "text/html": [
       "<div>\n",
       "<table border=\"1\" class=\"dataframe\">\n",
       "  <thead>\n",
       "    <tr style=\"text-align: right;\">\n",
       "      <th></th>\n",
       "      <th>fact_id</th>\n",
       "      <th>YEAR</th>\n",
       "      <th>high</th>\n",
       "      <th>low</th>\n",
       "      <th>numeric</th>\n",
       "    </tr>\n",
       "    <tr>\n",
       "      <th>ISO</th>\n",
       "      <th></th>\n",
       "      <th></th>\n",
       "      <th></th>\n",
       "      <th></th>\n",
       "      <th></th>\n",
       "    </tr>\n",
       "  </thead>\n",
       "  <tbody>\n",
       "    <tr>\n",
       "      <th>BGD</th>\n",
       "      <td>13218498</td>\n",
       "      <td>2013</td>\n",
       "      <td>None</td>\n",
       "      <td>None</td>\n",
       "      <td>113.0</td>\n",
       "    </tr>\n",
       "    <tr>\n",
       "      <th>BOL</th>\n",
       "      <td>13218505</td>\n",
       "      <td>2012</td>\n",
       "      <td>None</td>\n",
       "      <td>None</td>\n",
       "      <td>115.6</td>\n",
       "    </tr>\n",
       "    <tr>\n",
       "      <th>BRA</th>\n",
       "      <td>13218508</td>\n",
       "      <td>2011</td>\n",
       "      <td>None</td>\n",
       "      <td>None</td>\n",
       "      <td>64.8</td>\n",
       "    </tr>\n",
       "    <tr>\n",
       "      <th>KHM</th>\n",
       "      <td>13218514</td>\n",
       "      <td>2013</td>\n",
       "      <td>None</td>\n",
       "      <td>None</td>\n",
       "      <td>57.0</td>\n",
       "    </tr>\n",
       "    <tr>\n",
       "      <th>CAN</th>\n",
       "      <td>13218516</td>\n",
       "      <td>2011</td>\n",
       "      <td>None</td>\n",
       "      <td>None</td>\n",
       "      <td>12.6</td>\n",
       "    </tr>\n",
       "  </tbody>\n",
       "</table>\n",
       "</div>"
      ],
      "text/plain": [
       "      fact_id  YEAR  high   low  numeric\n",
       "ISO                                     \n",
       "BGD  13218498  2013  None  None    113.0\n",
       "BOL  13218505  2012  None  None    115.6\n",
       "BRA  13218508  2011  None  None     64.8\n",
       "KHM  13218514  2013  None  None     57.0\n",
       "CAN  13218516  2011  None  None     12.6"
      ]
     },
     "execution_count": 15,
     "metadata": {},
     "output_type": "execute_result"
    }
   ],
   "source": [
    "indexed_AdolBR = AdolBR.set_index(['ISO'])\n",
    "indexed_AdolBR.head()"
   ]
  },
  {
   "cell_type": "code",
   "execution_count": 16,
   "metadata": {
    "collapsed": true
   },
   "outputs": [],
   "source": [
    "#country names are contained in data['dimension'], the following cells extract the country names "
   ]
  },
  {
   "cell_type": "code",
   "execution_count": 17,
   "metadata": {
    "collapsed": false
   },
   "outputs": [
    {
     "data": {
      "text/plain": [
       "'dimension = data[\\'dimension\\']\\n\\nfor foo in dimension:\\n    if foo[\\'label\\'] == \"COUNTRY\":\\n        print foo\\n        \\ndimension = data[\\'dimension\\']\\nfor foo in dimension:\\n    if foo[\\'label\\'] == \"COUNTRY\":\\n        print foo.keys()\\n        \\ndimension = data[\\'dimension\\']\\nfor foo in dimension:\\n    for boo in foo[\\'code\\']: \\n        print boo.keys() '"
      ]
     },
     "execution_count": 17,
     "metadata": {},
     "output_type": "execute_result"
    }
   ],
   "source": [
    "#dimension data exploration\n",
    "\n",
    "'''dimension = data['dimension']\n",
    "\n",
    "for foo in dimension:\n",
    "    if foo['label'] == \"COUNTRY\":\n",
    "        print foo\n",
    "        \n",
    "dimension = data['dimension']\n",
    "for foo in dimension:\n",
    "    if foo['label'] == \"COUNTRY\":\n",
    "        print foo.keys()\n",
    "        \n",
    "dimension = data['dimension']\n",
    "for foo in dimension:\n",
    "    for boo in foo['code']: \n",
    "        print boo.keys() '''"
   ]
  },
  {
   "cell_type": "code",
   "execution_count": 18,
   "metadata": {
    "collapsed": false
   },
   "outputs": [
    {
     "name": "stdout",
     "output_type": "stream",
     "text": [
      "{u'DZA': u'Algeria', u'AGO': u'Angola', u'EGY': u'Egypt', u'BGD': u'Bangladesh', u'NER': u'Niger', u'QAT': u'Qatar', u'NAM': u'Namibia', u'BGR': u'Bulgaria', u'BOL': u'Bolivia (Plurinational State of)', u'GHA': u'Ghana', u'PAK': u'Pakistan', u'CPV': u'Cabo Verde', u'JOR': u'Jordan', u'LBR': u'Liberia', u'LBY': u'Libya', u'MYS': u'Malaysia', u'PRK': u\"Democratic People's Republic of Korea\", u'TZA': u'United Republic of Tanzania', u'BWA': u'Botswana', u'KHM': u'Cambodia', u'TTO': u'Trinidad and Tobago', u'PRY': u'Paraguay', u'SAU': u'Saudi Arabia', u'LBN': u'Lebanon', u'SVN': u'Slovenia', u'BFA': u'Burkina Faso', u'SVK': u'Slovakia', u'MRT': u'Mauritania', u'HRV': u'Croatia', u'CHL': u'Chile', u'CHN': u'China', u'KNA': u'Saint Kitts and Nevis', u'JAM': u'Jamaica', u'SMR': u'San Marino', u'DJI': u'Djibouti', u'GIN': u'Guinea', u'FIN': u'Finland', u'URY': u'Uruguay', u'THA': u'Thailand', u'SYC': u'Seychelles', u'NPL': u'Nepal', u'LAO': u\"Lao People's Democratic Republic\", u'YEM': u'Yemen', u'PHL': u'Philippines', u'ZAF': u'South Africa', u'KIR': u'Kiribati', u'TGO': u'Togo', u'SYR': u'Syrian Arab Republic', u'NIC': u'Nicaragua', u'MLT': u'Malta', u'KAZ': u'Kazakhstan', u'NIU': u'Niue', u'DMA': u'Dominica', u'BEN': u'Benin', u'NGA': u'Nigeria', u'BEL': u'Belgium', u'DEU': u'Germany', u'LKA': u'Sri Lanka', u'GBR': u'United Kingdom of Great Britain and Northern Ireland', u'GUY': u'Guyana', u'CRI': u'Costa Rica', u'COK': u'Cook Islands', u'MAR': u'Morocco', u'LSO': u'Lesotho', u'HUN': u'Hungary', u'TKM': u'Turkmenistan', u'SUR': u'Suriname', u'NLD': u'Netherlands', u'TCD': u'Chad', u'GEO': u'Georgia', u'ROU': u'Romania', u'MNG': u'Mongolia', u'MHL': u'Marshall Islands', u'BLZ': u'Belize', u'MMR': u'Myanmar', u'AFG': u'Afghanistan', u'BDI': u'Burundi', u'BLR': u'Belarus', u'GRD': u'Grenada', u'GRC': u'Greece', u'MNE': u'Montenegro', u'AND': u'Andorra', u'MOZ': u'Mozambique', u'TJK': u'Tajikistan', u'HTI': u'Haiti', u'MEX': u'Mexico', u'ZWE': u'Zimbabwe', u'LCA': u'Saint Lucia', u'IND': u'India', u'LVA': u'Latvia', u'BTN': u'Bhutan', u'VCT': u'Saint Vincent and the Grenadines', u'VNM': u'Viet Nam', u'NOR': u'Norway', u'CZE': u'Czech Republic', u'ATG': u'Antigua and Barbuda', u'FJI': u'Fiji', u'HND': u'Honduras', u'MUS': u'Mauritius', u'DOM': u'Dominican Republic', u'LUX': u'Luxembourg', u'ISR': u'Israel', u'FSM': u'Micronesia (Federated States of)', u'PER': u'Peru', u'IDN': u'Indonesia', u'VUT': u'Vanuatu', u'MKD': u'The former Yugoslav republic of Macedonia', u'COD': u'Democratic Republic of the Congo', u'COG': u'Congo', u'ISL': u'Iceland', u'ETH': u'Ethiopia', u'COM': u'Comoros', u'COL': u'Colombia', u'PRT': u'Portugal', u'MDA': u'Republic of Moldova', u'STP': u'Sao Tome and Principe', u'MDG': u'Madagascar', u'ECU': u'Ecuador', u'SEN': u'Senegal', u'MDV': u'Maldives', u'SRB': u'Serbia', u'FRA': u'France', u'LTU': u'Lithuania', u'RWA': u'Rwanda', u'ZMB': u'Zambia', u'GMB': u'Gambia', u'GTM': u'Guatemala', u'DNK': u'Denmark', u'UKR': u'Ukraine', u'AUS': u'Australia', u'AUT': u'Austria', u'VEN': u'Venezuela (Bolivarian Republic of)', u'PLW': u'Palau', u'KEN': u'Kenya', u'TUR': u'Turkey', u'ALB': u'Albania', u'OMN': u'Oman', u'TUV': u'Tuvalu', u'ITA': u'Italy', u'BRN': u'Brunei Darussalam', u'TUN': u'Tunisia', u'RUS': u'Russian Federation', None: u'Female', u'BRB': u'Barbados', u'BRA': u'Brazil', u'CIV': u\"Cote d'Ivoire\", u'TLS': u'Timor-Leste', u'GNQ': u'Equatorial Guinea', u'USA': u'United States of America', u'WSM': u'Samoa', u'AZE': u'Azerbaijan', u'GNB': u'Guinea-Bissau', u'SWZ': u'Swaziland', u'TON': u'Tonga', u'CAN': u'Canada', u'KOR': u'Republic of Korea', u'CAF': u'Central African Republic', u'CHE': u'Switzerland', u'CYP': u'Cyprus', u'BIH': u'Bosnia and Herzegovina', u'SGP': u'Singapore', u'SOM': u'Somalia', u'UZB': u'Uzbekistan', u'CMR': u'Cameroon', u'POL': u'Poland', u'KWT': u'Kuwait', u'ERI': u'Eritrea', u'GAB': u'Gabon', u'ARE': u'United Arab Emirates', u'EST': u'Estonia', u'MWI': u'Malawi', u'ESP': u'Spain', u'IRQ': u'Iraq', u'SLV': u'El Salvador', u'MLI': u'Mali', u'IRL': u'Ireland', u'IRN': u'Iran (Islamic Republic of)', u'SSD': u'South Sudan', u'SLE': u'Sierra Leone', u'PAN': u'Panama', u'SDN': u'Sudan', u'SLB': u'Solomon Islands', u'NZL': u'New Zealand', u'JPN': u'Japan', u'KGZ': u'Kyrgyzstan', u'UGA': u'Uganda', u'PNG': u'Papua New Guinea', u'ARG': u'Argentina', u'SWE': u'Sweden', u'BHS': u'Bahamas', u'BHR': u'Bahrain', u'ARM': u'Armenia', u'NRU': u'Nauru', u'CUB': u'Cuba'}\n"
     ]
    }
   ],
   "source": [
    "#creating a country and label data frame \n",
    "dimension = data['dimension']\n",
    "country = {\n",
    "        \n",
    "    }\n",
    "\n",
    "for foo in dimension:\n",
    "    for boo in foo['code']:\n",
    "        ISO = None\n",
    "        display = boo['display']\n",
    "        for loo in boo['attr']:\n",
    "            if loo['category'] == 'ISO': \n",
    "                ISO = loo['value']\n",
    "        country[ISO] = display    \n",
    "\n",
    "print country\n",
    "            \n"
   ]
  },
  {
   "cell_type": "code",
   "execution_count": 19,
   "metadata": {
    "collapsed": false
   },
   "outputs": [
    {
     "data": {
      "text/plain": [
       "(194, 2)"
      ]
     },
     "execution_count": 19,
     "metadata": {},
     "output_type": "execute_result"
    }
   ],
   "source": [
    "cntryNames = pd.DataFrame(country.items(), columns=['ISO', 'COUNTRY'])\n",
    "cntryNames.shape\n"
   ]
  },
  {
   "cell_type": "code",
   "execution_count": 20,
   "metadata": {
    "collapsed": false
   },
   "outputs": [
    {
     "data": {
      "text/html": [
       "<div>\n",
       "<table border=\"1\" class=\"dataframe\">\n",
       "  <thead>\n",
       "    <tr style=\"text-align: right;\">\n",
       "      <th></th>\n",
       "      <th>fact_id</th>\n",
       "      <th>ISO</th>\n",
       "      <th>YEAR</th>\n",
       "      <th>ABR</th>\n",
       "      <th>COUNTRY</th>\n",
       "    </tr>\n",
       "  </thead>\n",
       "  <tbody>\n",
       "    <tr>\n",
       "      <th>0</th>\n",
       "      <td>13218498</td>\n",
       "      <td>BGD</td>\n",
       "      <td>2013</td>\n",
       "      <td>113.0</td>\n",
       "      <td>Bangladesh</td>\n",
       "    </tr>\n",
       "    <tr>\n",
       "      <th>1</th>\n",
       "      <td>13218505</td>\n",
       "      <td>BOL</td>\n",
       "      <td>2012</td>\n",
       "      <td>115.6</td>\n",
       "      <td>Bolivia (Plurinational State of)</td>\n",
       "    </tr>\n",
       "    <tr>\n",
       "      <th>2</th>\n",
       "      <td>13218508</td>\n",
       "      <td>BRA</td>\n",
       "      <td>2011</td>\n",
       "      <td>64.8</td>\n",
       "      <td>Brazil</td>\n",
       "    </tr>\n",
       "    <tr>\n",
       "      <th>3</th>\n",
       "      <td>13218514</td>\n",
       "      <td>KHM</td>\n",
       "      <td>2013</td>\n",
       "      <td>57.0</td>\n",
       "      <td>Cambodia</td>\n",
       "    </tr>\n",
       "    <tr>\n",
       "      <th>4</th>\n",
       "      <td>13218516</td>\n",
       "      <td>CAN</td>\n",
       "      <td>2011</td>\n",
       "      <td>12.6</td>\n",
       "      <td>Canada</td>\n",
       "    </tr>\n",
       "  </tbody>\n",
       "</table>\n",
       "</div>"
      ],
      "text/plain": [
       "    fact_id  ISO  YEAR    ABR                           COUNTRY\n",
       "0  13218498  BGD  2013  113.0                        Bangladesh\n",
       "1  13218505  BOL  2012  115.6  Bolivia (Plurinational State of)\n",
       "2  13218508  BRA  2011   64.8                            Brazil\n",
       "3  13218514  KHM  2013   57.0                          Cambodia\n",
       "4  13218516  CAN  2011   12.6                            Canada"
      ]
     },
     "execution_count": 20,
     "metadata": {},
     "output_type": "execute_result"
    }
   ],
   "source": [
    "#concat the cntry names to the adolBR dataframe \n",
    "def name(x):\n",
    "    for b in country:\n",
    "        if x == b:\n",
    "            return country[b]\n",
    "\n",
    "AdolBR['COUNTRY'] = [name(a) for a in AdolBR['ISO']]\n",
    "ABR = AdolBR\n",
    "ABR.head()\n",
    "\n",
    "ABR.drop(['high', 'low'], axis=1, inplace=True)\n",
    "ABR = ABR.rename(columns = {'numeric' : 'ABR'})\n",
    "ABR.head()\n"
   ]
  },
  {
   "cell_type": "code",
   "execution_count": 21,
   "metadata": {
    "collapsed": false
   },
   "outputs": [
    {
     "name": "stdout",
     "output_type": "stream",
     "text": [
      "      fact_id   ISO  YEAR    ABR COUNTRY\n",
      "31   13218680  None  2015   51.7  Female\n",
      "48   13218684  None  2015   15.3  Female\n",
      "85   13218681  None  2015   46.1  Female\n",
      "86   13218682  None  2015   17.6  Female\n",
      "87   13218683  None  2015   33.9  Female\n",
      "129  13218679  None  2015  100.3  Female\n",
      "141  13218678  None  2015   44.1  Female\n"
     ]
    }
   ],
   "source": [
    "# In[ ]:\n",
    "null_data = ABR[ABR.isnull().any(axis=1)]\n",
    "print null_data"
   ]
  },
  {
   "cell_type": "code",
   "execution_count": 22,
   "metadata": {
    "collapsed": true
   },
   "outputs": [],
   "source": [
    "#spare code for investigating API\n",
    "# A.headers\n",
    "# A.status_code\n",
    "# A.text\n",
    "#AdolBR = pd.DataFrame.from_dict(A.json(), orient = index)\n",
    "#print AdolBR\n",
    "#from pandas.io.json import json_normalize\n",
    "#df =json_normalize(data['fact'])\n",
    "\n",
    "#spare code for for loops: \n",
    "#for foo in facts.Dim:\n",
    "#    for boo in foo:\n",
    "#       if boo['category'] == 'COUNTRY':\n",
    "#    country[foo[4]['category']] = foo[4]['code']\n",
    "#    print country \n",
    "#facts.Dim[0][4]['category']\n",
    "#facts.Dim[0][4]['code']        \n",
    "#facts.Dim[0][4]"
   ]
  },
  {
   "cell_type": "code",
   "execution_count": null,
   "metadata": {
    "collapsed": true
   },
   "outputs": [],
   "source": []
  }
 ],
 "metadata": {
  "anaconda-cloud": {},
  "kernelspec": {
   "display_name": "Python [Root]",
   "language": "python",
   "name": "Python [Root]"
  },
  "language_info": {
   "codemirror_mode": {
    "name": "ipython",
    "version": 2
   },
   "file_extension": ".py",
   "mimetype": "text/x-python",
   "name": "python",
   "nbconvert_exporter": "python",
   "pygments_lexer": "ipython2",
   "version": "2.7.12"
  }
 },
 "nbformat": 4,
 "nbformat_minor": 0
}
