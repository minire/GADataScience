{
 "cells": [
  {
   "cell_type": "markdown",
   "metadata": {},
   "source": [
    "# Predicting Maternal Mortality Rates in Countries around the world"
   ]
  },
  {
   "cell_type": "markdown",
   "metadata": {},
   "source": [
    "by Rebecca Minich "
   ]
  },
  {
   "cell_type": "markdown",
   "metadata": {},
   "source": [
    "## 1. Background "
   ]
  },
  {
   "cell_type": "markdown",
   "metadata": {},
   "source": [
    "In the last 25 years the United Nations has made a number of goals aiming to protect the world's poor. in 2000, at the Millenium Summit, countries made a commitment to reduce the global maternal mortality rate (MMR) by 75% [1](http://www.thelancet.com/pb/assets/raw/Lancet/pdfs/S0140673615008387.pdf). These deaths are almost entirely preventable and the burden of loss is high on the families affected [2](https://www.nap.edu/read/9800/chapter/2#8). The number of maternal deaths per 100,000 births dropped from 385 deaths in 1990 to 216 in 2015. To reach the 75% decrease by 2030,  that number needs to decrease to 70 deaths per 100,000 births [1](http://www.thelancet.com/pb/assets/raw/Lancet/pdfs/S0140673615008387.pdf). That means a 7.5% annual decrease in MMR. \n",
    "\n",
    "To attain this aggressive goal, it is important to understand where to intervene. Currently, the main interventions focus on the health system/emergency services, access to prenatal education and access to medical professionals during birth. In the next 15 years, a holistic approach that includes socioeconomic interventions is necessary to reduce the MMR at an annual rate of 7.5%"
   ]
  },
  {
   "cell_type": "markdown",
   "metadata": {},
   "source": [
    "## 2. Problem Statement  "
   ]
  },
  {
   "cell_type": "markdown",
   "metadata": {},
   "source": [
    "* Problem Statement: Can I predict which socioeconomic and public health initiatives will improve global maternal mortality rates?\n",
    "* Hypothesis: Safe access to abortion and Women's education will be strong predictors of maternal mortality rates and main targets for intervention.   "
   ]
  },
  {
   "cell_type": "markdown",
   "metadata": {},
   "source": [
    "## 3. Data \n",
    "\n",
    "### 3.1 Raw Data from the World Health Organization (WHO) and the Center for Reproductive Rights(CFRR):\n",
    "\n",
    "#### Datasets included in the final data frame 'mother': \n",
    "A. Maternal Mortality Rates (MDG_0000000026):\n",
    "http://apps.who.int/gho/data/node.main.15\n",
    "\n",
    "B. Adolescent Birth Rates (MDG_0000000003): \n",
    "http://apps.who.int/gho/data/node.main.REPADO39?lang=en\n",
    "\n",
    "C. Abortion policy scale (CSV from PDF): https://www.reproductiverights.org/sites/crr.civicactions.net/files/documents/AbortionMap_Factsheet_2013.pdf\n",
    "\n",
    "D. Life Expectancy For Women at birth and at 60 yoa (WHOSIS_000001, WHOSIS_000015): \n",
    "http://apps.who.int/gho/data/node.main.WOMENLIFEEXP?lang=en\n",
    "\n",
    "E. GNI Per Capita Data by Country(PPP) (WHS9_93): \n",
    "http://apps.who.int/gho/data/node.main.GNI107?lang=en\n",
    "\n",
    "F. Net Primary School Enrollment female and male (WHS9_87): \n",
    "http://apps.who.int/gho/data/node.main.119?lang=en\n",
    "\n",
    "G. Percent Cellphone Subscribers (WHS9_CS):\n",
    "http://apps.who.int/gho/data/node.main.CELL107?lang=en\n",
    "\n",
    "H. Contraceptives by country modern methods. tradtitional, fmaliy planning needs met (cpmo, cpmt): \n",
    "http://apps.who.int/gho/data/view.main.94350\n",
    "\n",
    "I,J Health Service Coverage, birth attendant, antenatal care (WHS4_154): \n",
    "http://apps.who.int/gho/data/node.main.REPWOMEN39?lang=en\n",
    "\n",
    "K. Homicides (violencehomicidev):\n",
    "http://apps.who.int/gho/data/view.main.VIOLENCEHOMICIDEv\n"
   ]
  },
  {
   "cell_type": "markdown",
   "metadata": {},
   "source": [
    "### 3.2 Data Import\n",
    "\n",
    "The world health organization [API](http://apps.who.int/gho/data/node.resources.api) is in xml. Each dataset contains ONE FEATURE COLUMN with a number of demographic columns (such as year and gender). Basically, each feature column for the final dataframe starts as an individual dataset. I then concat this feature onto the MMR dataframe using the three letter ISO country code (ISO). Each dataframe has its on .py file which is imported into the final python script (MMRmaster). MMRmaster.py will contain the final dataframe and the model. Below is a basic import for the MMR data set from the WHO website:"
   ]
  },
  {
   "cell_type": "code",
   "execution_count": 1,
   "metadata": {
    "collapsed": false
   },
   "outputs": [
    {
     "data": {
      "text/plain": [
       "[u'attribute', u'fact', u'dimension', u'copyright', u'dataset']"
      ]
     },
     "execution_count": 1,
     "metadata": {},
     "output_type": "execute_result"
    }
   ],
   "source": [
    "import requests\n",
    "import pandas as pd \n",
    "import numpy as np\n",
    "import json\n",
    "\n",
    "# grabbing data for Maternal Mortality Rate (MMR) 'MDG_0000000026' \n",
    "# Values are per 100K births         \n",
    "C = requests.get('http://apps.who.int/gho/athena/api/GHO/MDG_0000000026.json')\n",
    "\n",
    "#Converting data into json format\n",
    "data = C.json()\n",
    "data.keys()\n",
    " \n"
   ]
  },
  {
   "cell_type": "markdown",
   "metadata": {},
   "source": [
    "### 3.3 Data Pre-Processing\n",
    "Below is an example of typical pre-processing with a dataset from WHO after importing the data:\n",
    "* Step 1: create a data['fact'] data frame called MMRfact \n",
    "* step 2: extract the MMR values out of MMRfact.value column and concat \n",
    "* step 3: extract the country code('COUNTRY') and year ('YEAR') from the MMRfact.Dim column\n",
    "* Step 4: load or extract a country:ISO dictionary from data['Dimension'] \n",
    "* step 5: add the country names into the MMRfact data frame, extract info for relevant year, rename MMR"
   ]
  },
  {
   "cell_type": "code",
   "execution_count": 2,
   "metadata": {
    "collapsed": false
   },
   "outputs": [
    {
     "data": {
      "text/html": [
       "<div>\n",
       "<table border=\"1\" class=\"dataframe\">\n",
       "  <thead>\n",
       "    <tr style=\"text-align: right;\">\n",
       "      <th></th>\n",
       "      <th>Dim</th>\n",
       "      <th>dataset</th>\n",
       "      <th>effective_date</th>\n",
       "      <th>end_date</th>\n",
       "      <th>fact_id</th>\n",
       "      <th>published</th>\n",
       "      <th>value</th>\n",
       "    </tr>\n",
       "  </thead>\n",
       "  <tbody>\n",
       "    <tr>\n",
       "      <th>0</th>\n",
       "      <td>[{u'category': u'GHO', u'code': u'MDG_00000000...</td>\n",
       "      <td>CYCU</td>\n",
       "      <td>2015-11-11</td>\n",
       "      <td>2900-12-31</td>\n",
       "      <td>11922603</td>\n",
       "      <td>True</td>\n",
       "      <td>{u'high': 988.0, u'display': u'477 [ 221 - 988...</td>\n",
       "    </tr>\n",
       "    <tr>\n",
       "      <th>1</th>\n",
       "      <td>[{u'category': u'PUBLISHSTATE', u'code': u'PUB...</td>\n",
       "      <td>CYCU</td>\n",
       "      <td>2015-11-11</td>\n",
       "      <td>2900-12-31</td>\n",
       "      <td>11922646</td>\n",
       "      <td>True</td>\n",
       "      <td>{u'high': 1640.0, u'display': u'1 250 [ 906 - ...</td>\n",
       "    </tr>\n",
       "    <tr>\n",
       "      <th>2</th>\n",
       "      <td>[{u'category': u'PUBLISHSTATE', u'code': u'PUB...</td>\n",
       "      <td>CYCU</td>\n",
       "      <td>2015-11-11</td>\n",
       "      <td>2900-12-31</td>\n",
       "      <td>11922655</td>\n",
       "      <td>True</td>\n",
       "      <td>{u'high': 911.0, u'display': u'634 [ 436 - 911...</td>\n",
       "    </tr>\n",
       "    <tr>\n",
       "      <th>3</th>\n",
       "      <td>[{u'category': u'PUBLISHSTATE', u'code': u'PUB...</td>\n",
       "      <td>CYCU</td>\n",
       "      <td>2015-11-11</td>\n",
       "      <td>2900-12-31</td>\n",
       "      <td>11922656</td>\n",
       "      <td>True</td>\n",
       "      <td>{u'high': 645.0, u'display': u'467 [ 342 - 645...</td>\n",
       "    </tr>\n",
       "    <tr>\n",
       "      <th>4</th>\n",
       "      <td>[{u'category': u'PUBLISHSTATE', u'code': u'PUB...</td>\n",
       "      <td>CYCU</td>\n",
       "      <td>2015-11-11</td>\n",
       "      <td>2900-12-31</td>\n",
       "      <td>11922663</td>\n",
       "      <td>True</td>\n",
       "      <td>{u'high': 1090.0, u'display': u'549 [ 273 - 1 ...</td>\n",
       "    </tr>\n",
       "  </tbody>\n",
       "</table>\n",
       "</div>"
      ],
      "text/plain": [
       "                                                 Dim dataset effective_date  \\\n",
       "0  [{u'category': u'GHO', u'code': u'MDG_00000000...    CYCU     2015-11-11   \n",
       "1  [{u'category': u'PUBLISHSTATE', u'code': u'PUB...    CYCU     2015-11-11   \n",
       "2  [{u'category': u'PUBLISHSTATE', u'code': u'PUB...    CYCU     2015-11-11   \n",
       "3  [{u'category': u'PUBLISHSTATE', u'code': u'PUB...    CYCU     2015-11-11   \n",
       "4  [{u'category': u'PUBLISHSTATE', u'code': u'PUB...    CYCU     2015-11-11   \n",
       "\n",
       "     end_date   fact_id published  \\\n",
       "0  2900-12-31  11922603      True   \n",
       "1  2900-12-31  11922646      True   \n",
       "2  2900-12-31  11922655      True   \n",
       "3  2900-12-31  11922656      True   \n",
       "4  2900-12-31  11922663      True   \n",
       "\n",
       "                                               value  \n",
       "0  {u'high': 988.0, u'display': u'477 [ 221 - 988...  \n",
       "1  {u'high': 1640.0, u'display': u'1 250 [ 906 - ...  \n",
       "2  {u'high': 911.0, u'display': u'634 [ 436 - 911...  \n",
       "3  {u'high': 645.0, u'display': u'467 [ 342 - 645...  \n",
       "4  {u'high': 1090.0, u'display': u'549 [ 273 - 1 ...  "
      ]
     },
     "execution_count": 2,
     "metadata": {},
     "output_type": "execute_result"
    }
   ],
   "source": [
    "#Step 1: Creating a data frame that contains the MMR (per 100,000 births) values \n",
    "fact = data['fact']\n",
    "MMRfact = pd.DataFrame(fact)   \n",
    "MMRfact.head()"
   ]
  },
  {
   "cell_type": "code",
   "execution_count": 3,
   "metadata": {
    "collapsed": false
   },
   "outputs": [
    {
     "data": {
      "text/html": [
       "<div>\n",
       "<table border=\"1\" class=\"dataframe\">\n",
       "  <thead>\n",
       "    <tr style=\"text-align: right;\">\n",
       "      <th></th>\n",
       "      <th>Dim</th>\n",
       "      <th>dataset</th>\n",
       "      <th>effective_date</th>\n",
       "      <th>end_date</th>\n",
       "      <th>fact_id</th>\n",
       "      <th>published</th>\n",
       "      <th>value</th>\n",
       "      <th>display</th>\n",
       "      <th>high</th>\n",
       "      <th>low</th>\n",
       "      <th>numeric</th>\n",
       "    </tr>\n",
       "  </thead>\n",
       "  <tbody>\n",
       "    <tr>\n",
       "      <th>0</th>\n",
       "      <td>[{u'category': u'GHO', u'code': u'MDG_00000000...</td>\n",
       "      <td>CYCU</td>\n",
       "      <td>2015-11-11</td>\n",
       "      <td>2900-12-31</td>\n",
       "      <td>11922603</td>\n",
       "      <td>True</td>\n",
       "      <td>{u'high': 988.0, u'display': u'477 [ 221 - 988...</td>\n",
       "      <td>477 [ 221 - 988]</td>\n",
       "      <td>988.0</td>\n",
       "      <td>221.0</td>\n",
       "      <td>477.0</td>\n",
       "    </tr>\n",
       "    <tr>\n",
       "      <th>1</th>\n",
       "      <td>[{u'category': u'PUBLISHSTATE', u'code': u'PUB...</td>\n",
       "      <td>CYCU</td>\n",
       "      <td>2015-11-11</td>\n",
       "      <td>2900-12-31</td>\n",
       "      <td>11922646</td>\n",
       "      <td>True</td>\n",
       "      <td>{u'high': 1640.0, u'display': u'1 250 [ 906 - ...</td>\n",
       "      <td>1 250 [ 906 - 1 640]</td>\n",
       "      <td>1640.0</td>\n",
       "      <td>906.0</td>\n",
       "      <td>1250.0</td>\n",
       "    </tr>\n",
       "    <tr>\n",
       "      <th>2</th>\n",
       "      <td>[{u'category': u'PUBLISHSTATE', u'code': u'PUB...</td>\n",
       "      <td>CYCU</td>\n",
       "      <td>2015-11-11</td>\n",
       "      <td>2900-12-31</td>\n",
       "      <td>11922655</td>\n",
       "      <td>True</td>\n",
       "      <td>{u'high': 911.0, u'display': u'634 [ 436 - 911...</td>\n",
       "      <td>634 [ 436 - 911]</td>\n",
       "      <td>911.0</td>\n",
       "      <td>436.0</td>\n",
       "      <td>634.0</td>\n",
       "    </tr>\n",
       "    <tr>\n",
       "      <th>3</th>\n",
       "      <td>[{u'category': u'PUBLISHSTATE', u'code': u'PUB...</td>\n",
       "      <td>CYCU</td>\n",
       "      <td>2015-11-11</td>\n",
       "      <td>2900-12-31</td>\n",
       "      <td>11922656</td>\n",
       "      <td>True</td>\n",
       "      <td>{u'high': 645.0, u'display': u'467 [ 342 - 645...</td>\n",
       "      <td>467 [ 342 - 645]</td>\n",
       "      <td>645.0</td>\n",
       "      <td>342.0</td>\n",
       "      <td>467.0</td>\n",
       "    </tr>\n",
       "    <tr>\n",
       "      <th>4</th>\n",
       "      <td>[{u'category': u'PUBLISHSTATE', u'code': u'PUB...</td>\n",
       "      <td>CYCU</td>\n",
       "      <td>2015-11-11</td>\n",
       "      <td>2900-12-31</td>\n",
       "      <td>11922663</td>\n",
       "      <td>True</td>\n",
       "      <td>{u'high': 1090.0, u'display': u'549 [ 273 - 1 ...</td>\n",
       "      <td>549 [ 273 - 1 090]</td>\n",
       "      <td>1090.0</td>\n",
       "      <td>273.0</td>\n",
       "      <td>549.0</td>\n",
       "    </tr>\n",
       "  </tbody>\n",
       "</table>\n",
       "</div>"
      ],
      "text/plain": [
       "                                                 Dim dataset effective_date  \\\n",
       "0  [{u'category': u'GHO', u'code': u'MDG_00000000...    CYCU     2015-11-11   \n",
       "1  [{u'category': u'PUBLISHSTATE', u'code': u'PUB...    CYCU     2015-11-11   \n",
       "2  [{u'category': u'PUBLISHSTATE', u'code': u'PUB...    CYCU     2015-11-11   \n",
       "3  [{u'category': u'PUBLISHSTATE', u'code': u'PUB...    CYCU     2015-11-11   \n",
       "4  [{u'category': u'PUBLISHSTATE', u'code': u'PUB...    CYCU     2015-11-11   \n",
       "\n",
       "     end_date   fact_id published  \\\n",
       "0  2900-12-31  11922603      True   \n",
       "1  2900-12-31  11922646      True   \n",
       "2  2900-12-31  11922655      True   \n",
       "3  2900-12-31  11922656      True   \n",
       "4  2900-12-31  11922663      True   \n",
       "\n",
       "                                               value               display  \\\n",
       "0  {u'high': 988.0, u'display': u'477 [ 221 - 988...      477 [ 221 - 988]   \n",
       "1  {u'high': 1640.0, u'display': u'1 250 [ 906 - ...  1 250 [ 906 - 1 640]   \n",
       "2  {u'high': 911.0, u'display': u'634 [ 436 - 911...      634 [ 436 - 911]   \n",
       "3  {u'high': 645.0, u'display': u'467 [ 342 - 645...      467 [ 342 - 645]   \n",
       "4  {u'high': 1090.0, u'display': u'549 [ 273 - 1 ...    549 [ 273 - 1 090]   \n",
       "\n",
       "     high    low  numeric  \n",
       "0   988.0  221.0    477.0  \n",
       "1  1640.0  906.0   1250.0  \n",
       "2   911.0  436.0    634.0  \n",
       "3   645.0  342.0    467.0  \n",
       "4  1090.0  273.0    549.0  "
      ]
     },
     "execution_count": 3,
     "metadata": {},
     "output_type": "execute_result"
    }
   ],
   "source": [
    "#Step 2: extract the MMR out of MMRfact.value column and concat \n",
    "\n",
    "#extracting values from the MMR dataframe\n",
    "data1 = list(MMRfact.value)\n",
    "values = pd.DataFrame(data=data1)\n",
    "\n",
    "#concat values onto the MMRfact data frame \n",
    "MMRfact = pd.concat([MMRfact, values], axis=1)\n",
    "MMRfact.head()"
   ]
  },
  {
   "cell_type": "code",
   "execution_count": 4,
   "metadata": {
    "collapsed": false
   },
   "outputs": [],
   "source": [
    "#Step 3: extract the country code('COUNTRY'), region ('REGION') and year ('YEAR') from the MMRfact.Dim column\n",
    "def extract(x):\n",
    "    for col in x:\n",
    "        if col['category'] == 'COUNTRY':\n",
    "            return col['code'] \n",
    "\n",
    "MMRfact['COUNTRY'] = [extract(row) for row in MMRfact['Dim']]\n",
    "\n",
    "def extract(x):\n",
    "    for col in x:\n",
    "        if col['category'] == 'YEAR':\n",
    "            return col['code'] \n",
    "\n",
    "MMRfact['YEAR'] = [extract(row) for row in MMRfact['Dim']]\n",
    "\n",
    "MMRfact['REGION'] = [extract(row) for row in MMRfact['Dim']]\n",
    "\n",
    "def extract(x):\n",
    "    for col in x:\n",
    "        if col['category'] == 'REGION':\n",
    "            return col['code'] \n",
    "\n",
    "MMRfact['REGION'] = [extract(row) for row in MMRfact['Dim']]\n",
    "\n",
    "\n",
    "# simplify dataframe, only including relevant columns, changing COUNTRY to ISO (three letter code)           \n",
    "MMRfact.drop(['Dim', 'dataset', 'effective_date', 'end_date', 'fact_id', 'published', 'value', 'display', 'high', 'low'], axis=1, inplace=True)\n",
    "MMRfact = MMRfact.rename(columns = {'COUNTRY' : 'ISO', 'numeric' : 'MMR100K'})\n"
   ]
  },
  {
   "cell_type": "code",
   "execution_count": 5,
   "metadata": {
    "collapsed": true
   },
   "outputs": [],
   "source": [
    "# Step 4: load or extract a country:ISO dictionary from data['Dimension'] \n",
    "MMRdim = data['dimension']\n",
    "\n",
    "#creating a country and ISO code dictionary \n",
    "country = {\n",
    "\n",
    "    }\n",
    "\n",
    "for row in MMRdim:\n",
    "    for element in row['code']:\n",
    "        ISO = None\n",
    "        display = element['display']\n",
    "        for x in element['attr']:\n",
    "            if x['category'] == 'ISO': \n",
    "                ISO = x['value']\n",
    "        country[ISO] = display    \n",
    "#print country"
   ]
  },
  {
   "cell_type": "code",
   "execution_count": 6,
   "metadata": {
    "collapsed": false
   },
   "outputs": [],
   "source": [
    "#step 5: add the country names into the MMRfact data frame, rename MMR, extract info for relevant year\n",
    "\n",
    "def name(x):\n",
    "    for b in country:\n",
    "        if x == b:\n",
    "            return country[b]\n",
    "\n",
    "MMRfact['COUNTRY'] = [name(a) for a in MMRfact['ISO']]\n",
    "\n",
    "#rename MMR\n",
    "MMR = MMRfact\n",
    "\n",
    "#extract info only for 2015 \n",
    "MMR['YEAR'] = pd.to_numeric(MMR['YEAR'])\n",
    "MMR = MMR[MMR['YEAR'] == 2015]\n"
   ]
  },
  {
   "cell_type": "markdown",
   "metadata": {},
   "source": [
    "### 3.4 Response Variable "
   ]
  },
  {
   "cell_type": "code",
   "execution_count": 7,
   "metadata": {
    "collapsed": true
   },
   "outputs": [],
   "source": [
    "#The response variable is a continuous variable per 100,000 births. To make it a "
   ]
  },
  {
   "cell_type": "code",
   "execution_count": 8,
   "metadata": {
    "collapsed": false
   },
   "outputs": [
    {
     "data": {
      "text/plain": [
       "<matplotlib.axes._subplots.AxesSubplot at 0xa3b30b8>"
      ]
     },
     "execution_count": 8,
     "metadata": {},
     "output_type": "execute_result"
    },
    {
     "data": {
      "image/png": "[encoded data removed]",
      "text/plain": [
       "<matplotlib.figure.Figure at 0xa3b30f0>"
      ]
     },
     "metadata": {},
     "output_type": "display_data"
    }
   ],
   "source": [
    "# compare with histogram and box plot by region\n",
    "import matplotlib.pyplot as plt\n",
    "\n",
    "# display plots in the notebook\n",
    "%matplotlib inline\n",
    "\n",
    "MMR.groupby('REGION').mean().drop('YEAR', axis=1).plot(kind='bar')"
   ]
  },
  {
   "cell_type": "markdown",
   "metadata": {},
   "source": [
    "When broken down by region it's clear that the average MMR is highest on the African continent. South East Asia is also high,but the average is about a quarter of the average from the African continent. Given the heterogenous nature of countries in Africa, it is important to look at them individually. A quick way to investigate these countries is with a box plot"
   ]
  },
  {
   "cell_type": "code",
   "execution_count": 9,
   "metadata": {
    "collapsed": false
   },
   "outputs": [
    {
     "data": {
      "text/plain": [
       "<matplotlib.axes._subplots.AxesSubplot at 0xaf83e10>"
      ]
     },
     "execution_count": 9,
     "metadata": {},
     "output_type": "execute_result"
    },
    {
     "data": {
      "image/png": "[encoded data removed]",
      "text/plain": [
       "<matplotlib.figure.Figure at 0x8eddcf8>"
      ]
     },
     "metadata": {},
     "output_type": "display_data"
    }
   ],
   "source": [
    "# display plots in the notebook\n",
    "%matplotlib inline\n",
    "\n",
    "MMR.boxplot(column='MMR100K', by='REGION')"
   ]
  },
  {
   "cell_type": "code",
   "execution_count": 10,
   "metadata": {
    "collapsed": false
   },
   "outputs": [
    {
     "data": {
      "text/plain": [
       "<matplotlib.axes._subplots.AxesSubplot at 0xb336a90>"
      ]
     },
     "execution_count": 10,
     "metadata": {},
     "output_type": "execute_result"
    },
    {
     "data": {
      "image/png": "[encoded data removed]",
      "text/plain": [
       "<matplotlib.figure.Figure at 0xaebb4e0>"
      ]
     },
     "metadata": {},
     "output_type": "display_data"
    }
   ],
   "source": [
    "#MMR frequency \n",
    "\n",
    "# display plots in the notebook\n",
    "%matplotlib inline\n",
    "\n",
    "MMR.plot(kind='hist',y='MMR100K',figsize=(7,5)) #[MMR['MMR100K'] <= 10 ]"
   ]
  },
  {
   "cell_type": "code",
   "execution_count": 11,
   "metadata": {
    "collapsed": false
   },
   "outputs": [
    {
     "data": {
      "text/html": [
       "<div>\n",
       "<table border=\"1\" class=\"dataframe\">\n",
       "  <thead>\n",
       "    <tr style=\"text-align: right;\">\n",
       "      <th></th>\n",
       "      <th>MMR100K</th>\n",
       "      <th>ISO</th>\n",
       "      <th>YEAR</th>\n",
       "      <th>REGION</th>\n",
       "      <th>COUNTRY</th>\n",
       "    </tr>\n",
       "  </thead>\n",
       "  <tbody>\n",
       "    <tr>\n",
       "      <th>0</th>\n",
       "      <td>477.0</td>\n",
       "      <td>AGO</td>\n",
       "      <td>2015</td>\n",
       "      <td>AFR</td>\n",
       "      <td>Angola</td>\n",
       "    </tr>\n",
       "    <tr>\n",
       "      <th>282</th>\n",
       "      <td>129.0</td>\n",
       "      <td>BWA</td>\n",
       "      <td>2015</td>\n",
       "      <td>AFR</td>\n",
       "      <td>Botswana</td>\n",
       "    </tr>\n",
       "    <tr>\n",
       "      <th>279</th>\n",
       "      <td>487.0</td>\n",
       "      <td>LSO</td>\n",
       "      <td>2015</td>\n",
       "      <td>AFR</td>\n",
       "      <td>Lesotho</td>\n",
       "    </tr>\n",
       "    <tr>\n",
       "      <th>276</th>\n",
       "      <td>291.0</td>\n",
       "      <td>GAB</td>\n",
       "      <td>2015</td>\n",
       "      <td>AFR</td>\n",
       "      <td>Gabon</td>\n",
       "    </tr>\n",
       "    <tr>\n",
       "      <th>214</th>\n",
       "      <td>443.0</td>\n",
       "      <td>ZWE</td>\n",
       "      <td>2015</td>\n",
       "      <td>AFR</td>\n",
       "      <td>Zimbabwe</td>\n",
       "    </tr>\n",
       "    <tr>\n",
       "      <th>203</th>\n",
       "      <td>510.0</td>\n",
       "      <td>KEN</td>\n",
       "      <td>2015</td>\n",
       "      <td>AFR</td>\n",
       "      <td>Kenya</td>\n",
       "    </tr>\n",
       "    <tr>\n",
       "      <th>202</th>\n",
       "      <td>679.0</td>\n",
       "      <td>GIN</td>\n",
       "      <td>2015</td>\n",
       "      <td>AFR</td>\n",
       "      <td>Guinea</td>\n",
       "    </tr>\n",
       "    <tr>\n",
       "      <th>284</th>\n",
       "      <td>42.0</td>\n",
       "      <td>CPV</td>\n",
       "      <td>2015</td>\n",
       "      <td>AFR</td>\n",
       "      <td>Cabo Verde</td>\n",
       "    </tr>\n",
       "    <tr>\n",
       "      <th>201</th>\n",
       "      <td>342.0</td>\n",
       "      <td>GNQ</td>\n",
       "      <td>2015</td>\n",
       "      <td>AFR</td>\n",
       "      <td>Equatorial Guinea</td>\n",
       "    </tr>\n",
       "    <tr>\n",
       "      <th>199</th>\n",
       "      <td>442.0</td>\n",
       "      <td>COG</td>\n",
       "      <td>2015</td>\n",
       "      <td>AFR</td>\n",
       "      <td>Congo</td>\n",
       "    </tr>\n",
       "    <tr>\n",
       "      <th>196</th>\n",
       "      <td>882.0</td>\n",
       "      <td>CAF</td>\n",
       "      <td>2015</td>\n",
       "      <td>AFR</td>\n",
       "      <td>Central African Republic</td>\n",
       "    </tr>\n",
       "    <tr>\n",
       "      <th>193</th>\n",
       "      <td>140.0</td>\n",
       "      <td>DZA</td>\n",
       "      <td>2015</td>\n",
       "      <td>AFR</td>\n",
       "      <td>Algeria</td>\n",
       "    </tr>\n",
       "    <tr>\n",
       "      <th>124</th>\n",
       "      <td>53.0</td>\n",
       "      <td>MUS</td>\n",
       "      <td>2015</td>\n",
       "      <td>AFR</td>\n",
       "      <td>Mauritius</td>\n",
       "    </tr>\n",
       "    <tr>\n",
       "      <th>123</th>\n",
       "      <td>587.0</td>\n",
       "      <td>MLI</td>\n",
       "      <td>2015</td>\n",
       "      <td>AFR</td>\n",
       "      <td>Mali</td>\n",
       "    </tr>\n",
       "    <tr>\n",
       "      <th>121</th>\n",
       "      <td>319.0</td>\n",
       "      <td>GHA</td>\n",
       "      <td>2015</td>\n",
       "      <td>AFR</td>\n",
       "      <td>Ghana</td>\n",
       "    </tr>\n",
       "    <tr>\n",
       "      <th>200</th>\n",
       "      <td>645.0</td>\n",
       "      <td>CIV</td>\n",
       "      <td>2015</td>\n",
       "      <td>AFR</td>\n",
       "      <td>Cote d'Ivoire</td>\n",
       "    </tr>\n",
       "    <tr>\n",
       "      <th>118</th>\n",
       "      <td>693.0</td>\n",
       "      <td>COD</td>\n",
       "      <td>2015</td>\n",
       "      <td>AFR</td>\n",
       "      <td>Democratic Republic of the Congo</td>\n",
       "    </tr>\n",
       "    <tr>\n",
       "      <th>287</th>\n",
       "      <td>602.0</td>\n",
       "      <td>MRT</td>\n",
       "      <td>2015</td>\n",
       "      <td>AFR</td>\n",
       "      <td>Mauritania</td>\n",
       "    </tr>\n",
       "    <tr>\n",
       "      <th>290</th>\n",
       "      <td>290.0</td>\n",
       "      <td>RWA</td>\n",
       "      <td>2015</td>\n",
       "      <td>AFR</td>\n",
       "      <td>Rwanda</td>\n",
       "    </tr>\n",
       "    <tr>\n",
       "      <th>484</th>\n",
       "      <td>343.0</td>\n",
       "      <td>UGA</td>\n",
       "      <td>2015</td>\n",
       "      <td>AFR</td>\n",
       "      <td>Uganda</td>\n",
       "    </tr>\n",
       "    <tr>\n",
       "      <th>481</th>\n",
       "      <td>789.0</td>\n",
       "      <td>SSD</td>\n",
       "      <td>2015</td>\n",
       "      <td>AFR</td>\n",
       "      <td>South Sudan</td>\n",
       "    </tr>\n",
       "    <tr>\n",
       "      <th>479</th>\n",
       "      <td>814.0</td>\n",
       "      <td>NGA</td>\n",
       "      <td>2015</td>\n",
       "      <td>AFR</td>\n",
       "      <td>Nigeria</td>\n",
       "    </tr>\n",
       "    <tr>\n",
       "      <th>476</th>\n",
       "      <td>634.0</td>\n",
       "      <td>MWI</td>\n",
       "      <td>2015</td>\n",
       "      <td>AFR</td>\n",
       "      <td>Malawi</td>\n",
       "    </tr>\n",
       "    <tr>\n",
       "      <th>466</th>\n",
       "      <td>856.0</td>\n",
       "      <td>TCD</td>\n",
       "      <td>2015</td>\n",
       "      <td>AFR</td>\n",
       "      <td>Chad</td>\n",
       "    </tr>\n",
       "    <tr>\n",
       "      <th>385</th>\n",
       "      <td>368.0</td>\n",
       "      <td>TGO</td>\n",
       "      <td>2015</td>\n",
       "      <td>AFR</td>\n",
       "      <td>Togo</td>\n",
       "    </tr>\n",
       "  </tbody>\n",
       "</table>\n",
       "</div>"
      ],
      "text/plain": [
       "     MMR100K  ISO  YEAR REGION                           COUNTRY\n",
       "0      477.0  AGO  2015    AFR                            Angola\n",
       "282    129.0  BWA  2015    AFR                          Botswana\n",
       "279    487.0  LSO  2015    AFR                           Lesotho\n",
       "276    291.0  GAB  2015    AFR                             Gabon\n",
       "214    443.0  ZWE  2015    AFR                          Zimbabwe\n",
       "203    510.0  KEN  2015    AFR                             Kenya\n",
       "202    679.0  GIN  2015    AFR                            Guinea\n",
       "284     42.0  CPV  2015    AFR                        Cabo Verde\n",
       "201    342.0  GNQ  2015    AFR                 Equatorial Guinea\n",
       "199    442.0  COG  2015    AFR                             Congo\n",
       "196    882.0  CAF  2015    AFR          Central African Republic\n",
       "193    140.0  DZA  2015    AFR                           Algeria\n",
       "124     53.0  MUS  2015    AFR                         Mauritius\n",
       "123    587.0  MLI  2015    AFR                              Mali\n",
       "121    319.0  GHA  2015    AFR                             Ghana\n",
       "200    645.0  CIV  2015    AFR                     Cote d'Ivoire\n",
       "118    693.0  COD  2015    AFR  Democratic Republic of the Congo\n",
       "287    602.0  MRT  2015    AFR                        Mauritania\n",
       "290    290.0  RWA  2015    AFR                            Rwanda\n",
       "484    343.0  UGA  2015    AFR                            Uganda\n",
       "481    789.0  SSD  2015    AFR                       South Sudan\n",
       "479    814.0  NGA  2015    AFR                           Nigeria\n",
       "476    634.0  MWI  2015    AFR                            Malawi\n",
       "466    856.0  TCD  2015    AFR                              Chad\n",
       "385    368.0  TGO  2015    AFR                              Togo"
      ]
     },
     "execution_count": 11,
     "metadata": {},
     "output_type": "execute_result"
    }
   ],
   "source": [
    "MMR = MMR.sort_values(by = ['REGION'])\n",
    "MMR.head(25)"
   ]
  },
  {
   "cell_type": "markdown",
   "metadata": {},
   "source": [
    "From the box plot you can see that the spread is huge for MMR on the African continent. What makes these countries so different? Why does Sierra Leone have such a high MMR (1360) when the island country just of the coast, Cape Verde, has one of the lowest MMRs in the region? To answer this question I will look at socioeconomic factors that may explain thses descrepancies. "
   ]
  },
  {
   "cell_type": "markdown",
   "metadata": {},
   "source": [
    "## 4. Feature Enginnering and Selection "
   ]
  },
  {
   "cell_type": "markdown",
   "metadata": {},
   "source": [
    "### 4.1 Feature Engineering \n",
    "\n",
    "Each dataset from the WHO had unique challenges. In many cases the data sets contain extra data. The feature engineering was focused on creating feature columns with as many countries as possible that could be easily added to the 'mother' dataframe. For all but one of the features (contraceptive usage = 92 countries) the number of countries ranged from 143-194. I filled missing data for each feature with the global median (see table below). The index was set to the three letter country code (ISO) and then concatenated to the 'mother' dataframe to create a dataframe with 190 rows and 11 feature columns.  \n"
   ]
  },
  {
   "cell_type": "markdown",
   "metadata": {},
   "source": [
    "# Median values used to fill empty feature cells \n",
    "* MMR100K                  54.000000\n",
    "* MMRYEAR                2015.000000\n",
    "* MMR%                      0.054000\n",
    "* MMRBinary                 1.000000\n",
    "* MMRClassifier             2.000000\n",
    "* ABRYEAR                2012.000000\n",
    "* ABR1000                  45.350000\n",
    "* ABR%                      4.535000\n",
    "* Abortion_scale            2.000000\n",
    "* AOD_MLE                  70.142710\n",
    "* AODYEAR                2015.000000\n",
    "* AOD_FMLE                 76.058790\n",
    "* AOD_BTSX                 73.482580\n",
    "* GNI                   10080.000000\n",
    "* GNIYEAR                2012.000000\n",
    "* ED_FMLE%                 95.370000\n",
    "* ED_MLE%                  94.760000\n",
    "* EDYEARMLE              2010.000000\n",
    "* EDFMLE_MLE%              99.824507\n",
    "* cell_Subscription%      105.000000\n",
    "* cellYEAR               2013.000000\n",
    "* contraceptives%          33.726290\n",
    "* contraYEAR             2010.000000\n",
    "* attend%                  96.600000\n",
    "* attendYEAR             2013.000000\n",
    "* prenat%                  77.600000\n",
    "* prenatYEAR             2012.000000\n",
    "* homicide100K              5.400000\n",
    "* homicideYEAR           2012.000000\n",
    "* contraRegMed             29.540000\n",
    "* contraRegFill            29.540000"
   ]
  },
  {
   "cell_type": "markdown",
   "metadata": {},
   "source": [
    "### 4.2 Data dictionary (\"code book\")\n",
    "\n",
    "Brief descriptions and engineering notes of all of the columns in the 'Mother' DATAFRAME:\n",
    "\n",
    "#### A. Maternal Mortality Rates (MMR) is the response variable. The various formats are below: \n",
    "    * MMR100k - The number of maternal deaths per 100,000 births \n",
    "    * MMR% - Percent of maternal deaths out of 100. \n",
    "    * MMRClassifier - Created for logistic regression model based on min, max and 25, 50, 75% of MMR. Therefore, mapped feature is as folloes: if MMR > 229:4, > 56:3, >15:2, >3:1, else:0.  \n",
    "    * MMRBinary - Binary variable created to run a logistic regression model. 1 - if a countries MMR was under the median ratio. 0 - if countries MMR was over the median. \n",
    "    * MMRYEAR - The year the data was collected for MMR in each country (2015) \n",
    "\n",
    "#### B. Adolescent birth rate (ABR) for women aged 15-19 years:\n",
    "    * ABR1000 - Adolescent brith rates for every 1000 women aged 15-19 years.\n",
    "    * ABR% - Adolescent birth rates as a percent out of 100. \n",
    "    * ABRYEAR - The year the data was collected for Adolescent brith rate in each country (2000-2014)\n",
    "    * ISO - The tree letter country code associated with each country. \n",
    "    * COUNTRY - The country names \n",
    "    * REGION - The World health organization region for each country:\n",
    "        * EUR- Europe\n",
    "        * SEAR - Southeast Asia\n",
    "        * WPR - Western Pacific \n",
    "        * AFR - Africa \n",
    "        * EMR - Eastern Mediterranean\n",
    "        * AMR - America \n",
    "\n",
    "#### C. Abortion policy (loaded from CSV file): \n",
    "    * Abortion_scale: \n",
    "        * 0 (abortion crimminalized, no abortions even to save the mothers life)\n",
    "        * 1 (abortion is illegal with exceptions to save the life of the motehr)\n",
    "        * 2 (to preserve health of the mother)\n",
    "        * 3 (for socioeconomic resasons or to preserve mother's health)\n",
    "        * 4 (unrestricted abortion to 14 weeks)\n",
    "        * 5 (unrestricted abortion to 20 weeks)\n",
    "        * 6 (very few enforced restrictions during the entire length of the pregnancy)\n",
    "\n",
    "#### D. Life expectancy at birth or age of death (AOD) in years:\n",
    "    * AOD_MLE - Life expectancy of men at brith \n",
    "    * AOD_FMLE - Life expectancy of women at birth\n",
    "    * AOD_BTSX - Life expectancy of both sexes at birth \n",
    "    * AODYEAR - The year the data was collected for life expectancy at birth for each country (2015)\n",
    "\n",
    "#### E. Gross national income per capita (GNI), values are per capita purchasing power parity (PPP) int. ($):\n",
    "    * GNI - Gross natioinal income given in US dollars adjusted for purchasing power partity \n",
    "    * GNIYEAR - Year the GNI was collected for each country (2012) \n",
    "    \n",
    "#### F. Net primary school enrolment ratio (Prim) by percent (%):\n",
    "    * EDFMLE_MLE% - Percent of females enrolled in primary school compared to their male counterparts by country \n",
    "    * ED_FMLE% - Percent of females enrolled in primary school\n",
    "    * ED_MLE% - Percent of males enrolled in primary school \n",
    "    * EDYEARMLE - Year the primary school enrollment was collected for each country (1999-2012)\n",
    "    \n",
    "#### G. Cellular subscribers (cell) data given as a percent (%):\n",
    "    * cell_Subscription% - Cell phone scriprions as a percent of population  \n",
    "    * cellYEAR - Year the cellular subsription data was collected for each country (2010 - 2013)\n",
    "\n",
    "#### H. Contraceptive prevalence - modern methods (cpmo) data in percent (%) : \n",
    "    * contraceptives% - % of women using modern contraceptive methods (only 92 countries - filled with global median)\n",
    "    * contraRegMed - Median of contraceptive usage by countries WHO world region (categorical) \n",
    "    * contrRegFill - Data filled with median contraceptive usage by WHO world region \n",
    "    * contraYEAR -  Year the CPMO data was collected for each country (1996 - 2013)\n",
    "    \n",
    "#### I. Births attended by skilled health personnel (attend) data in percent (%):\n",
    "    * attend% - Percent of births attended by skilled health personnel\n",
    "    * attendYEAR - Year the attend data was collected for each country  (2004 - 2014)\n",
    "   \n",
    "#### J. Antenatal 'prenatal' care coverage - at least four visits (prenat) data as a percent (%):\n",
    "    * prenat% - Percent of women receiving prenatal care of at least four clinical visits\n",
    "    * prenatYEAR - Year the prenatal care data was collected for each country (2000 - 2014)\n",
    "        \n",
    "#### K. Estimates homicide rates (homicide) Per 100 000 population:\n",
    "    * homicide100K - Estimated homicides per 100,000 people \n",
    "    * homicideYEAR - Year the homicide data was collected for each country (2012)"
   ]
  },
  {
   "cell_type": "markdown",
   "metadata": {},
   "source": [
    "### 4.3 Feature Selection\n",
    "\n",
    "There are 11 different demographics that make up the MMR 'mother' dataframe. All of these features were included in the first round of modeling. The models (Logistic Regession amd Random Forest) were used to narrow down the important features (in the next section). The following are the features that were included in the first run of each model (1 from each demographic): \n",
    "\n",
    "['ABR%', 'Abortion_scale', 'AOD_FMLE', 'GNI', 'ED_FMLE%', 'EDFMLE_MLE%', 'cell_Subscription%', 'contraceptives%', 'attend%', 'prenat%', 'homicide100K']\n",
    "\n"
   ]
  },
  {
   "cell_type": "markdown",
   "metadata": {},
   "source": [
    "## 5. Modeling"
   ]
  },
  {
   "cell_type": "markdown",
   "metadata": {},
   "source": [
    "### 5.1 Building Response Variables "
   ]
  },
  {
   "cell_type": "markdown",
   "metadata": {},
   "source": [
    "Three response varaibles were built from binary to continuous variable. These three variables illustrate the limitations of predicting MMRs with my models. \n",
    "\n",
    "* MMR100K - The number of maternal deaths per 100,000 births \n",
    "* MMRClassifier - Created for logistic regression model based on min, max and 25, 50, 75% of MMR. Therefore, mapped feature is as follows: if MMR > 229:4, > 56:3, >15:2, >3:1, else:0.  \n",
    "* MMRBinary - Binary variable created to run a logistic regression model. 1 - if a countries MMR was under the median ratio. 0 - if countries MMR was over the median. "
   ]
  },
  {
   "cell_type": "code",
   "execution_count": 12,
   "metadata": {
    "collapsed": false
   },
   "outputs": [
    {
     "data": {
      "text/html": [
       "<div>\n",
       "<table border=\"1\" class=\"dataframe\">\n",
       "  <thead>\n",
       "    <tr style=\"text-align: right;\">\n",
       "      <th></th>\n",
       "      <th>MMR100K</th>\n",
       "      <th>ISO</th>\n",
       "      <th>YEAR</th>\n",
       "      <th>REGION</th>\n",
       "      <th>COUNTRY</th>\n",
       "      <th>MMRBinary</th>\n",
       "    </tr>\n",
       "  </thead>\n",
       "  <tbody>\n",
       "    <tr>\n",
       "      <th>0</th>\n",
       "      <td>477.0</td>\n",
       "      <td>AGO</td>\n",
       "      <td>2015</td>\n",
       "      <td>AFR</td>\n",
       "      <td>Angola</td>\n",
       "      <td>0</td>\n",
       "    </tr>\n",
       "    <tr>\n",
       "      <th>282</th>\n",
       "      <td>129.0</td>\n",
       "      <td>BWA</td>\n",
       "      <td>2015</td>\n",
       "      <td>AFR</td>\n",
       "      <td>Botswana</td>\n",
       "      <td>0</td>\n",
       "    </tr>\n",
       "    <tr>\n",
       "      <th>279</th>\n",
       "      <td>487.0</td>\n",
       "      <td>LSO</td>\n",
       "      <td>2015</td>\n",
       "      <td>AFR</td>\n",
       "      <td>Lesotho</td>\n",
       "      <td>0</td>\n",
       "    </tr>\n",
       "    <tr>\n",
       "      <th>276</th>\n",
       "      <td>291.0</td>\n",
       "      <td>GAB</td>\n",
       "      <td>2015</td>\n",
       "      <td>AFR</td>\n",
       "      <td>Gabon</td>\n",
       "      <td>0</td>\n",
       "    </tr>\n",
       "    <tr>\n",
       "      <th>214</th>\n",
       "      <td>443.0</td>\n",
       "      <td>ZWE</td>\n",
       "      <td>2015</td>\n",
       "      <td>AFR</td>\n",
       "      <td>Zimbabwe</td>\n",
       "      <td>0</td>\n",
       "    </tr>\n",
       "  </tbody>\n",
       "</table>\n",
       "</div>"
      ],
      "text/plain": [
       "     MMR100K  ISO  YEAR REGION   COUNTRY  MMRBinary\n",
       "0      477.0  AGO  2015    AFR    Angola          0\n",
       "282    129.0  BWA  2015    AFR  Botswana          0\n",
       "279    487.0  LSO  2015    AFR   Lesotho          0\n",
       "276    291.0  GAB  2015    AFR     Gabon          0\n",
       "214    443.0  ZWE  2015    AFR  Zimbabwe          0"
      ]
     },
     "execution_count": 12,
     "metadata": {},
     "output_type": "execute_result"
    }
   ],
   "source": [
    "# creating MMRBinary\n",
    "# If the MMR is under the global median the value is '1'. If the MMR is over the global median the value is '0'. \n",
    "\n",
    "MMR['MMRBinary'] = np.where(MMR.MMR100K <= 56, 1 , 0)\n",
    "MMR.head()"
   ]
  },
  {
   "cell_type": "code",
   "execution_count": 13,
   "metadata": {
    "collapsed": false
   },
   "outputs": [
    {
     "data": {
      "text/html": [
       "<div>\n",
       "<table border=\"1\" class=\"dataframe\">\n",
       "  <thead>\n",
       "    <tr style=\"text-align: right;\">\n",
       "      <th></th>\n",
       "      <th>MMR100K</th>\n",
       "      <th>ISO</th>\n",
       "      <th>YEAR</th>\n",
       "      <th>REGION</th>\n",
       "      <th>COUNTRY</th>\n",
       "      <th>MMRBinary</th>\n",
       "      <th>MMRClassifier</th>\n",
       "    </tr>\n",
       "  </thead>\n",
       "  <tbody>\n",
       "    <tr>\n",
       "      <th>0</th>\n",
       "      <td>477.0</td>\n",
       "      <td>AGO</td>\n",
       "      <td>2015</td>\n",
       "      <td>AFR</td>\n",
       "      <td>Angola</td>\n",
       "      <td>0</td>\n",
       "      <td>4</td>\n",
       "    </tr>\n",
       "    <tr>\n",
       "      <th>282</th>\n",
       "      <td>129.0</td>\n",
       "      <td>BWA</td>\n",
       "      <td>2015</td>\n",
       "      <td>AFR</td>\n",
       "      <td>Botswana</td>\n",
       "      <td>0</td>\n",
       "      <td>3</td>\n",
       "    </tr>\n",
       "    <tr>\n",
       "      <th>279</th>\n",
       "      <td>487.0</td>\n",
       "      <td>LSO</td>\n",
       "      <td>2015</td>\n",
       "      <td>AFR</td>\n",
       "      <td>Lesotho</td>\n",
       "      <td>0</td>\n",
       "      <td>4</td>\n",
       "    </tr>\n",
       "    <tr>\n",
       "      <th>276</th>\n",
       "      <td>291.0</td>\n",
       "      <td>GAB</td>\n",
       "      <td>2015</td>\n",
       "      <td>AFR</td>\n",
       "      <td>Gabon</td>\n",
       "      <td>0</td>\n",
       "      <td>4</td>\n",
       "    </tr>\n",
       "    <tr>\n",
       "      <th>214</th>\n",
       "      <td>443.0</td>\n",
       "      <td>ZWE</td>\n",
       "      <td>2015</td>\n",
       "      <td>AFR</td>\n",
       "      <td>Zimbabwe</td>\n",
       "      <td>0</td>\n",
       "      <td>4</td>\n",
       "    </tr>\n",
       "  </tbody>\n",
       "</table>\n",
       "</div>"
      ],
      "text/plain": [
       "     MMR100K  ISO  YEAR REGION   COUNTRY  MMRBinary  MMRClassifier\n",
       "0      477.0  AGO  2015    AFR    Angola          0              4\n",
       "282    129.0  BWA  2015    AFR  Botswana          0              3\n",
       "279    487.0  LSO  2015    AFR   Lesotho          0              4\n",
       "276    291.0  GAB  2015    AFR     Gabon          0              4\n",
       "214    443.0  ZWE  2015    AFR  Zimbabwe          0              4"
      ]
     },
     "execution_count": 13,
     "metadata": {},
     "output_type": "execute_result"
    }
   ],
   "source": [
    "# creating MMRClassifier \n",
    "# Creating a classfier variable for MMR based on quartile percents (min, 25%, 50%, 75%, Max)    \n",
    "\n",
    "def classifier(x):\n",
    "    if x > 229:\n",
    "        return 4 \n",
    "    elif x > 56:\n",
    "        return 3\n",
    "    elif x > 15:\n",
    "        return 2\n",
    "    elif x > 3:\n",
    "        return 1\n",
    "    else:\n",
    "        return 0\n",
    "\n",
    "MMR['MMRClassifier'] = [classifier(row) for row in MMR['MMR100K']]\n",
    "MMR.head()"
   ]
  },
  {
   "cell_type": "markdown",
   "metadata": {},
   "source": [
    "### 5.2 Building Models \n",
    "\n",
    "Three models were built to test the three response variable: Logisitic Regression (for MMRBinary and MMRClassifier), Random Forest Regressor(for MMR100K), and Random Forest Classifier (for MMRBinary and MMRClassifier). \n"
   ]
  },
  {
   "cell_type": "markdown",
   "metadata": {},
   "source": [
    "#### 5.2A Logistic Regression \n",
    "    (for modeling MMRBinary and MMRClassifier)\n",
    "Test train split was used to train and test the model. TTS accuracy scores and cross-validation accuracy scores were collected.  For consistency, the same optimized features were used for all models.  See code file for more details (CODE FILE: MMRmaster_LogReg.py)."
   ]
  },
  {
   "cell_type": "markdown",
   "metadata": {},
   "source": [
    "#### 5.2B Random Forest Regressor \n",
    "    (for modeling MMR100K continuous variable)\n",
    "RMSE scores were used to tune estimators and feature importance for the MMR100K response variable. oob score and RMSE scores were collected for all features and optimized features. This model was used to determine the optimized features included in all three models. For consistency the same optimized features were used for all three models. See code file for more details (CODE FILE: MMRmaster_RandomForest112816). "
   ]
  },
  {
   "cell_type": "markdown",
   "metadata": {},
   "source": [
    "#### 5.2 C Random Forest Classifier \n",
    "    (for modeling MMRBinary and MMRClassifier)\n",
    "\n",
    "The Random forest classifier model was used as a comparison to the logistic regression model for the classified response variables (MMRBinary and MMRClassifier). Cross-validation accuracy scores were used to tune estimators and feature importance. For consistency the same optimized features were used for all models.  See code file for more details (CODE FILE: MMRmaster_RandomForestClassifier112816)."
   ]
  },
  {
   "cell_type": "markdown",
   "metadata": {},
   "source": [
    "### 5.3 Feature Optimization "
   ]
  },
  {
   "cell_type": "markdown",
   "metadata": {},
   "source": [
    "The features in the dataframe were narrowed down using the random forest regressor model. Feature tuning produced 6 as the optimized number of featuers with Cross_validation=10 and estimators=140. The feature importance break down is shown below. (for tuning graphs see power point presentation: Final Presentation 112916): \n",
    "\n",
    "OPTIMIZED FEATURES included in the model: \n",
    "* AOD_FMLE  - 0.810598\n",
    "* attend% - 0.077110\n",
    "* GNI - 0.029861\n",
    "* ABR% - 0.019747\n",
    "* EDFMLE_MLE% - 0.012234\n",
    "* cell_Subscription%  - 0.011530\n",
    "-------------------------------------------------------------\n",
    "Features excluded from the model: \n",
    "* ED_FMLE% - 0.011345\n",
    "* prenat% - 0.010079\n",
    "* homicide100K - 0.008285\n",
    "* contraceptives% - 0.006246\n",
    "* Abortion_scale - 0.002966\n",
    "\n"
   ]
  },
  {
   "cell_type": "markdown",
   "metadata": {},
   "source": [
    "### 5.4 Model Evaluation "
   ]
  },
  {
   "cell_type": "code",
   "execution_count": 16,
   "metadata": {
    "collapsed": false,
    "scrolled": true
   },
   "outputs": [
    {
     "data": {
      "text/html": [
       "<div>\n",
       "<table border=\"1\" class=\"dataframe\">\n",
       "  <thead>\n",
       "    <tr style=\"text-align: right;\">\n",
       "      <th></th>\n",
       "      <th>Model</th>\n",
       "      <th>Null</th>\n",
       "      <th>Log Reg</th>\n",
       "      <th>Log Reg (Optimized)</th>\n",
       "      <th>Ran For</th>\n",
       "      <th>Ran For (Optimized)</th>\n",
       "    </tr>\n",
       "  </thead>\n",
       "  <tbody>\n",
       "    <tr>\n",
       "      <th>0</th>\n",
       "      <td>MMRBinary</td>\n",
       "      <td>0.526316</td>\n",
       "      <td>0.873684</td>\n",
       "      <td>0.857895</td>\n",
       "      <td>0.8895</td>\n",
       "      <td>0.8947</td>\n",
       "    </tr>\n",
       "    <tr>\n",
       "      <th>1</th>\n",
       "      <td>MMRClassifier</td>\n",
       "      <td>0.268421</td>\n",
       "      <td>0.692465</td>\n",
       "      <td>0.674337</td>\n",
       "      <td>0.7558</td>\n",
       "      <td>0.7482</td>\n",
       "    </tr>\n",
       "    <tr>\n",
       "      <th>2</th>\n",
       "      <td>MMR100K (oob)</td>\n",
       "      <td>0.052632</td>\n",
       "      <td>NaN</td>\n",
       "      <td>NaN</td>\n",
       "      <td>0.8150</td>\n",
       "      <td>0.8348</td>\n",
       "    </tr>\n",
       "  </tbody>\n",
       "</table>\n",
       "</div>"
      ],
      "text/plain": [
       "          Model     Null    Log Reg   Log Reg (Optimized)  Ran For  \\\n",
       "0     MMRBinary   0.526316  0.873684             0.857895   0.8895   \n",
       "1  MMRClassifier  0.268421  0.692465             0.674337   0.7558   \n",
       "2  MMR100K (oob)  0.052632       NaN                  NaN   0.8150   \n",
       "\n",
       "   Ran For (Optimized)   \n",
       "0                0.8947  \n",
       "1                0.7482  \n",
       "2                0.8348  "
      ]
     },
     "execution_count": 16,
     "metadata": {},
     "output_type": "execute_result"
    }
   ],
   "source": [
    "# read the data and set \"datetime\" as the index\n",
    "url = '../data/AccuracyScores.csv'\n",
    "scores = pd.read_csv(url)\n",
    "scores\n"
   ]
  },
  {
   "cell_type": "markdown",
   "metadata": {},
   "source": [
    "#### Model Evauluation: \n",
    "    (note: Scores for models are given as cross_validation accuracy scores (CV=10) or oob scores for MMR100K. Optimized demographics are: 'ABR%', 'AOD_FMLE', 'GNI', 'EDFMLE_MLE%', 'cell_Subscription%', 'attend%'.)\n",
    "\n",
    "\n",
    "* All of the models were able to improve null accuracy. \n",
    "* The random forest classifier model performs better than the logistic regression model for classifiers. \n",
    "* The random forest regressor model is the only model that can porduce continuous variable predicitions for MMR.\n",
    "    * Null RMSE (comparing average MMR and MMR100K): 228.39\n",
    "    * RMSE for all demographics (CV=5, estimators=140): 91.88\n",
    "    * RMSE for optimized features (CV=10, estimartors=130):  82.65\n",
    "* Reducing the number of demographics imporves model accuracy in most cases. "
   ]
  },
  {
   "cell_type": "markdown",
   "metadata": {},
   "source": [
    "## 6. Conclusions and Feature Work "
   ]
  },
  {
   "cell_type": "markdown",
   "metadata": {},
   "source": [
    "### 6.1 Conclusions\n",
    "\n",
    "Original Hypothesis - Safe access to abortion and Women's education will be strong predictors of maternal mortality rates and main targets for intervention.\n",
    "\n",
    "Conclusions:\n",
    "* Null hypothesis 1: Safe access to abortion will not be a predictor of maternal mortality rates - ACCEPTED \n",
    "* Null hypothesis 2: Women's education will not be a predictor of maternal mortality rates - REJECTED \n",
    "\n",
    "\n",
    "Discussion: \n",
    "The cross validation accuracy scores show that all of the models for all response variables are improved over null accuracy. The best and most useful model for prediciting real world outcomes is the Random Forest Regressor predicition of the continuous variable (the oob accuracy score was 0.8348). A number of the well known causal demographics of MMR are, unsurprisingly, strong predictors in the model (attend% & ABR%). The top predictor is AOD_FMLE which is female life expectancy at birth. This is not an especially informative variable but plays a large role in the predictability of my model. \n",
    "\n",
    "It is interesting to note that primary education enrollement of females (compared to their male counterparts) explains some of the variance in MMR. This suggests that female education could be a point of intervention for MMR reduction. Additionally, I was surprised to see cell phone subscriptions influencing the predictability of the model. Potentially, countries with more access to cell phones are better able to communicate and coordinate in emergencies? or does technology play a role in maternal education? \n"
   ]
  },
  {
   "cell_type": "markdown",
   "metadata": {},
   "source": [
    "### 6.2 Future Work \n",
    "\n",
    "* Build a model that lacks well known causal demographics and determine the predictability \n",
    "* Add more demographics, here are some potential data sets to improve the model from WHO:\n",
    "    * Prevalence of Anemia (PREVANEMIA): \n",
    "    http://apps.who.int/gho/data/view.main.NCD1760\n",
    "\n",
    "    * Population using improved water and improved sanitation (WHS5_122, WHS5_158):\n",
    "    http://apps.who.int/gho/data/node.main.46?lang=en\n",
    "\n",
    "    * Literacy Rates for all adults (?): \n",
    "    http://apps.who.int/gho/data/node.main.116?lang=en\n",
    "\n",
    "    * Fertility rate (WHS9_95): \n",
    "    http://apps.who.int/gho/data/node.main.110?lang=en\n",
    "\n",
    "    * Birth and Death rate (WHS9_CBR, WHS_CDR): \n",
    "    http://apps.who.int/gho/data/node.main.CBDR107?lang=en\n",
    "\n",
    "    * Population (WHS9_86): \n",
    "    http://apps.who.int/gho/data/node.main.POP107?lang=en"
   ]
  },
  {
   "cell_type": "code",
   "execution_count": null,
   "metadata": {
    "collapsed": true
   },
   "outputs": [],
   "source": []
  }
 ],
 "metadata": {
  "anaconda-cloud": {},
  "kernelspec": {
   "display_name": "Python [Root]",
   "language": "python",
   "name": "Python [Root]"
  },
  "language_info": {
   "codemirror_mode": {
    "name": "ipython",
    "version": 2
   },
   "file_extension": ".py",
   "mimetype": "text/x-python",
   "name": "python",
   "nbconvert_exporter": "python",
   "pygments_lexer": "ipython2",
   "version": "2.7.12"
  }
 },
 "nbformat": 4,
 "nbformat_minor": 0
}
