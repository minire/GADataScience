{
 "cells": [
  {
   "cell_type": "markdown",
   "metadata": {},
   "source": [
    "This exercise is to show how to load json contents into a table"
   ]
  },
  {
   "cell_type": "code",
   "execution_count": null,
   "metadata": {
    "collapsed": true
   },
   "outputs": [],
   "source": [
    "#http://apps.who.int/gho/data/node.resources.api"
   ]
  },
  {
   "cell_type": "code",
   "execution_count": 33,
   "metadata": {
    "collapsed": true
   },
   "outputs": [],
   "source": [
    "import requests\n",
    "import pandas as pd \n",
    "import json"
   ]
  },
  {
   "cell_type": "code",
   "execution_count": 34,
   "metadata": {
    "collapsed": false
   },
   "outputs": [],
   "source": [
    "# grabbing data for the adolescent birth rate 'MDG_0000000003'    \n",
    "A = requests.get('http://apps.who.int/gho/athena/api/GHO/MDG_0000000003.json')\n",
    "\n",
    "\n",
    "#A.text.splitlines()\n",
    "\n"
   ]
  },
  {
   "cell_type": "code",
   "execution_count": 35,
   "metadata": {
    "collapsed": false
   },
   "outputs": [
    {
     "data": {
      "text/plain": [
       "[u'attribute', u'fact', u'dimension', u'copyright', u'dataset']"
      ]
     },
     "execution_count": 35,
     "metadata": {},
     "output_type": "execute_result"
    }
   ],
   "source": [
    "data = A.json()\n",
    "data.keys()"
   ]
  },
  {
   "cell_type": "code",
   "execution_count": 36,
   "metadata": {
    "collapsed": false
   },
   "outputs": [
    {
     "data": {
      "text/plain": [
       "{u'Dim': [{u'category': u'PUBLISHSTATE', u'code': u'PUBLISHED'},\n",
       "  {u'category': u'REGION', u'code': u'EMR'},\n",
       "  {u'category': u'YEAR', u'code': u'2009'},\n",
       "  {u'category': u'GHO', u'code': u'MDG_0000000003'},\n",
       "  {u'category': u'WORLDBANKINCOMEGROUP', u'code': u'WB_UMI'},\n",
       "  {u'category': u'SEX', u'code': u'FMLE'},\n",
       "  {u'category': u'COUNTRY', u'code': u'IRQ'}],\n",
       " u'comments': u'Survey 2011 MICS',\n",
       " u'dataset': u'CYCU',\n",
       " u'effective_date': u'2016-05-06',\n",
       " u'end_date': u'2900-12-31',\n",
       " u'fact_id': 13218565,\n",
       " u'published': True,\n",
       " u'value': {u'display': u'82.0',\n",
       "  u'high': None,\n",
       "  u'low': None,\n",
       "  u'numeric': 82.0}}"
      ]
     },
     "execution_count": 36,
     "metadata": {},
     "output_type": "execute_result"
    }
   ],
   "source": [
    "data['fact'][0]"
   ]
  },
  {
   "cell_type": "code",
   "execution_count": null,
   "metadata": {
    "collapsed": false,
    "scrolled": false
   },
   "outputs": [],
   "source": [
    "data['dimension']"
   ]
  },
  {
   "cell_type": "code",
   "execution_count": 37,
   "metadata": {
    "collapsed": false
   },
   "outputs": [
    {
     "data": {
      "text/html": [
       "<div>\n",
       "<table border=\"1\" class=\"dataframe\">\n",
       "  <thead>\n",
       "    <tr style=\"text-align: right;\">\n",
       "      <th></th>\n",
       "      <th>Dim</th>\n",
       "      <th>comments</th>\n",
       "      <th>dataset</th>\n",
       "      <th>effective_date</th>\n",
       "      <th>end_date</th>\n",
       "      <th>fact_id</th>\n",
       "      <th>published</th>\n",
       "      <th>value</th>\n",
       "    </tr>\n",
       "  </thead>\n",
       "  <tbody>\n",
       "    <tr>\n",
       "      <th>0</th>\n",
       "      <td>[{u'category': u'PUBLISHSTATE', u'code': u'PUB...</td>\n",
       "      <td>Survey 2011 MICS</td>\n",
       "      <td>CYCU</td>\n",
       "      <td>2016-05-06</td>\n",
       "      <td>2900-12-31</td>\n",
       "      <td>13218565</td>\n",
       "      <td>True</td>\n",
       "      <td>{u'high': None, u'display': u'82.0', u'numeric...</td>\n",
       "    </tr>\n",
       "    <tr>\n",
       "      <th>1</th>\n",
       "      <td>[{u'category': u'REGION', u'code': u'SEAR'}, {...</td>\n",
       "      <td>Census National Statistics</td>\n",
       "      <td>CYCU</td>\n",
       "      <td>2016-05-06</td>\n",
       "      <td>2900-12-31</td>\n",
       "      <td>13218531</td>\n",
       "      <td>True</td>\n",
       "      <td>{u'high': None, u'display': u'0.7', u'numeric'...</td>\n",
       "    </tr>\n",
       "    <tr>\n",
       "      <th>2</th>\n",
       "      <td>[{u'category': u'SEX', u'code': u'FMLE'}, {u'c...</td>\n",
       "      <td>Survey 2011 DHS</td>\n",
       "      <td>CYCU</td>\n",
       "      <td>2016-05-06</td>\n",
       "      <td>2900-12-31</td>\n",
       "      <td>13218540</td>\n",
       "      <td>True</td>\n",
       "      <td>{u'high': None, u'display': u'176.0', u'numeri...</td>\n",
       "    </tr>\n",
       "    <tr>\n",
       "      <th>3</th>\n",
       "      <td>[{u'category': u'PUBLISHSTATE', u'code': u'PUB...</td>\n",
       "      <td>Survey 2012 DHS</td>\n",
       "      <td>CYCU</td>\n",
       "      <td>2016-05-06</td>\n",
       "      <td>2900-12-31</td>\n",
       "      <td>13218547</td>\n",
       "      <td>True</td>\n",
       "      <td>{u'high': None, u'display': u'115.0', u'numeri...</td>\n",
       "    </tr>\n",
       "    <tr>\n",
       "      <th>4</th>\n",
       "      <td>[{u'category': u'PUBLISHSTATE', u'code': u'PUB...</td>\n",
       "      <td>Survey 2013 DHS</td>\n",
       "      <td>CYCU</td>\n",
       "      <td>2016-05-06</td>\n",
       "      <td>2900-12-31</td>\n",
       "      <td>13218548</td>\n",
       "      <td>True</td>\n",
       "      <td>{u'high': None, u'display': u'88.0', u'numeric...</td>\n",
       "    </tr>\n",
       "  </tbody>\n",
       "</table>\n",
       "</div>"
      ],
      "text/plain": [
       "                                                 Dim  \\\n",
       "0  [{u'category': u'PUBLISHSTATE', u'code': u'PUB...   \n",
       "1  [{u'category': u'REGION', u'code': u'SEAR'}, {...   \n",
       "2  [{u'category': u'SEX', u'code': u'FMLE'}, {u'c...   \n",
       "3  [{u'category': u'PUBLISHSTATE', u'code': u'PUB...   \n",
       "4  [{u'category': u'PUBLISHSTATE', u'code': u'PUB...   \n",
       "\n",
       "                     comments dataset effective_date    end_date   fact_id  \\\n",
       "0            Survey 2011 MICS    CYCU     2016-05-06  2900-12-31  13218565   \n",
       "1  Census National Statistics    CYCU     2016-05-06  2900-12-31  13218531   \n",
       "2             Survey 2011 DHS    CYCU     2016-05-06  2900-12-31  13218540   \n",
       "3             Survey 2012 DHS    CYCU     2016-05-06  2900-12-31  13218547   \n",
       "4             Survey 2013 DHS    CYCU     2016-05-06  2900-12-31  13218548   \n",
       "\n",
       "  published                                              value  \n",
       "0      True  {u'high': None, u'display': u'82.0', u'numeric...  \n",
       "1      True  {u'high': None, u'display': u'0.7', u'numeric'...  \n",
       "2      True  {u'high': None, u'display': u'176.0', u'numeri...  \n",
       "3      True  {u'high': None, u'display': u'115.0', u'numeri...  \n",
       "4      True  {u'high': None, u'display': u'88.0', u'numeric...  "
      ]
     },
     "execution_count": 37,
     "metadata": {},
     "output_type": "execute_result"
    }
   ],
   "source": [
    "facts.head()"
   ]
  },
  {
   "cell_type": "code",
   "execution_count": 38,
   "metadata": {
    "collapsed": false
   },
   "outputs": [
    {
     "data": {
      "text/plain": [
       "Index([u'Dim', u'comments', u'dataset', u'effective_date', u'end_date',\n",
       "       u'fact_id', u'published', u'value'],\n",
       "      dtype='object')"
      ]
     },
     "execution_count": 38,
     "metadata": {},
     "output_type": "execute_result"
    }
   ],
   "source": [
    "facts = data['fact']\n",
    "facts = pd.DataFrame(facts)\n",
    "facts.keys()"
   ]
  },
  {
   "cell_type": "code",
   "execution_count": 39,
   "metadata": {
    "collapsed": false
   },
   "outputs": [
    {
     "data": {
      "text/plain": [
       "{u'display': u'82.0', u'high': None, u'low': None, u'numeric': 82.0}"
      ]
     },
     "execution_count": 39,
     "metadata": {},
     "output_type": "execute_result"
    }
   ],
   "source": [
    "facts.value[0]"
   ]
  },
  {
   "cell_type": "code",
   "execution_count": 40,
   "metadata": {
    "collapsed": false
   },
   "outputs": [
    {
     "data": {
      "text/html": [
       "<div>\n",
       "<table border=\"1\" class=\"dataframe\">\n",
       "  <thead>\n",
       "    <tr style=\"text-align: right;\">\n",
       "      <th></th>\n",
       "      <th>display</th>\n",
       "      <th>high</th>\n",
       "      <th>low</th>\n",
       "      <th>numeric</th>\n",
       "    </tr>\n",
       "  </thead>\n",
       "  <tbody>\n",
       "    <tr>\n",
       "      <th>0</th>\n",
       "      <td>82.0</td>\n",
       "      <td>None</td>\n",
       "      <td>None</td>\n",
       "      <td>82.0</td>\n",
       "    </tr>\n",
       "    <tr>\n",
       "      <th>1</th>\n",
       "      <td>0.7</td>\n",
       "      <td>None</td>\n",
       "      <td>None</td>\n",
       "      <td>0.7</td>\n",
       "    </tr>\n",
       "    <tr>\n",
       "      <th>2</th>\n",
       "      <td>176.0</td>\n",
       "      <td>None</td>\n",
       "      <td>None</td>\n",
       "      <td>176.0</td>\n",
       "    </tr>\n",
       "    <tr>\n",
       "      <th>3</th>\n",
       "      <td>115.0</td>\n",
       "      <td>None</td>\n",
       "      <td>None</td>\n",
       "      <td>115.0</td>\n",
       "    </tr>\n",
       "    <tr>\n",
       "      <th>4</th>\n",
       "      <td>88.0</td>\n",
       "      <td>None</td>\n",
       "      <td>None</td>\n",
       "      <td>88.0</td>\n",
       "    </tr>\n",
       "  </tbody>\n",
       "</table>\n",
       "</div>"
      ],
      "text/plain": [
       "  display  high   low  numeric\n",
       "0    82.0  None  None     82.0\n",
       "1     0.7  None  None      0.7\n",
       "2   176.0  None  None    176.0\n",
       "3   115.0  None  None    115.0\n",
       "4    88.0  None  None     88.0"
      ]
     },
     "execution_count": 40,
     "metadata": {},
     "output_type": "execute_result"
    }
   ],
   "source": [
    "#extracting numeric values from adolescent birth rate table data.fact.values\n",
    "\n",
    "data2 = list(facts.value)\n",
    "values = pd.DataFrame(data=data2)\n",
    "values.head()\n",
    "\n"
   ]
  },
  {
   "cell_type": "code",
   "execution_count": 42,
   "metadata": {
    "collapsed": false,
    "scrolled": true
   },
   "outputs": [
    {
     "data": {
      "text/plain": [
       "[{u'category': u'PUBLISHSTATE', u'code': u'PUBLISHED'},\n",
       " {u'category': u'REGION', u'code': u'EMR'},\n",
       " {u'category': u'YEAR', u'code': u'2009'},\n",
       " {u'category': u'GHO', u'code': u'MDG_0000000003'},\n",
       " {u'category': u'WORLDBANKINCOMEGROUP', u'code': u'WB_UMI'},\n",
       " {u'category': u'SEX', u'code': u'FMLE'},\n",
       " {u'category': u'COUNTRY', u'code': u'IRQ'}]"
      ]
     },
     "execution_count": 42,
     "metadata": {},
     "output_type": "execute_result"
    }
   ],
   "source": [
    "facts.Dim[0]"
   ]
  },
  {
   "cell_type": "code",
   "execution_count": 53,
   "metadata": {
    "collapsed": false
   },
   "outputs": [
    {
     "data": {
      "text/html": [
       "<div>\n",
       "<table border=\"1\" class=\"dataframe\">\n",
       "  <thead>\n",
       "    <tr style=\"text-align: right;\">\n",
       "      <th></th>\n",
       "      <th>0</th>\n",
       "      <th>1</th>\n",
       "      <th>2</th>\n",
       "      <th>3</th>\n",
       "      <th>4</th>\n",
       "      <th>5</th>\n",
       "      <th>6</th>\n",
       "    </tr>\n",
       "  </thead>\n",
       "  <tbody>\n",
       "    <tr>\n",
       "      <th>0</th>\n",
       "      <td>{u'category': u'PUBLISHSTATE', u'code': u'PUBL...</td>\n",
       "      <td>{u'category': u'REGION', u'code': u'EMR'}</td>\n",
       "      <td>{u'category': u'YEAR', u'code': u'2009'}</td>\n",
       "      <td>{u'category': u'GHO', u'code': u'MDG_0000000003'}</td>\n",
       "      <td>{u'category': u'WORLDBANKINCOMEGROUP', u'code'...</td>\n",
       "      <td>{u'category': u'SEX', u'code': u'FMLE'}</td>\n",
       "      <td>{u'category': u'COUNTRY', u'code': u'IRQ'}</td>\n",
       "    </tr>\n",
       "    <tr>\n",
       "      <th>1</th>\n",
       "      <td>{u'category': u'REGION', u'code': u'SEAR'}</td>\n",
       "      <td>{u'category': u'GHO', u'code': u'MDG_0000000003'}</td>\n",
       "      <td>{u'category': u'COUNTRY', u'code': u'PRK'}</td>\n",
       "      <td>{u'category': u'WORLDBANKINCOMEGROUP', u'code'...</td>\n",
       "      <td>{u'category': u'YEAR', u'code': u'2008'}</td>\n",
       "      <td>{u'category': u'SEX', u'code': u'FMLE'}</td>\n",
       "      <td>{u'category': u'PUBLISHSTATE', u'code': u'PUBL...</td>\n",
       "    </tr>\n",
       "    <tr>\n",
       "      <th>2</th>\n",
       "      <td>{u'category': u'SEX', u'code': u'FMLE'}</td>\n",
       "      <td>{u'category': u'WORLDBANKINCOMEGROUP', u'code'...</td>\n",
       "      <td>{u'category': u'YEAR', u'code': u'2010'}</td>\n",
       "      <td>{u'category': u'REGION', u'code': u'AFR'}</td>\n",
       "      <td>{u'category': u'PUBLISHSTATE', u'code': u'PUBL...</td>\n",
       "      <td>{u'category': u'COUNTRY', u'code': u'GNQ'}</td>\n",
       "      <td>{u'category': u'GHO', u'code': u'MDG_0000000003'}</td>\n",
       "    </tr>\n",
       "    <tr>\n",
       "      <th>3</th>\n",
       "      <td>{u'category': u'PUBLISHSTATE', u'code': u'PUBL...</td>\n",
       "      <td>{u'category': u'GHO', u'code': u'MDG_0000000003'}</td>\n",
       "      <td>{u'category': u'WORLDBANKINCOMEGROUP', u'code'...</td>\n",
       "      <td>{u'category': u'SEX', u'code': u'FMLE'}</td>\n",
       "      <td>{u'category': u'REGION', u'code': u'AFR'}</td>\n",
       "      <td>{u'category': u'COUNTRY', u'code': u'GAB'}</td>\n",
       "      <td>{u'category': u'YEAR', u'code': u'2009'}</td>\n",
       "    </tr>\n",
       "    <tr>\n",
       "      <th>4</th>\n",
       "      <td>{u'category': u'PUBLISHSTATE', u'code': u'PUBL...</td>\n",
       "      <td>{u'category': u'WORLDBANKINCOMEGROUP', u'code'...</td>\n",
       "      <td>{u'category': u'YEAR', u'code': u'2011'}</td>\n",
       "      <td>{u'category': u'GHO', u'code': u'MDG_0000000003'}</td>\n",
       "      <td>{u'category': u'SEX', u'code': u'FMLE'}</td>\n",
       "      <td>{u'category': u'COUNTRY', u'code': u'GMB'}</td>\n",
       "      <td>{u'category': u'REGION', u'code': u'AFR'}</td>\n",
       "    </tr>\n",
       "  </tbody>\n",
       "</table>\n",
       "</div>"
      ],
      "text/plain": [
       "                                                   0  \\\n",
       "0  {u'category': u'PUBLISHSTATE', u'code': u'PUBL...   \n",
       "1         {u'category': u'REGION', u'code': u'SEAR'}   \n",
       "2            {u'category': u'SEX', u'code': u'FMLE'}   \n",
       "3  {u'category': u'PUBLISHSTATE', u'code': u'PUBL...   \n",
       "4  {u'category': u'PUBLISHSTATE', u'code': u'PUBL...   \n",
       "\n",
       "                                                   1  \\\n",
       "0          {u'category': u'REGION', u'code': u'EMR'}   \n",
       "1  {u'category': u'GHO', u'code': u'MDG_0000000003'}   \n",
       "2  {u'category': u'WORLDBANKINCOMEGROUP', u'code'...   \n",
       "3  {u'category': u'GHO', u'code': u'MDG_0000000003'}   \n",
       "4  {u'category': u'WORLDBANKINCOMEGROUP', u'code'...   \n",
       "\n",
       "                                                   2  \\\n",
       "0           {u'category': u'YEAR', u'code': u'2009'}   \n",
       "1         {u'category': u'COUNTRY', u'code': u'PRK'}   \n",
       "2           {u'category': u'YEAR', u'code': u'2010'}   \n",
       "3  {u'category': u'WORLDBANKINCOMEGROUP', u'code'...   \n",
       "4           {u'category': u'YEAR', u'code': u'2011'}   \n",
       "\n",
       "                                                   3  \\\n",
       "0  {u'category': u'GHO', u'code': u'MDG_0000000003'}   \n",
       "1  {u'category': u'WORLDBANKINCOMEGROUP', u'code'...   \n",
       "2          {u'category': u'REGION', u'code': u'AFR'}   \n",
       "3            {u'category': u'SEX', u'code': u'FMLE'}   \n",
       "4  {u'category': u'GHO', u'code': u'MDG_0000000003'}   \n",
       "\n",
       "                                                   4  \\\n",
       "0  {u'category': u'WORLDBANKINCOMEGROUP', u'code'...   \n",
       "1           {u'category': u'YEAR', u'code': u'2008'}   \n",
       "2  {u'category': u'PUBLISHSTATE', u'code': u'PUBL...   \n",
       "3          {u'category': u'REGION', u'code': u'AFR'}   \n",
       "4            {u'category': u'SEX', u'code': u'FMLE'}   \n",
       "\n",
       "                                            5  \\\n",
       "0     {u'category': u'SEX', u'code': u'FMLE'}   \n",
       "1     {u'category': u'SEX', u'code': u'FMLE'}   \n",
       "2  {u'category': u'COUNTRY', u'code': u'GNQ'}   \n",
       "3  {u'category': u'COUNTRY', u'code': u'GAB'}   \n",
       "4  {u'category': u'COUNTRY', u'code': u'GMB'}   \n",
       "\n",
       "                                                   6  \n",
       "0         {u'category': u'COUNTRY', u'code': u'IRQ'}  \n",
       "1  {u'category': u'PUBLISHSTATE', u'code': u'PUBL...  \n",
       "2  {u'category': u'GHO', u'code': u'MDG_0000000003'}  \n",
       "3           {u'category': u'YEAR', u'code': u'2009'}  \n",
       "4          {u'category': u'REGION', u'code': u'AFR'}  "
      ]
     },
     "execution_count": 53,
     "metadata": {},
     "output_type": "execute_result"
    }
   ],
   "source": [
    "# trying to extract the country codes out of the adolescent birth rate table data.fact.dim\n",
    "data3 = list(facts.Dim)\n",
    "dim = pd.DataFrame(data=data3) \n",
    "dim.head()\n"
   ]
  },
  {
   "cell_type": "code",
   "execution_count": 58,
   "metadata": {
    "collapsed": false
   },
   "outputs": [
    {
     "data": {
      "text/html": [
       "<div>\n",
       "<table border=\"1\" class=\"dataframe\">\n",
       "  <thead>\n",
       "    <tr style=\"text-align: right;\">\n",
       "      <th></th>\n",
       "      <th>category</th>\n",
       "      <th>code</th>\n",
       "    </tr>\n",
       "  </thead>\n",
       "  <tbody>\n",
       "    <tr>\n",
       "      <th>0</th>\n",
       "      <td>REGION</td>\n",
       "      <td>EMR</td>\n",
       "    </tr>\n",
       "    <tr>\n",
       "      <th>1</th>\n",
       "      <td>GHO</td>\n",
       "      <td>MDG_0000000003</td>\n",
       "    </tr>\n",
       "    <tr>\n",
       "      <th>2</th>\n",
       "      <td>WORLDBANKINCOMEGROUP</td>\n",
       "      <td>WB_HI</td>\n",
       "    </tr>\n",
       "    <tr>\n",
       "      <th>3</th>\n",
       "      <td>GHO</td>\n",
       "      <td>MDG_0000000003</td>\n",
       "    </tr>\n",
       "    <tr>\n",
       "      <th>4</th>\n",
       "      <td>WORLDBANKINCOMEGROUP</td>\n",
       "      <td>WB_LI</td>\n",
       "    </tr>\n",
       "  </tbody>\n",
       "</table>\n",
       "</div>"
      ],
      "text/plain": [
       "               category            code\n",
       "0                REGION             EMR\n",
       "1                   GHO  MDG_0000000003\n",
       "2  WORLDBANKINCOMEGROUP           WB_HI\n",
       "3                   GHO  MDG_0000000003\n",
       "4  WORLDBANKINCOMEGROUP           WB_LI"
      ]
     },
     "execution_count": 58,
     "metadata": {},
     "output_type": "execute_result"
    }
   ],
   "source": [
    "col_0 = list(dim[0])\n",
    "dim_col_0=pd.DataFrame(data=col_0)\n",
    "dim_col_0.head()\n",
    "\n"
   ]
  },
  {
   "cell_type": "code",
   "execution_count": 59,
   "metadata": {
    "collapsed": false
   },
   "outputs": [
    {
     "data": {
      "text/html": [
       "<div>\n",
       "<table border=\"1\" class=\"dataframe\">\n",
       "  <thead>\n",
       "    <tr style=\"text-align: right;\">\n",
       "      <th></th>\n",
       "      <th>category</th>\n",
       "      <th>code</th>\n",
       "    </tr>\n",
       "  </thead>\n",
       "  <tbody>\n",
       "    <tr>\n",
       "      <th>0</th>\n",
       "      <td>REGION</td>\n",
       "      <td>EMR</td>\n",
       "    </tr>\n",
       "    <tr>\n",
       "      <th>1</th>\n",
       "      <td>GHO</td>\n",
       "      <td>MDG_0000000003</td>\n",
       "    </tr>\n",
       "    <tr>\n",
       "      <th>2</th>\n",
       "      <td>WORLDBANKINCOMEGROUP</td>\n",
       "      <td>WB_HI</td>\n",
       "    </tr>\n",
       "    <tr>\n",
       "      <th>3</th>\n",
       "      <td>GHO</td>\n",
       "      <td>MDG_0000000003</td>\n",
       "    </tr>\n",
       "    <tr>\n",
       "      <th>4</th>\n",
       "      <td>WORLDBANKINCOMEGROUP</td>\n",
       "      <td>WB_LI</td>\n",
       "    </tr>\n",
       "  </tbody>\n",
       "</table>\n",
       "</div>"
      ],
      "text/plain": [
       "               category            code\n",
       "0                REGION             EMR\n",
       "1                   GHO  MDG_0000000003\n",
       "2  WORLDBANKINCOMEGROUP           WB_HI\n",
       "3                   GHO  MDG_0000000003\n",
       "4  WORLDBANKINCOMEGROUP           WB_LI"
      ]
     },
     "execution_count": 59,
     "metadata": {},
     "output_type": "execute_result"
    }
   ],
   "source": [
    "col_1 = list(dim[1])\n",
    "dim_col_1=pd.DataFrame(data=col_1)\n",
    "dim_col_1.head()"
   ]
  },
  {
   "cell_type": "code",
   "execution_count": 60,
   "metadata": {
    "collapsed": false
   },
   "outputs": [
    {
     "data": {
      "text/html": [
       "<div>\n",
       "<table border=\"1\" class=\"dataframe\">\n",
       "  <thead>\n",
       "    <tr style=\"text-align: right;\">\n",
       "      <th></th>\n",
       "      <th>category</th>\n",
       "      <th>code</th>\n",
       "    </tr>\n",
       "  </thead>\n",
       "  <tbody>\n",
       "    <tr>\n",
       "      <th>0</th>\n",
       "      <td>YEAR</td>\n",
       "      <td>2009</td>\n",
       "    </tr>\n",
       "    <tr>\n",
       "      <th>1</th>\n",
       "      <td>COUNTRY</td>\n",
       "      <td>PRK</td>\n",
       "    </tr>\n",
       "    <tr>\n",
       "      <th>2</th>\n",
       "      <td>YEAR</td>\n",
       "      <td>2010</td>\n",
       "    </tr>\n",
       "    <tr>\n",
       "      <th>3</th>\n",
       "      <td>WORLDBANKINCOMEGROUP</td>\n",
       "      <td>WB_UMI</td>\n",
       "    </tr>\n",
       "    <tr>\n",
       "      <th>4</th>\n",
       "      <td>YEAR</td>\n",
       "      <td>2011</td>\n",
       "    </tr>\n",
       "  </tbody>\n",
       "</table>\n",
       "</div>"
      ],
      "text/plain": [
       "               category    code\n",
       "0                  YEAR    2009\n",
       "1               COUNTRY     PRK\n",
       "2                  YEAR    2010\n",
       "3  WORLDBANKINCOMEGROUP  WB_UMI\n",
       "4                  YEAR    2011"
      ]
     },
     "execution_count": 60,
     "metadata": {},
     "output_type": "execute_result"
    }
   ],
   "source": [
    "col_2 = list(dim[2])\n",
    "dim_col_2=pd.DataFrame(data=col_2)\n",
    "dim_col_2.head()"
   ]
  },
  {
   "cell_type": "code",
   "execution_count": 68,
   "metadata": {
    "collapsed": false
   },
   "outputs": [
    {
     "data": {
      "text/html": [
       "<div>\n",
       "<table border=\"1\" class=\"dataframe\">\n",
       "  <thead>\n",
       "    <tr style=\"text-align: right;\">\n",
       "      <th></th>\n",
       "      <th>category</th>\n",
       "      <th>code</th>\n",
       "    </tr>\n",
       "  </thead>\n",
       "  <tbody>\n",
       "    <tr>\n",
       "      <th>0</th>\n",
       "      <td>GHO</td>\n",
       "      <td>MDG_0000000003</td>\n",
       "    </tr>\n",
       "    <tr>\n",
       "      <th>1</th>\n",
       "      <td>WORLDBANKINCOMEGROUP</td>\n",
       "      <td>WB_LI</td>\n",
       "    </tr>\n",
       "    <tr>\n",
       "      <th>2</th>\n",
       "      <td>REGION</td>\n",
       "      <td>AFR</td>\n",
       "    </tr>\n",
       "    <tr>\n",
       "      <th>3</th>\n",
       "      <td>SEX</td>\n",
       "      <td>FMLE</td>\n",
       "    </tr>\n",
       "    <tr>\n",
       "      <th>4</th>\n",
       "      <td>GHO</td>\n",
       "      <td>MDG_0000000003</td>\n",
       "    </tr>\n",
       "  </tbody>\n",
       "</table>\n",
       "</div>"
      ],
      "text/plain": [
       "               category            code\n",
       "0                   GHO  MDG_0000000003\n",
       "1  WORLDBANKINCOMEGROUP           WB_LI\n",
       "2                REGION             AFR\n",
       "3                   SEX            FMLE\n",
       "4                   GHO  MDG_0000000003"
      ]
     },
     "execution_count": 68,
     "metadata": {},
     "output_type": "execute_result"
    }
   ],
   "source": [
    "col_3 = list(dim[3])\n",
    "dim_col_3=pd.DataFrame(data=col_3)\n",
    "dim_col_3.head()"
   ]
  },
  {
   "cell_type": "code",
   "execution_count": 67,
   "metadata": {
    "collapsed": false
   },
   "outputs": [
    {
     "data": {
      "text/html": [
       "<div>\n",
       "<table border=\"1\" class=\"dataframe\">\n",
       "  <thead>\n",
       "    <tr style=\"text-align: right;\">\n",
       "      <th></th>\n",
       "      <th>category</th>\n",
       "      <th>code</th>\n",
       "    </tr>\n",
       "  </thead>\n",
       "  <tbody>\n",
       "    <tr>\n",
       "      <th>0</th>\n",
       "      <td>WORLDBANKINCOMEGROUP</td>\n",
       "      <td>WB_UMI</td>\n",
       "    </tr>\n",
       "    <tr>\n",
       "      <th>1</th>\n",
       "      <td>YEAR</td>\n",
       "      <td>2008</td>\n",
       "    </tr>\n",
       "    <tr>\n",
       "      <th>2</th>\n",
       "      <td>PUBLISHSTATE</td>\n",
       "      <td>PUBLISHED</td>\n",
       "    </tr>\n",
       "    <tr>\n",
       "      <th>3</th>\n",
       "      <td>REGION</td>\n",
       "      <td>AFR</td>\n",
       "    </tr>\n",
       "    <tr>\n",
       "      <th>4</th>\n",
       "      <td>SEX</td>\n",
       "      <td>FMLE</td>\n",
       "    </tr>\n",
       "  </tbody>\n",
       "</table>\n",
       "</div>"
      ],
      "text/plain": [
       "               category       code\n",
       "0  WORLDBANKINCOMEGROUP     WB_UMI\n",
       "1                  YEAR       2008\n",
       "2          PUBLISHSTATE  PUBLISHED\n",
       "3                REGION        AFR\n",
       "4                   SEX       FMLE"
      ]
     },
     "execution_count": 67,
     "metadata": {},
     "output_type": "execute_result"
    }
   ],
   "source": [
    "col_4 = list(dim[4])\n",
    "dim_col_4=pd.DataFrame(data=col_4)\n",
    "dim_col_4.head()"
   ]
  },
  {
   "cell_type": "code",
   "execution_count": 80,
   "metadata": {
    "collapsed": false
   },
   "outputs": [
    {
     "ename": "AttributeError",
     "evalue": "'NoneType' object has no attribute 'keys'",
     "output_type": "error",
     "traceback": [
      "\u001b[1;31m---------------------------------------------------------------------------\u001b[0m",
      "\u001b[1;31mAttributeError\u001b[0m                            Traceback (most recent call last)",
      "\u001b[1;32m<ipython-input-80-1186ca4fb16a>\u001b[0m in \u001b[0;36m<module>\u001b[1;34m()\u001b[0m\n\u001b[0;32m      1\u001b[0m \u001b[0mcol_5\u001b[0m \u001b[1;33m=\u001b[0m \u001b[0mlist\u001b[0m\u001b[1;33m(\u001b[0m\u001b[0mdim\u001b[0m\u001b[1;33m[\u001b[0m\u001b[1;36m5\u001b[0m\u001b[1;33m]\u001b[0m\u001b[1;33m)\u001b[0m\u001b[1;33m\u001b[0m\u001b[0m\n\u001b[1;32m----> 2\u001b[1;33m \u001b[0mdim_col_5\u001b[0m \u001b[1;33m=\u001b[0m \u001b[0mpd\u001b[0m\u001b[1;33m.\u001b[0m\u001b[0mDataFrame\u001b[0m\u001b[1;33m(\u001b[0m\u001b[0mdata\u001b[0m \u001b[1;33m=\u001b[0m \u001b[0mcol_5\u001b[0m\u001b[1;33m)\u001b[0m\u001b[1;33m\u001b[0m\u001b[0m\n\u001b[0m",
      "\u001b[1;32mC:\\Users\\minire\\Anaconda2\\lib\\site-packages\\pandas\\core\\frame.pyc\u001b[0m in \u001b[0;36m__init__\u001b[1;34m(self, data, index, columns, dtype, copy)\u001b[0m\n\u001b[0;32m    261\u001b[0m                     \u001b[1;32mif\u001b[0m \u001b[0mcom\u001b[0m\u001b[1;33m.\u001b[0m\u001b[0mis_named_tuple\u001b[0m\u001b[1;33m(\u001b[0m\u001b[0mdata\u001b[0m\u001b[1;33m[\u001b[0m\u001b[1;36m0\u001b[0m\u001b[1;33m]\u001b[0m\u001b[1;33m)\u001b[0m \u001b[1;32mand\u001b[0m \u001b[0mcolumns\u001b[0m \u001b[1;32mis\u001b[0m \u001b[0mNone\u001b[0m\u001b[1;33m:\u001b[0m\u001b[1;33m\u001b[0m\u001b[0m\n\u001b[0;32m    262\u001b[0m                         \u001b[0mcolumns\u001b[0m \u001b[1;33m=\u001b[0m \u001b[0mdata\u001b[0m\u001b[1;33m[\u001b[0m\u001b[1;36m0\u001b[0m\u001b[1;33m]\u001b[0m\u001b[1;33m.\u001b[0m\u001b[0m_fields\u001b[0m\u001b[1;33m\u001b[0m\u001b[0m\n\u001b[1;32m--> 263\u001b[1;33m                     \u001b[0marrays\u001b[0m\u001b[1;33m,\u001b[0m \u001b[0mcolumns\u001b[0m \u001b[1;33m=\u001b[0m \u001b[0m_to_arrays\u001b[0m\u001b[1;33m(\u001b[0m\u001b[0mdata\u001b[0m\u001b[1;33m,\u001b[0m \u001b[0mcolumns\u001b[0m\u001b[1;33m,\u001b[0m \u001b[0mdtype\u001b[0m\u001b[1;33m=\u001b[0m\u001b[0mdtype\u001b[0m\u001b[1;33m)\u001b[0m\u001b[1;33m\u001b[0m\u001b[0m\n\u001b[0m\u001b[0;32m    264\u001b[0m                     \u001b[0mcolumns\u001b[0m \u001b[1;33m=\u001b[0m \u001b[0m_ensure_index\u001b[0m\u001b[1;33m(\u001b[0m\u001b[0mcolumns\u001b[0m\u001b[1;33m)\u001b[0m\u001b[1;33m\u001b[0m\u001b[0m\n\u001b[0;32m    265\u001b[0m \u001b[1;33m\u001b[0m\u001b[0m\n",
      "\u001b[1;32mC:\\Users\\minire\\Anaconda2\\lib\\site-packages\\pandas\\core\\frame.pyc\u001b[0m in \u001b[0;36m_to_arrays\u001b[1;34m(data, columns, coerce_float, dtype)\u001b[0m\n\u001b[0;32m   5353\u001b[0m     \u001b[1;32melif\u001b[0m \u001b[0misinstance\u001b[0m\u001b[1;33m(\u001b[0m\u001b[0mdata\u001b[0m\u001b[1;33m[\u001b[0m\u001b[1;36m0\u001b[0m\u001b[1;33m]\u001b[0m\u001b[1;33m,\u001b[0m \u001b[0mcollections\u001b[0m\u001b[1;33m.\u001b[0m\u001b[0mMapping\u001b[0m\u001b[1;33m)\u001b[0m\u001b[1;33m:\u001b[0m\u001b[1;33m\u001b[0m\u001b[0m\n\u001b[0;32m   5354\u001b[0m         return _list_of_dict_to_arrays(data, columns,\n\u001b[1;32m-> 5355\u001b[1;33m                                        coerce_float=coerce_float, dtype=dtype)\n\u001b[0m\u001b[0;32m   5356\u001b[0m     \u001b[1;32melif\u001b[0m \u001b[0misinstance\u001b[0m\u001b[1;33m(\u001b[0m\u001b[0mdata\u001b[0m\u001b[1;33m[\u001b[0m\u001b[1;36m0\u001b[0m\u001b[1;33m]\u001b[0m\u001b[1;33m,\u001b[0m \u001b[0mSeries\u001b[0m\u001b[1;33m)\u001b[0m\u001b[1;33m:\u001b[0m\u001b[1;33m\u001b[0m\u001b[0m\n\u001b[0;32m   5357\u001b[0m         return _list_of_series_to_arrays(data, columns,\n",
      "\u001b[1;32mC:\\Users\\minire\\Anaconda2\\lib\\site-packages\\pandas\\core\\frame.pyc\u001b[0m in \u001b[0;36m_list_of_dict_to_arrays\u001b[1;34m(data, columns, coerce_float, dtype)\u001b[0m\n\u001b[0;32m   5469\u001b[0m     \u001b[1;32mif\u001b[0m \u001b[0mcolumns\u001b[0m \u001b[1;32mis\u001b[0m \u001b[0mNone\u001b[0m\u001b[1;33m:\u001b[0m\u001b[1;33m\u001b[0m\u001b[0m\n\u001b[0;32m   5470\u001b[0m         \u001b[0mgen\u001b[0m \u001b[1;33m=\u001b[0m \u001b[1;33m(\u001b[0m\u001b[0mlist\u001b[0m\u001b[1;33m(\u001b[0m\u001b[0mx\u001b[0m\u001b[1;33m.\u001b[0m\u001b[0mkeys\u001b[0m\u001b[1;33m(\u001b[0m\u001b[1;33m)\u001b[0m\u001b[1;33m)\u001b[0m \u001b[1;32mfor\u001b[0m \u001b[0mx\u001b[0m \u001b[1;32min\u001b[0m \u001b[0mdata\u001b[0m\u001b[1;33m)\u001b[0m\u001b[1;33m\u001b[0m\u001b[0m\n\u001b[1;32m-> 5471\u001b[1;33m         \u001b[0mcolumns\u001b[0m \u001b[1;33m=\u001b[0m \u001b[0mlib\u001b[0m\u001b[1;33m.\u001b[0m\u001b[0mfast_unique_multiple_list_gen\u001b[0m\u001b[1;33m(\u001b[0m\u001b[0mgen\u001b[0m\u001b[1;33m)\u001b[0m\u001b[1;33m\u001b[0m\u001b[0m\n\u001b[0m\u001b[0;32m   5472\u001b[0m \u001b[1;33m\u001b[0m\u001b[0m\n\u001b[0;32m   5473\u001b[0m     \u001b[1;31m# assure that they are of the base dict class and not of derived\u001b[0m\u001b[1;33m\u001b[0m\u001b[1;33m\u001b[0m\u001b[0m\n",
      "\u001b[1;32mpandas\\lib.pyx\u001b[0m in \u001b[0;36mpandas.lib.fast_unique_multiple_list_gen (pandas\\lib.c:10190)\u001b[1;34m()\u001b[0m\n",
      "\u001b[1;32mC:\\Users\\minire\\Anaconda2\\lib\\site-packages\\pandas\\core\\frame.pyc\u001b[0m in \u001b[0;36m<genexpr>\u001b[1;34m((x,))\u001b[0m\n\u001b[0;32m   5468\u001b[0m \u001b[1;32mdef\u001b[0m \u001b[0m_list_of_dict_to_arrays\u001b[0m\u001b[1;33m(\u001b[0m\u001b[0mdata\u001b[0m\u001b[1;33m,\u001b[0m \u001b[0mcolumns\u001b[0m\u001b[1;33m,\u001b[0m \u001b[0mcoerce_float\u001b[0m\u001b[1;33m=\u001b[0m\u001b[0mFalse\u001b[0m\u001b[1;33m,\u001b[0m \u001b[0mdtype\u001b[0m\u001b[1;33m=\u001b[0m\u001b[0mNone\u001b[0m\u001b[1;33m)\u001b[0m\u001b[1;33m:\u001b[0m\u001b[1;33m\u001b[0m\u001b[0m\n\u001b[0;32m   5469\u001b[0m     \u001b[1;32mif\u001b[0m \u001b[0mcolumns\u001b[0m \u001b[1;32mis\u001b[0m \u001b[0mNone\u001b[0m\u001b[1;33m:\u001b[0m\u001b[1;33m\u001b[0m\u001b[0m\n\u001b[1;32m-> 5470\u001b[1;33m         \u001b[0mgen\u001b[0m \u001b[1;33m=\u001b[0m \u001b[1;33m(\u001b[0m\u001b[0mlist\u001b[0m\u001b[1;33m(\u001b[0m\u001b[0mx\u001b[0m\u001b[1;33m.\u001b[0m\u001b[0mkeys\u001b[0m\u001b[1;33m(\u001b[0m\u001b[1;33m)\u001b[0m\u001b[1;33m)\u001b[0m \u001b[1;32mfor\u001b[0m \u001b[0mx\u001b[0m \u001b[1;32min\u001b[0m \u001b[0mdata\u001b[0m\u001b[1;33m)\u001b[0m\u001b[1;33m\u001b[0m\u001b[0m\n\u001b[0m\u001b[0;32m   5471\u001b[0m         \u001b[0mcolumns\u001b[0m \u001b[1;33m=\u001b[0m \u001b[0mlib\u001b[0m\u001b[1;33m.\u001b[0m\u001b[0mfast_unique_multiple_list_gen\u001b[0m\u001b[1;33m(\u001b[0m\u001b[0mgen\u001b[0m\u001b[1;33m)\u001b[0m\u001b[1;33m\u001b[0m\u001b[0m\n\u001b[0;32m   5472\u001b[0m \u001b[1;33m\u001b[0m\u001b[0m\n",
      "\u001b[1;31mAttributeError\u001b[0m: 'NoneType' object has no attribute 'keys'"
     ]
    }
   ],
   "source": [
    "col_5 = list(dim[5])\n",
    "dim_col_5 = pd.DataFrame(data = col_5)"
   ]
  },
  {
   "cell_type": "code",
   "execution_count": 65,
   "metadata": {
    "collapsed": false
   },
   "outputs": [
    {
     "ename": "AttributeError",
     "evalue": "'NoneType' object has no attribute 'keys'",
     "output_type": "error",
     "traceback": [
      "\u001b[1;31m---------------------------------------------------------------------------\u001b[0m",
      "\u001b[1;31mAttributeError\u001b[0m                            Traceback (most recent call last)",
      "\u001b[1;32m<ipython-input-65-987452093f28>\u001b[0m in \u001b[0;36m<module>\u001b[1;34m()\u001b[0m\n\u001b[0;32m      1\u001b[0m \u001b[0mcol_6\u001b[0m \u001b[1;33m=\u001b[0m \u001b[0mlist\u001b[0m\u001b[1;33m(\u001b[0m\u001b[0mdim\u001b[0m\u001b[1;33m[\u001b[0m\u001b[1;36m6\u001b[0m\u001b[1;33m]\u001b[0m\u001b[1;33m)\u001b[0m\u001b[1;33m\u001b[0m\u001b[0m\n\u001b[1;32m----> 2\u001b[1;33m \u001b[0mdim_col_6\u001b[0m\u001b[1;33m=\u001b[0m\u001b[0mpd\u001b[0m\u001b[1;33m.\u001b[0m\u001b[0mDataFrame\u001b[0m\u001b[1;33m(\u001b[0m\u001b[0mdata\u001b[0m\u001b[1;33m=\u001b[0m\u001b[0mcol_6\u001b[0m\u001b[1;33m)\u001b[0m\u001b[1;33m\u001b[0m\u001b[0m\n\u001b[0m\u001b[0;32m      3\u001b[0m \u001b[0mdim_col_6\u001b[0m\u001b[1;33m.\u001b[0m\u001b[0mhead\u001b[0m\u001b[1;33m(\u001b[0m\u001b[1;33m)\u001b[0m\u001b[1;33m\u001b[0m\u001b[0m\n",
      "\u001b[1;32mC:\\Users\\minire\\Anaconda2\\lib\\site-packages\\pandas\\core\\frame.pyc\u001b[0m in \u001b[0;36m__init__\u001b[1;34m(self, data, index, columns, dtype, copy)\u001b[0m\n\u001b[0;32m    261\u001b[0m                     \u001b[1;32mif\u001b[0m \u001b[0mcom\u001b[0m\u001b[1;33m.\u001b[0m\u001b[0mis_named_tuple\u001b[0m\u001b[1;33m(\u001b[0m\u001b[0mdata\u001b[0m\u001b[1;33m[\u001b[0m\u001b[1;36m0\u001b[0m\u001b[1;33m]\u001b[0m\u001b[1;33m)\u001b[0m \u001b[1;32mand\u001b[0m \u001b[0mcolumns\u001b[0m \u001b[1;32mis\u001b[0m \u001b[0mNone\u001b[0m\u001b[1;33m:\u001b[0m\u001b[1;33m\u001b[0m\u001b[0m\n\u001b[0;32m    262\u001b[0m                         \u001b[0mcolumns\u001b[0m \u001b[1;33m=\u001b[0m \u001b[0mdata\u001b[0m\u001b[1;33m[\u001b[0m\u001b[1;36m0\u001b[0m\u001b[1;33m]\u001b[0m\u001b[1;33m.\u001b[0m\u001b[0m_fields\u001b[0m\u001b[1;33m\u001b[0m\u001b[0m\n\u001b[1;32m--> 263\u001b[1;33m                     \u001b[0marrays\u001b[0m\u001b[1;33m,\u001b[0m \u001b[0mcolumns\u001b[0m \u001b[1;33m=\u001b[0m \u001b[0m_to_arrays\u001b[0m\u001b[1;33m(\u001b[0m\u001b[0mdata\u001b[0m\u001b[1;33m,\u001b[0m \u001b[0mcolumns\u001b[0m\u001b[1;33m,\u001b[0m \u001b[0mdtype\u001b[0m\u001b[1;33m=\u001b[0m\u001b[0mdtype\u001b[0m\u001b[1;33m)\u001b[0m\u001b[1;33m\u001b[0m\u001b[0m\n\u001b[0m\u001b[0;32m    264\u001b[0m                     \u001b[0mcolumns\u001b[0m \u001b[1;33m=\u001b[0m \u001b[0m_ensure_index\u001b[0m\u001b[1;33m(\u001b[0m\u001b[0mcolumns\u001b[0m\u001b[1;33m)\u001b[0m\u001b[1;33m\u001b[0m\u001b[0m\n\u001b[0;32m    265\u001b[0m \u001b[1;33m\u001b[0m\u001b[0m\n",
      "\u001b[1;32mC:\\Users\\minire\\Anaconda2\\lib\\site-packages\\pandas\\core\\frame.pyc\u001b[0m in \u001b[0;36m_to_arrays\u001b[1;34m(data, columns, coerce_float, dtype)\u001b[0m\n\u001b[0;32m   5353\u001b[0m     \u001b[1;32melif\u001b[0m \u001b[0misinstance\u001b[0m\u001b[1;33m(\u001b[0m\u001b[0mdata\u001b[0m\u001b[1;33m[\u001b[0m\u001b[1;36m0\u001b[0m\u001b[1;33m]\u001b[0m\u001b[1;33m,\u001b[0m \u001b[0mcollections\u001b[0m\u001b[1;33m.\u001b[0m\u001b[0mMapping\u001b[0m\u001b[1;33m)\u001b[0m\u001b[1;33m:\u001b[0m\u001b[1;33m\u001b[0m\u001b[0m\n\u001b[0;32m   5354\u001b[0m         return _list_of_dict_to_arrays(data, columns,\n\u001b[1;32m-> 5355\u001b[1;33m                                        coerce_float=coerce_float, dtype=dtype)\n\u001b[0m\u001b[0;32m   5356\u001b[0m     \u001b[1;32melif\u001b[0m \u001b[0misinstance\u001b[0m\u001b[1;33m(\u001b[0m\u001b[0mdata\u001b[0m\u001b[1;33m[\u001b[0m\u001b[1;36m0\u001b[0m\u001b[1;33m]\u001b[0m\u001b[1;33m,\u001b[0m \u001b[0mSeries\u001b[0m\u001b[1;33m)\u001b[0m\u001b[1;33m:\u001b[0m\u001b[1;33m\u001b[0m\u001b[0m\n\u001b[0;32m   5357\u001b[0m         return _list_of_series_to_arrays(data, columns,\n",
      "\u001b[1;32mC:\\Users\\minire\\Anaconda2\\lib\\site-packages\\pandas\\core\\frame.pyc\u001b[0m in \u001b[0;36m_list_of_dict_to_arrays\u001b[1;34m(data, columns, coerce_float, dtype)\u001b[0m\n\u001b[0;32m   5469\u001b[0m     \u001b[1;32mif\u001b[0m \u001b[0mcolumns\u001b[0m \u001b[1;32mis\u001b[0m \u001b[0mNone\u001b[0m\u001b[1;33m:\u001b[0m\u001b[1;33m\u001b[0m\u001b[0m\n\u001b[0;32m   5470\u001b[0m         \u001b[0mgen\u001b[0m \u001b[1;33m=\u001b[0m \u001b[1;33m(\u001b[0m\u001b[0mlist\u001b[0m\u001b[1;33m(\u001b[0m\u001b[0mx\u001b[0m\u001b[1;33m.\u001b[0m\u001b[0mkeys\u001b[0m\u001b[1;33m(\u001b[0m\u001b[1;33m)\u001b[0m\u001b[1;33m)\u001b[0m \u001b[1;32mfor\u001b[0m \u001b[0mx\u001b[0m \u001b[1;32min\u001b[0m \u001b[0mdata\u001b[0m\u001b[1;33m)\u001b[0m\u001b[1;33m\u001b[0m\u001b[0m\n\u001b[1;32m-> 5471\u001b[1;33m         \u001b[0mcolumns\u001b[0m \u001b[1;33m=\u001b[0m \u001b[0mlib\u001b[0m\u001b[1;33m.\u001b[0m\u001b[0mfast_unique_multiple_list_gen\u001b[0m\u001b[1;33m(\u001b[0m\u001b[0mgen\u001b[0m\u001b[1;33m)\u001b[0m\u001b[1;33m\u001b[0m\u001b[0m\n\u001b[0m\u001b[0;32m   5472\u001b[0m \u001b[1;33m\u001b[0m\u001b[0m\n\u001b[0;32m   5473\u001b[0m     \u001b[1;31m# assure that they are of the base dict class and not of derived\u001b[0m\u001b[1;33m\u001b[0m\u001b[1;33m\u001b[0m\u001b[0m\n",
      "\u001b[1;32mpandas\\lib.pyx\u001b[0m in \u001b[0;36mpandas.lib.fast_unique_multiple_list_gen (pandas\\lib.c:10190)\u001b[1;34m()\u001b[0m\n",
      "\u001b[1;32mC:\\Users\\minire\\Anaconda2\\lib\\site-packages\\pandas\\core\\frame.pyc\u001b[0m in \u001b[0;36m<genexpr>\u001b[1;34m((x,))\u001b[0m\n\u001b[0;32m   5468\u001b[0m \u001b[1;32mdef\u001b[0m \u001b[0m_list_of_dict_to_arrays\u001b[0m\u001b[1;33m(\u001b[0m\u001b[0mdata\u001b[0m\u001b[1;33m,\u001b[0m \u001b[0mcolumns\u001b[0m\u001b[1;33m,\u001b[0m \u001b[0mcoerce_float\u001b[0m\u001b[1;33m=\u001b[0m\u001b[0mFalse\u001b[0m\u001b[1;33m,\u001b[0m \u001b[0mdtype\u001b[0m\u001b[1;33m=\u001b[0m\u001b[0mNone\u001b[0m\u001b[1;33m)\u001b[0m\u001b[1;33m:\u001b[0m\u001b[1;33m\u001b[0m\u001b[0m\n\u001b[0;32m   5469\u001b[0m     \u001b[1;32mif\u001b[0m \u001b[0mcolumns\u001b[0m \u001b[1;32mis\u001b[0m \u001b[0mNone\u001b[0m\u001b[1;33m:\u001b[0m\u001b[1;33m\u001b[0m\u001b[0m\n\u001b[1;32m-> 5470\u001b[1;33m         \u001b[0mgen\u001b[0m \u001b[1;33m=\u001b[0m \u001b[1;33m(\u001b[0m\u001b[0mlist\u001b[0m\u001b[1;33m(\u001b[0m\u001b[0mx\u001b[0m\u001b[1;33m.\u001b[0m\u001b[0mkeys\u001b[0m\u001b[1;33m(\u001b[0m\u001b[1;33m)\u001b[0m\u001b[1;33m)\u001b[0m \u001b[1;32mfor\u001b[0m \u001b[0mx\u001b[0m \u001b[1;32min\u001b[0m \u001b[0mdata\u001b[0m\u001b[1;33m)\u001b[0m\u001b[1;33m\u001b[0m\u001b[0m\n\u001b[0m\u001b[0;32m   5471\u001b[0m         \u001b[0mcolumns\u001b[0m \u001b[1;33m=\u001b[0m \u001b[0mlib\u001b[0m\u001b[1;33m.\u001b[0m\u001b[0mfast_unique_multiple_list_gen\u001b[0m\u001b[1;33m(\u001b[0m\u001b[0mgen\u001b[0m\u001b[1;33m)\u001b[0m\u001b[1;33m\u001b[0m\u001b[0m\n\u001b[0;32m   5472\u001b[0m \u001b[1;33m\u001b[0m\u001b[0m\n",
      "\u001b[1;31mAttributeError\u001b[0m: 'NoneType' object has no attribute 'keys'"
     ]
    }
   ],
   "source": [
    "col_6 = list(dim[6])\n",
    "dim_col_6=pd.DataFrame(data=col_6)\n",
    "dim_col_6.head()"
   ]
  },
  {
   "cell_type": "code",
   "execution_count": null,
   "metadata": {
    "collapsed": true
   },
   "outputs": [],
   "source": []
  }
 ],
 "metadata": {
  "kernelspec": {
   "display_name": "Python [Root]",
   "language": "python",
   "name": "Python [Root]"
  },
  "language_info": {
   "codemirror_mode": {
    "name": "ipython",
    "version": 2
   },
   "file_extension": ".py",
   "mimetype": "text/x-python",
   "name": "python",
   "nbconvert_exporter": "python",
   "pygments_lexer": "ipython2",
   "version": "2.7.12"
  }
 },
 "nbformat": 4,
 "nbformat_minor": 0
}
