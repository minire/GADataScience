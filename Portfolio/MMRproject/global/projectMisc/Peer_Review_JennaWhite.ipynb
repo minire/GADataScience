{
 "cells": [
  {
   "cell_type": "markdown",
   "metadata": {},
   "source": [
    "### Peer Review by Jenna White  \n",
    "At the top of this notebook I pull in all of your code so I can make comments below!"
   ]
  },
  {
   "cell_type": "code",
   "execution_count": 23,
   "metadata": {
    "collapsed": false
   },
   "outputs": [
    {
     "data": {
      "text/plain": [
       "[u'attribute', u'fact', u'dimension', u'copyright', u'dataset']"
      ]
     },
     "execution_count": 23,
     "metadata": {},
     "output_type": "execute_result"
    }
   ],
   "source": [
    "import requests\n",
    "import pandas as pd \n",
    "import numpy as np\n",
    "import json\n",
    "\n",
    "# grabbing data for Maternal Mortality Rate (MMR) 'MDG_0000000026' \n",
    "# Values are per 100K births         \n",
    "C = requests.get('http://apps.who.int/gho/athena/api/GHO/MDG_0000000026.json')\n",
    "\n",
    "#Converting data into json format\n",
    "data = C.json()\n",
    "data.keys()"
   ]
  },
  {
   "cell_type": "code",
   "execution_count": 24,
   "metadata": {
    "collapsed": false
   },
   "outputs": [],
   "source": [
    "#Step 1: Creating a data frane that contains the MMR (per 100,000 births) values \n",
    "fact = data['fact']\n",
    "MMRfact = pd.DataFrame(fact)   \n"
   ]
  },
  {
   "cell_type": "code",
   "execution_count": 25,
   "metadata": {
    "collapsed": true
   },
   "outputs": [],
   "source": [
    "#Step 2: extract the MMR out of MMRfact.value column and concat \n",
    "#extracting values from the MMR dataframe\n",
    "data3 = list(MMRfact.value)\n",
    "values = pd.DataFrame(data=data3)"
   ]
  },
  {
   "cell_type": "code",
   "execution_count": 26,
   "metadata": {
    "collapsed": true
   },
   "outputs": [],
   "source": [
    "data4=list(MMRfact.Dim)"
   ]
  },
  {
   "cell_type": "code",
   "execution_count": 27,
   "metadata": {
    "collapsed": true
   },
   "outputs": [],
   "source": [
    "dim_values = pd.DataFrame(data=data4)"
   ]
  },
  {
   "cell_type": "code",
   "execution_count": 28,
   "metadata": {
    "collapsed": false
   },
   "outputs": [],
   "source": [
    "#concat values onto the MMRfact data frame \n",
    "MMRfact = pd.concat([MMRfact, values], axis=1)\n",
    "MMRfact.head()\n",
    "\n",
    "#Step 3: extract the country code('COUNTRY'), region ('REGION') and year ('YEAR') from the MMRfact.Dim column\n",
    "def extract(x):\n",
    "    for col in x:\n",
    "        if col['category'] == 'COUNTRY':\n",
    "            return col['code'] \n",
    "\n",
    "MMRfact['COUNTRY'] = [extract(row) for row in MMRfact['Dim']]\n",
    "\n",
    "def extract(x):\n",
    "    for col in x:\n",
    "        if col['category'] == 'YEAR':\n",
    "            return col['code'] \n",
    "\n",
    "MMRfact['YEAR'] = [extract(row) for row in MMRfact['Dim']]\n",
    "\n",
    "MMRfact['REGION'] = [extract(row) for row in MMRfact['Dim']]\n",
    "\n",
    "def extract(x):\n",
    "    for col in x:\n",
    "        if col['category'] == 'REGION':\n",
    "            return col['code'] \n",
    "\n",
    "MMRfact['REGION'] = [extract(row) for row in MMRfact['Dim']]\n",
    "\n",
    "\n",
    "# simplify dataframe, only including relevant columns, changing COUNTRY to ISO (three letter code)           \n",
    "MMRfact.drop(['Dim', 'dataset', 'effective_date', 'end_date', 'fact_id', 'published', 'value', 'display', 'high', 'low'], axis=1, inplace=True)\n",
    "MMRfact = MMRfact.rename(columns = {'COUNTRY' : 'ISO', 'numeric' : 'MMR100K'})"
   ]
  },
  {
   "cell_type": "code",
   "execution_count": 29,
   "metadata": {
    "collapsed": true
   },
   "outputs": [],
   "source": [
    "# Step 4: load or extract a country:ISO dictionary from data['Dimension'] \n",
    "MMRdim = data['dimension']\n",
    "\n",
    "#creating a country and ISO code dictionary \n",
    "country = {\n",
    "\n",
    "    }\n",
    "\n",
    "for row in MMRdim:\n",
    "    for element in row['code']:\n",
    "        ISO = None\n",
    "        display = element['display']\n",
    "        for x in element['attr']:\n",
    "            if x['category'] == 'ISO': \n",
    "                ISO = x['value']\n",
    "        country[ISO] = display    \n",
    "#print country"
   ]
  },
  {
   "cell_type": "code",
   "execution_count": 30,
   "metadata": {
    "collapsed": true
   },
   "outputs": [],
   "source": [
    "#step 5: add the country names into the MMRfact data frame, rename MMR, extract info for relevant year\n",
    "\n",
    "def name(x):\n",
    "    for b in country:\n",
    "        if x == b:\n",
    "            return country[b]\n",
    "\n",
    "MMRfact['COUNTRY'] = [name(a) for a in MMRfact['ISO']]\n",
    "\n",
    "#rename MMR\n",
    "MMR = MMRfact\n",
    "\n",
    "#extract info only for 2015 \n",
    "MMR['YEAR'] = pd.to_numeric(MMR['YEAR'])\n",
    "MMR = MMR[MMR['YEAR'] == 2015]"
   ]
  },
  {
   "cell_type": "markdown",
   "metadata": {},
   "source": [
    "-----"
   ]
  },
  {
   "cell_type": "markdown",
   "metadata": {},
   "source": [
    "#### Feedback:\n",
    "\n",
    "I liked the histogram you used to represent the varaince between countries in a region - very helpful for highlighting that Africa is not a binary situation. I think another area you could dig into is the EMR region. Super low median mortality rate but then some very high outliers.  \n",
    "\n",
    "I pulled out that region below and sorted by MMR:\n"
   ]
  },
  {
   "cell_type": "code",
   "execution_count": 21,
   "metadata": {
    "collapsed": false
   },
   "outputs": [
    {
     "data": {
      "text/html": [
       "<div>\n",
       "<table border=\"1\" class=\"dataframe\">\n",
       "  <thead>\n",
       "    <tr style=\"text-align: right;\">\n",
       "      <th></th>\n",
       "      <th>ISO</th>\n",
       "      <th>YEAR</th>\n",
       "      <th>REGION</th>\n",
       "      <th>MMR100K</th>\n",
       "      <th>COUNTRY</th>\n",
       "    </tr>\n",
       "  </thead>\n",
       "  <tbody>\n",
       "    <tr>\n",
       "      <th>327</th>\n",
       "      <td>SOM</td>\n",
       "      <td>2015</td>\n",
       "      <td>EMR</td>\n",
       "      <td>732.0</td>\n",
       "      <td>Somalia</td>\n",
       "    </tr>\n",
       "    <tr>\n",
       "      <th>320</th>\n",
       "      <td>AFG</td>\n",
       "      <td>2015</td>\n",
       "      <td>EMR</td>\n",
       "      <td>396.0</td>\n",
       "      <td>Afghanistan</td>\n",
       "    </tr>\n",
       "    <tr>\n",
       "      <th>496</th>\n",
       "      <td>YEM</td>\n",
       "      <td>2015</td>\n",
       "      <td>EMR</td>\n",
       "      <td>385.0</td>\n",
       "      <td>Yemen</td>\n",
       "    </tr>\n",
       "    <tr>\n",
       "      <th>53</th>\n",
       "      <td>SDN</td>\n",
       "      <td>2015</td>\n",
       "      <td>EMR</td>\n",
       "      <td>311.0</td>\n",
       "      <td>Sudan</td>\n",
       "    </tr>\n",
       "    <tr>\n",
       "      <th>38</th>\n",
       "      <td>DJI</td>\n",
       "      <td>2015</td>\n",
       "      <td>EMR</td>\n",
       "      <td>229.0</td>\n",
       "      <td>Djibouti</td>\n",
       "    </tr>\n",
       "    <tr>\n",
       "      <th>564</th>\n",
       "      <td>PAK</td>\n",
       "      <td>2015</td>\n",
       "      <td>EMR</td>\n",
       "      <td>178.0</td>\n",
       "      <td>Pakistan</td>\n",
       "    </tr>\n",
       "    <tr>\n",
       "      <th>332</th>\n",
       "      <td>None</td>\n",
       "      <td>2015</td>\n",
       "      <td>EMR</td>\n",
       "      <td>166.0</td>\n",
       "      <td>Global</td>\n",
       "    </tr>\n",
       "    <tr>\n",
       "      <th>156</th>\n",
       "      <td>MAR</td>\n",
       "      <td>2015</td>\n",
       "      <td>EMR</td>\n",
       "      <td>121.0</td>\n",
       "      <td>Morocco</td>\n",
       "    </tr>\n",
       "    <tr>\n",
       "      <th>246</th>\n",
       "      <td>SYR</td>\n",
       "      <td>2015</td>\n",
       "      <td>EMR</td>\n",
       "      <td>68.0</td>\n",
       "      <td>Syrian Arab Republic</td>\n",
       "    </tr>\n",
       "    <tr>\n",
       "      <th>248</th>\n",
       "      <td>TUN</td>\n",
       "      <td>2015</td>\n",
       "      <td>EMR</td>\n",
       "      <td>62.0</td>\n",
       "      <td>Tunisia</td>\n",
       "    </tr>\n",
       "    <tr>\n",
       "      <th>324</th>\n",
       "      <td>JOR</td>\n",
       "      <td>2015</td>\n",
       "      <td>EMR</td>\n",
       "      <td>58.0</td>\n",
       "      <td>Jordan</td>\n",
       "    </tr>\n",
       "    <tr>\n",
       "      <th>47</th>\n",
       "      <td>IRQ</td>\n",
       "      <td>2015</td>\n",
       "      <td>EMR</td>\n",
       "      <td>50.0</td>\n",
       "      <td>Iraq</td>\n",
       "    </tr>\n",
       "    <tr>\n",
       "      <th>322</th>\n",
       "      <td>EGY</td>\n",
       "      <td>2015</td>\n",
       "      <td>EMR</td>\n",
       "      <td>33.0</td>\n",
       "      <td>Egypt</td>\n",
       "    </tr>\n",
       "    <tr>\n",
       "      <th>240</th>\n",
       "      <td>IRN</td>\n",
       "      <td>2015</td>\n",
       "      <td>EMR</td>\n",
       "      <td>25.0</td>\n",
       "      <td>Iran (Islamic Republic of)</td>\n",
       "    </tr>\n",
       "    <tr>\n",
       "      <th>49</th>\n",
       "      <td>OMN</td>\n",
       "      <td>2015</td>\n",
       "      <td>EMR</td>\n",
       "      <td>17.0</td>\n",
       "      <td>Oman</td>\n",
       "    </tr>\n",
       "    <tr>\n",
       "      <th>524</th>\n",
       "      <td>BHR</td>\n",
       "      <td>2015</td>\n",
       "      <td>EMR</td>\n",
       "      <td>15.0</td>\n",
       "      <td>Bahrain</td>\n",
       "    </tr>\n",
       "    <tr>\n",
       "      <th>157</th>\n",
       "      <td>LBN</td>\n",
       "      <td>2015</td>\n",
       "      <td>EMR</td>\n",
       "      <td>15.0</td>\n",
       "      <td>Lebanon</td>\n",
       "    </tr>\n",
       "    <tr>\n",
       "      <th>50</th>\n",
       "      <td>QAT</td>\n",
       "      <td>2015</td>\n",
       "      <td>EMR</td>\n",
       "      <td>13.0</td>\n",
       "      <td>Qatar</td>\n",
       "    </tr>\n",
       "    <tr>\n",
       "      <th>566</th>\n",
       "      <td>SAU</td>\n",
       "      <td>2015</td>\n",
       "      <td>EMR</td>\n",
       "      <td>12.0</td>\n",
       "      <td>Saudi Arabia</td>\n",
       "    </tr>\n",
       "    <tr>\n",
       "      <th>562</th>\n",
       "      <td>LBY</td>\n",
       "      <td>2015</td>\n",
       "      <td>EMR</td>\n",
       "      <td>9.0</td>\n",
       "      <td>Libya</td>\n",
       "    </tr>\n",
       "    <tr>\n",
       "      <th>32</th>\n",
       "      <td>ARE</td>\n",
       "      <td>2015</td>\n",
       "      <td>EMR</td>\n",
       "      <td>6.0</td>\n",
       "      <td>United Arab Emirates</td>\n",
       "    </tr>\n",
       "    <tr>\n",
       "      <th>48</th>\n",
       "      <td>KWT</td>\n",
       "      <td>2015</td>\n",
       "      <td>EMR</td>\n",
       "      <td>4.0</td>\n",
       "      <td>Kuwait</td>\n",
       "    </tr>\n",
       "  </tbody>\n",
       "</table>\n",
       "</div>"
      ],
      "text/plain": [
       "      ISO  YEAR REGION  MMR100K                     COUNTRY\n",
       "327   SOM  2015    EMR    732.0                     Somalia\n",
       "320   AFG  2015    EMR    396.0                 Afghanistan\n",
       "496   YEM  2015    EMR    385.0                       Yemen\n",
       "53    SDN  2015    EMR    311.0                       Sudan\n",
       "38    DJI  2015    EMR    229.0                    Djibouti\n",
       "564   PAK  2015    EMR    178.0                    Pakistan\n",
       "332  None  2015    EMR    166.0                      Global\n",
       "156   MAR  2015    EMR    121.0                     Morocco\n",
       "246   SYR  2015    EMR     68.0        Syrian Arab Republic\n",
       "248   TUN  2015    EMR     62.0                     Tunisia\n",
       "324   JOR  2015    EMR     58.0                      Jordan\n",
       "47    IRQ  2015    EMR     50.0                        Iraq\n",
       "322   EGY  2015    EMR     33.0                       Egypt\n",
       "240   IRN  2015    EMR     25.0  Iran (Islamic Republic of)\n",
       "49    OMN  2015    EMR     17.0                        Oman\n",
       "524   BHR  2015    EMR     15.0                     Bahrain\n",
       "157   LBN  2015    EMR     15.0                     Lebanon\n",
       "50    QAT  2015    EMR     13.0                       Qatar\n",
       "566   SAU  2015    EMR     12.0                Saudi Arabia\n",
       "562   LBY  2015    EMR      9.0                       Libya\n",
       "32    ARE  2015    EMR      6.0        United Arab Emirates\n",
       "48    KWT  2015    EMR      4.0                      Kuwait"
      ]
     },
     "execution_count": 21,
     "metadata": {},
     "output_type": "execute_result"
    }
   ],
   "source": [
    "MMR[MMR['REGION']=='EMR'].sort_values(by=['MMR100K'], ascending=False)"
   ]
  },
  {
   "cell_type": "markdown",
   "metadata": {},
   "source": [
    "The item that jumped out to me about the few at the top that are so much higher than the others is the **prevalance of war** in the region over the last decade.  \n",
    "\n",
    "I looked through the WHO site and found that there is a WHO Mortality Database that has death rates by cause by country. It doesn't look like there is a cut and dry \"War\" option, but maybe there is a stand-in that you could use. Looks like there might be an external factor grouping: http://www.who.int/healthinfo/mortality_data/en/ -- you also listed in 4.1 a death rate feature, so maybe you could use that one\n",
    "\n",
    "\n",
    "\n",
    "This may also help determine why some African countries are so different from others.\n"
   ]
  },
  {
   "cell_type": "markdown",
   "metadata": {},
   "source": [
    "**Other Features**:\n",
    "- Out of 4.1C I like Death Rate (as mentioned above), water/sanitaion, and fertility rate\n",
    "- Also could potentially check out \"Nursing and midwifery personnel density\" instead of Health Service Coverage http://apps.who.int/gho/data/node.imr.HRH_33?lang=en"
   ]
  },
  {
   "cell_type": "markdown",
   "metadata": {},
   "source": [
    "**Model Build**  \n",
    "I agree with your note that a binary response variable is very blunt (I'm sure it has taken a while to get all of this data into a useable form - great job with that!!). What you could try, as a middle between binary and a rate, is categorizing MMRs into quarterly percentiles - may be more interesting a result"
   ]
  },
  {
   "cell_type": "markdown",
   "metadata": {},
   "source": [
    "**Findings and Conclusions**  \n",
    "I'd be interested in seeing the model coefficients so you could see how important they are when they are all in play (vs each individually)  - if you build a random forest you can use treereg.feature_importance_ \n",
    "\n",
    "Also ensembling is probably something you will want to incorporate to this as well."
   ]
  },
  {
   "cell_type": "markdown",
   "metadata": {},
   "source": [
    "**Overall, awesome job with this! Great job with the data parsing, and I think that this will be a nicely funcitoning model for the final project!**"
   ]
  },
  {
   "cell_type": "code",
   "execution_count": null,
   "metadata": {
    "collapsed": true
   },
   "outputs": [],
   "source": []
  }
 ],
 "metadata": {
  "anaconda-cloud": {},
  "kernelspec": {
   "display_name": "Python [Root]",
   "language": "python",
   "name": "Python [Root]"
  },
  "language_info": {
   "codemirror_mode": {
    "name": "ipython",
    "version": 2
   },
   "file_extension": ".py",
   "mimetype": "text/x-python",
   "name": "python",
   "nbconvert_exporter": "python",
   "pygments_lexer": "ipython2",
   "version": "2.7.12"
  }
 },
 "nbformat": 4,
 "nbformat_minor": 0
}
