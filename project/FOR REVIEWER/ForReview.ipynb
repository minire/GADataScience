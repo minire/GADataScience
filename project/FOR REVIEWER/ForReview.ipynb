{
 "cells": [
  {
   "cell_type": "markdown",
   "metadata": {},
   "source": [
    "# Predicting Maternal Mortality Rates in Countries around the world"
   ]
  },
  {
   "cell_type": "markdown",
   "metadata": {},
   "source": [
    "by Rebecca Minich "
   ]
  },
  {
   "cell_type": "markdown",
   "metadata": {},
   "source": [
    "## 1. Background "
   ]
  },
  {
   "cell_type": "markdown",
   "metadata": {},
   "source": [
    "In the last 25 years the United Nations have made a number of goals aiming to protect the world's poor. in 2000, at the Millenium Summit, countries made a commitment to reduct the global maternal mortality rate (MMR) by 75% [1](http://www.thelancet.com/pb/assets/raw/Lancet/pdfs/S0140673615008387.pdf). The causes of these deaths are almost entirely preventable and the burden of loss is high on the families affected [2](https://www.nap.edu/read/9800/chapter/2#8). The number of maternal deaths per 100,000 birhts dropped from 385 deaths in 1990 to 216 in 2015. To reach the 75% decrease by 2030,  the number needs to decrease 70 deaths per 100,000 births by 2030 [1](http://www.thelancet.com/pb/assets/raw/Lancet/pdfs/S0140673615008387.pdf). This averages to a 7.5% annual decrease in MMR. To attain this aggressive goal, it is important to understand where to intervene. Currently, the main interventions focus on the health system and improving emergency services, access to prenatal education and care and access to medical professionals during birth. In the next 15 years, a holistic approach that focuses on socioeconomic interventions, in addition to medical access, is necessary to continue reducing MMR at an annual rate of 7.5%"
   ]
  },
  {
   "cell_type": "markdown",
   "metadata": {},
   "source": [
    "## 2. Problem Statement  "
   ]
  },
  {
   "cell_type": "markdown",
   "metadata": {},
   "source": [
    "* Problem Statement: Can I predict which socioeconomic and public health initiatives will improve global and national maternal mortality rates?\n",
    "* Hypothesis: Safe access to abortion and Women's education will be strong predictors of maternal mortality rates and main targets for intervention.   "
   ]
  },
  {
   "cell_type": "markdown",
   "metadata": {},
   "source": [
    "## 3. Data \n",
    "how to share data with a statistician: https://github.com/jtleek/datasharing\n",
    "\n",
    "### 3.1 Datasets:\n",
    "Data sets are from the World Health Organization (WHO) and the Center for Reproductive Rights(CFRR):"
   ]
  },
  {
   "cell_type": "markdown",
   "metadata": {},
   "source": [
    "A. Maternal Mortality Rates (MDG_0000000026):\n",
    "http://apps.who.int/gho/data/node.main.15\n",
    "\n",
    "B. Adolescent Birth Rates (MDG_0000000003): \n",
    "http://apps.who.int/gho/data/node.main.REPADO39?lang=en\n",
    "\n",
    "C. Abortion policy scale (CSV from PDF): https://www.reproductiverights.org/sites/crr.civicactions.net/files/documents/AbortionMap_Factsheet_2013.pdf\n",
    "\n",
    "D. GNI Per Capita Data by Country(PPP) (WHS9_93): \n",
    "http://apps.who.int/gho/data/node.main.GNI107?lang=en\n",
    "\n",
    "E. Life Expectancy For Women at birth and at 60 yoa (WHOSIS_000001, WHOSIS_000015): \n",
    "http://apps.who.int/gho/data/node.main.WOMENLIFEEXP?lang=en\n"
   ]
  },
  {
   "cell_type": "markdown",
   "metadata": {},
   "source": [
    "### 3.2 Data Import\n",
    "\n",
    "The world health organization [API](http://apps.who.int/gho/data/node.resources.api) is in xml. Each dataset contains ONE FEATURE COLUMN with a number of demographic columns (such as year and gender). Basically, each feature column for the final dataframe starts as an individual dataset. I then concat this feature onto the MMR dataframe using the three letter ISO country code (ISO). Each dataframe has its on .py file which is imported into the final python script (MMRmaster). MMRmaster.py will contain the final dataframe and the model. Below is a basic import for the MMR data set from the WHO website:"
   ]
  },
  {
   "cell_type": "code",
   "execution_count": 54,
   "metadata": {
    "collapsed": false
   },
   "outputs": [
    {
     "data": {
      "text/plain": [
       "[u'attribute', u'fact', u'dimension', u'copyright', u'dataset']"
      ]
     },
     "execution_count": 54,
     "metadata": {},
     "output_type": "execute_result"
    }
   ],
   "source": [
    "import requests\n",
    "import pandas as pd \n",
    "import numpy as np\n",
    "import json\n",
    "\n",
    "# grabbing data for Maternal Mortality Rate (MMR) 'MDG_0000000026' \n",
    "# Values are per 100K births         \n",
    "C = requests.get('http://apps.who.int/gho/athena/api/GHO/MDG_0000000026.json')\n",
    "\n",
    "#Converting data into json format\n",
    "data = C.json()\n",
    "data.keys()\n",
    " \n"
   ]
  },
  {
   "cell_type": "markdown",
   "metadata": {},
   "source": [
    "### 3.3 Data Pre-Processing\n",
    "Below is an example of typical pre-processing with a dataset from WHO after importing the data:\n",
    "Step 1: create a data['fact'] data frame called MMRfact \n",
    "step 2: extract the MMR out of MMRfact.value column and concat \n",
    "step 3: extract the country code('COUNTRY') and year ('YEAR') from the MMRfact.Dim column\n",
    "Step 4: load or extract a country:ISO dictionary from data['Dimension'] \n",
    "step 5: add the country names into the MMRfact data frame, extract info for relevant year, rename MMR"
   ]
  },
  {
   "cell_type": "code",
   "execution_count": 93,
   "metadata": {
    "collapsed": false
   },
   "outputs": [
    {
     "data": {
      "text/html": [
       "<div>\n",
       "<table border=\"1\" class=\"dataframe\">\n",
       "  <thead>\n",
       "    <tr style=\"text-align: right;\">\n",
       "      <th></th>\n",
       "      <th>Dim</th>\n",
       "      <th>dataset</th>\n",
       "      <th>effective_date</th>\n",
       "      <th>end_date</th>\n",
       "      <th>fact_id</th>\n",
       "      <th>published</th>\n",
       "      <th>value</th>\n",
       "    </tr>\n",
       "  </thead>\n",
       "  <tbody>\n",
       "    <tr>\n",
       "      <th>0</th>\n",
       "      <td>[{u'category': u'PUBLISHSTATE', u'code': u'PUB...</td>\n",
       "      <td>CYCU</td>\n",
       "      <td>2015-11-11</td>\n",
       "      <td>2900-12-31</td>\n",
       "      <td>11922623</td>\n",
       "      <td>True</td>\n",
       "      <td>{u'high': 1750.0, u'display': u'1 200 [ 836 - ...</td>\n",
       "    </tr>\n",
       "    <tr>\n",
       "      <th>1</th>\n",
       "      <td>[{u'category': u'PUBLISHSTATE', u'code': u'PUB...</td>\n",
       "      <td>CYCU</td>\n",
       "      <td>2015-11-11</td>\n",
       "      <td>2900-12-31</td>\n",
       "      <td>11922628</td>\n",
       "      <td>True</td>\n",
       "      <td>{u'high': 961.0, u'display': u'635 [ 414 - 961...</td>\n",
       "    </tr>\n",
       "    <tr>\n",
       "      <th>2</th>\n",
       "      <td>[{u'category': u'PUBLISHSTATE', u'code': u'PUB...</td>\n",
       "      <td>CYCU</td>\n",
       "      <td>2015-11-11</td>\n",
       "      <td>2900-12-31</td>\n",
       "      <td>11922639</td>\n",
       "      <td>True</td>\n",
       "      <td>{u'high': 1010.0, u'display': u'693 [ 509 - 1 ...</td>\n",
       "    </tr>\n",
       "    <tr>\n",
       "      <th>3</th>\n",
       "      <td>[{u'category': u'PUBLISHSTATE', u'code': u'PUB...</td>\n",
       "      <td>CYCU</td>\n",
       "      <td>2015-11-11</td>\n",
       "      <td>2900-12-31</td>\n",
       "      <td>11922647</td>\n",
       "      <td>True</td>\n",
       "      <td>{u'high': 1100.0, u'display': u'897 [ 718 - 1 ...</td>\n",
       "    </tr>\n",
       "    <tr>\n",
       "      <th>4</th>\n",
       "      <td>[{u'category': u'PUBLISHSTATE', u'code': u'PUB...</td>\n",
       "      <td>CYCU</td>\n",
       "      <td>2015-11-11</td>\n",
       "      <td>2900-12-31</td>\n",
       "      <td>11922653</td>\n",
       "      <td>True</td>\n",
       "      <td>{u'high': 1250.0, u'display': u'887 [ 609 - 1 ...</td>\n",
       "    </tr>\n",
       "  </tbody>\n",
       "</table>\n",
       "</div>"
      ],
      "text/plain": [
       "                                                 Dim dataset effective_date  \\\n",
       "0  [{u'category': u'PUBLISHSTATE', u'code': u'PUB...    CYCU     2015-11-11   \n",
       "1  [{u'category': u'PUBLISHSTATE', u'code': u'PUB...    CYCU     2015-11-11   \n",
       "2  [{u'category': u'PUBLISHSTATE', u'code': u'PUB...    CYCU     2015-11-11   \n",
       "3  [{u'category': u'PUBLISHSTATE', u'code': u'PUB...    CYCU     2015-11-11   \n",
       "4  [{u'category': u'PUBLISHSTATE', u'code': u'PUB...    CYCU     2015-11-11   \n",
       "\n",
       "     end_date   fact_id published  \\\n",
       "0  2900-12-31  11922623      True   \n",
       "1  2900-12-31  11922628      True   \n",
       "2  2900-12-31  11922639      True   \n",
       "3  2900-12-31  11922647      True   \n",
       "4  2900-12-31  11922653      True   \n",
       "\n",
       "                                               value  \n",
       "0  {u'high': 1750.0, u'display': u'1 200 [ 836 - ...  \n",
       "1  {u'high': 961.0, u'display': u'635 [ 414 - 961...  \n",
       "2  {u'high': 1010.0, u'display': u'693 [ 509 - 1 ...  \n",
       "3  {u'high': 1100.0, u'display': u'897 [ 718 - 1 ...  \n",
       "4  {u'high': 1250.0, u'display': u'887 [ 609 - 1 ...  "
      ]
     },
     "execution_count": 93,
     "metadata": {},
     "output_type": "execute_result"
    }
   ],
   "source": [
    "#Step 1: Creating a data frane that contains the MMR (per 100,000 births) values \n",
    "fact = data['fact']\n",
    "MMRfact = pd.DataFrame(fact)   \n",
    "MMRfact.head()"
   ]
  },
  {
   "cell_type": "code",
   "execution_count": 94,
   "metadata": {
    "collapsed": false
   },
   "outputs": [
    {
     "data": {
      "text/html": [
       "<div>\n",
       "<table border=\"1\" class=\"dataframe\">\n",
       "  <thead>\n",
       "    <tr style=\"text-align: right;\">\n",
       "      <th></th>\n",
       "      <th>Dim</th>\n",
       "      <th>dataset</th>\n",
       "      <th>effective_date</th>\n",
       "      <th>end_date</th>\n",
       "      <th>fact_id</th>\n",
       "      <th>published</th>\n",
       "      <th>value</th>\n",
       "      <th>display</th>\n",
       "      <th>high</th>\n",
       "      <th>low</th>\n",
       "      <th>numeric</th>\n",
       "    </tr>\n",
       "  </thead>\n",
       "  <tbody>\n",
       "    <tr>\n",
       "      <th>0</th>\n",
       "      <td>[{u'category': u'PUBLISHSTATE', u'code': u'PUB...</td>\n",
       "      <td>CYCU</td>\n",
       "      <td>2015-11-11</td>\n",
       "      <td>2900-12-31</td>\n",
       "      <td>11922623</td>\n",
       "      <td>True</td>\n",
       "      <td>{u'high': 1750.0, u'display': u'1 200 [ 836 - ...</td>\n",
       "      <td>1 200 [ 836 - 1 750]</td>\n",
       "      <td>1750.0</td>\n",
       "      <td>836.0</td>\n",
       "      <td>1200.0</td>\n",
       "    </tr>\n",
       "    <tr>\n",
       "      <th>1</th>\n",
       "      <td>[{u'category': u'PUBLISHSTATE', u'code': u'PUB...</td>\n",
       "      <td>CYCU</td>\n",
       "      <td>2015-11-11</td>\n",
       "      <td>2900-12-31</td>\n",
       "      <td>11922628</td>\n",
       "      <td>True</td>\n",
       "      <td>{u'high': 961.0, u'display': u'635 [ 414 - 961...</td>\n",
       "      <td>635 [ 414 - 961]</td>\n",
       "      <td>961.0</td>\n",
       "      <td>414.0</td>\n",
       "      <td>635.0</td>\n",
       "    </tr>\n",
       "    <tr>\n",
       "      <th>2</th>\n",
       "      <td>[{u'category': u'PUBLISHSTATE', u'code': u'PUB...</td>\n",
       "      <td>CYCU</td>\n",
       "      <td>2015-11-11</td>\n",
       "      <td>2900-12-31</td>\n",
       "      <td>11922639</td>\n",
       "      <td>True</td>\n",
       "      <td>{u'high': 1010.0, u'display': u'693 [ 509 - 1 ...</td>\n",
       "      <td>693 [ 509 - 1 010]</td>\n",
       "      <td>1010.0</td>\n",
       "      <td>509.0</td>\n",
       "      <td>693.0</td>\n",
       "    </tr>\n",
       "    <tr>\n",
       "      <th>3</th>\n",
       "      <td>[{u'category': u'PUBLISHSTATE', u'code': u'PUB...</td>\n",
       "      <td>CYCU</td>\n",
       "      <td>2015-11-11</td>\n",
       "      <td>2900-12-31</td>\n",
       "      <td>11922647</td>\n",
       "      <td>True</td>\n",
       "      <td>{u'high': 1100.0, u'display': u'897 [ 718 - 1 ...</td>\n",
       "      <td>897 [ 718 - 1 100]</td>\n",
       "      <td>1100.0</td>\n",
       "      <td>718.0</td>\n",
       "      <td>897.0</td>\n",
       "    </tr>\n",
       "    <tr>\n",
       "      <th>4</th>\n",
       "      <td>[{u'category': u'PUBLISHSTATE', u'code': u'PUB...</td>\n",
       "      <td>CYCU</td>\n",
       "      <td>2015-11-11</td>\n",
       "      <td>2900-12-31</td>\n",
       "      <td>11922653</td>\n",
       "      <td>True</td>\n",
       "      <td>{u'high': 1250.0, u'display': u'887 [ 609 - 1 ...</td>\n",
       "      <td>887 [ 609 - 1 250]</td>\n",
       "      <td>1250.0</td>\n",
       "      <td>609.0</td>\n",
       "      <td>887.0</td>\n",
       "    </tr>\n",
       "  </tbody>\n",
       "</table>\n",
       "</div>"
      ],
      "text/plain": [
       "                                                 Dim dataset effective_date  \\\n",
       "0  [{u'category': u'PUBLISHSTATE', u'code': u'PUB...    CYCU     2015-11-11   \n",
       "1  [{u'category': u'PUBLISHSTATE', u'code': u'PUB...    CYCU     2015-11-11   \n",
       "2  [{u'category': u'PUBLISHSTATE', u'code': u'PUB...    CYCU     2015-11-11   \n",
       "3  [{u'category': u'PUBLISHSTATE', u'code': u'PUB...    CYCU     2015-11-11   \n",
       "4  [{u'category': u'PUBLISHSTATE', u'code': u'PUB...    CYCU     2015-11-11   \n",
       "\n",
       "     end_date   fact_id published  \\\n",
       "0  2900-12-31  11922623      True   \n",
       "1  2900-12-31  11922628      True   \n",
       "2  2900-12-31  11922639      True   \n",
       "3  2900-12-31  11922647      True   \n",
       "4  2900-12-31  11922653      True   \n",
       "\n",
       "                                               value               display  \\\n",
       "0  {u'high': 1750.0, u'display': u'1 200 [ 836 - ...  1 200 [ 836 - 1 750]   \n",
       "1  {u'high': 961.0, u'display': u'635 [ 414 - 961...      635 [ 414 - 961]   \n",
       "2  {u'high': 1010.0, u'display': u'693 [ 509 - 1 ...    693 [ 509 - 1 010]   \n",
       "3  {u'high': 1100.0, u'display': u'897 [ 718 - 1 ...    897 [ 718 - 1 100]   \n",
       "4  {u'high': 1250.0, u'display': u'887 [ 609 - 1 ...    887 [ 609 - 1 250]   \n",
       "\n",
       "     high    low  numeric  \n",
       "0  1750.0  836.0   1200.0  \n",
       "1   961.0  414.0    635.0  \n",
       "2  1010.0  509.0    693.0  \n",
       "3  1100.0  718.0    897.0  \n",
       "4  1250.0  609.0    887.0  "
      ]
     },
     "execution_count": 94,
     "metadata": {},
     "output_type": "execute_result"
    }
   ],
   "source": [
    "#Step 2: extract the MMR out of MMRfact.value column and concat \n",
    "#extracting values from the MMR dataframe\n",
    "data3 = list(MMRfact.value)\n",
    "values = pd.DataFrame(data=data3)\n",
    "\n",
    "#concat values onto the MMRfact data frame \n",
    "MMRfact = pd.concat([MMRfact, values], axis=1)\n",
    "MMRfact.head()"
   ]
  },
  {
   "cell_type": "code",
   "execution_count": 95,
   "metadata": {
    "collapsed": false
   },
   "outputs": [],
   "source": [
    "#Step 3: extract the country code('COUNTRY'), region ('REGION') and year ('YEAR') from the MMRfact.Dim column\n",
    "def extract(x):\n",
    "    for col in x:\n",
    "        if col['category'] == 'COUNTRY':\n",
    "            return col['code'] \n",
    "\n",
    "MMRfact['COUNTRY'] = [extract(row) for row in MMRfact['Dim']]\n",
    "\n",
    "def extract(x):\n",
    "    for col in x:\n",
    "        if col['category'] == 'YEAR':\n",
    "            return col['code'] \n",
    "\n",
    "MMRfact['YEAR'] = [extract(row) for row in MMRfact['Dim']]\n",
    "\n",
    "MMRfact['REGION'] = [extract(row) for row in MMRfact['Dim']]\n",
    "\n",
    "def extract(x):\n",
    "    for col in x:\n",
    "        if col['category'] == 'REGION':\n",
    "            return col['code'] \n",
    "\n",
    "MMRfact['REGION'] = [extract(row) for row in MMRfact['Dim']]\n",
    "\n",
    "\n",
    "# simplify dataframe, only including relevant columns, changing COUNTRY to ISO (three letter code)           \n",
    "MMRfact.drop(['Dim', 'dataset', 'effective_date', 'end_date', 'fact_id', 'published', 'value', 'display', 'high', 'low'], axis=1, inplace=True)\n",
    "MMRfact = MMRfact.rename(columns = {'COUNTRY' : 'ISO', 'numeric' : 'MMR100K'})\n"
   ]
  },
  {
   "cell_type": "code",
   "execution_count": 96,
   "metadata": {
    "collapsed": true
   },
   "outputs": [],
   "source": [
    "# Step 4: load or extract a country:ISO dictionary from data['Dimension'] \n",
    "MMRdim = data['dimension']\n",
    "\n",
    "#creating a country and ISO code dictionary \n",
    "country = {\n",
    "\n",
    "    }\n",
    "\n",
    "for row in MMRdim:\n",
    "    for element in row['code']:\n",
    "        ISO = None\n",
    "        display = element['display']\n",
    "        for x in element['attr']:\n",
    "            if x['category'] == 'ISO': \n",
    "                ISO = x['value']\n",
    "        country[ISO] = display    \n",
    "#print country"
   ]
  },
  {
   "cell_type": "code",
   "execution_count": 97,
   "metadata": {
    "collapsed": false
   },
   "outputs": [],
   "source": [
    "#step 5: add the country names into the MMRfact data frame, rename MMR, extract info for relevant year\n",
    "\n",
    "def name(x):\n",
    "    for b in country:\n",
    "        if x == b:\n",
    "            return country[b]\n",
    "\n",
    "MMRfact['COUNTRY'] = [name(a) for a in MMRfact['ISO']]\n",
    "\n",
    "#rename MMR\n",
    "MMR = MMRfact\n",
    "\n",
    "#extract info only for 2015 \n",
    "MMR['YEAR'] = pd.to_numeric(MMR['YEAR'])\n",
    "MMR = MMR[MMR['YEAR'] == 2015]\n"
   ]
  },
  {
   "cell_type": "markdown",
   "metadata": {},
   "source": [
    "### 3.4 Response Variable "
   ]
  },
  {
   "cell_type": "code",
   "execution_count": 98,
   "metadata": {
    "collapsed": true
   },
   "outputs": [],
   "source": [
    "#The response variable is a continuous variable per 100,000 births. To make it a "
   ]
  },
  {
   "cell_type": "code",
   "execution_count": 61,
   "metadata": {
    "collapsed": false
   },
   "outputs": [
    {
     "data": {
      "text/plain": [
       "<matplotlib.axes._subplots.AxesSubplot at 0x891c518>"
      ]
     },
     "execution_count": 61,
     "metadata": {},
     "output_type": "execute_result"
    },
    {
     "data": {
      "image/png": "[encoded data removed]",
      "text/plain": [
       "<matplotlib.figure.Figure at 0x38b1e48>"
      ]
     },
     "metadata": {},
     "output_type": "display_data"
    }
   ],
   "source": [
    "# compare with histogram and box plot by region\n",
    "import matplotlib.pyplot as plt\n",
    "\n",
    "# display plots in the notebook\n",
    "%matplotlib inline\n",
    "\n",
    "MMR.groupby('REGION').mean().drop('YEAR', axis=1).plot(kind='bar')"
   ]
  },
  {
   "cell_type": "markdown",
   "metadata": {},
   "source": [
    "When broken down by region it's clear that the average MMR is highest on the African continent. South East Asia is also high,but the average is about a quarter of the average from the African continent. Given the heterogenous nature of countries in Africa, it is important to look at them individually. A quick way to investigate these countries is with a box plot"
   ]
  },
  {
   "cell_type": "code",
   "execution_count": 62,
   "metadata": {
    "collapsed": false
   },
   "outputs": [
    {
     "data": {
      "text/plain": [
       "<matplotlib.axes._subplots.AxesSubplot at 0xbade4a8>"
      ]
     },
     "execution_count": 62,
     "metadata": {},
     "output_type": "execute_result"
    },
    {
     "data": {
      "image/png": "[encoded data removed]",
      "text/plain": [
       "<matplotlib.figure.Figure at 0xc1c7710>"
      ]
     },
     "metadata": {},
     "output_type": "display_data"
    }
   ],
   "source": [
    "# display plots in the notebook\n",
    "%matplotlib inline\n",
    "\n",
    "MMR.boxplot(column='MMR100K', by='REGION')"
   ]
  },
  {
   "cell_type": "code",
   "execution_count": 92,
   "metadata": {
    "collapsed": false
   },
   "outputs": [
    {
     "data": {
      "text/html": [
       "<div>\n",
       "<table border=\"1\" class=\"dataframe\">\n",
       "  <thead>\n",
       "    <tr style=\"text-align: right;\">\n",
       "      <th></th>\n",
       "      <th>MMR100K</th>\n",
       "      <th>ISO</th>\n",
       "      <th>YEAR</th>\n",
       "      <th>REGION</th>\n",
       "      <th>COUNTRY</th>\n",
       "    </tr>\n",
       "  </thead>\n",
       "  <tbody>\n",
       "    <tr>\n",
       "      <th>2</th>\n",
       "      <td>693.0</td>\n",
       "      <td>COD</td>\n",
       "      <td>2015</td>\n",
       "      <td>AFR</td>\n",
       "      <td>Democratic Republic of the Congo</td>\n",
       "    </tr>\n",
       "    <tr>\n",
       "      <th>91</th>\n",
       "      <td>596.0</td>\n",
       "      <td>CMR</td>\n",
       "      <td>2015</td>\n",
       "      <td>AFR</td>\n",
       "      <td>Cameroon</td>\n",
       "    </tr>\n",
       "    <tr>\n",
       "      <th>96</th>\n",
       "      <td>501.0</td>\n",
       "      <td>ERI</td>\n",
       "      <td>2015</td>\n",
       "      <td>AFR</td>\n",
       "      <td>Eritrea</td>\n",
       "    </tr>\n",
       "    <tr>\n",
       "      <th>116</th>\n",
       "      <td>542.0</td>\n",
       "      <td>None</td>\n",
       "      <td>2015</td>\n",
       "      <td>AFR</td>\n",
       "      <td>Global</td>\n",
       "    </tr>\n",
       "    <tr>\n",
       "      <th>289</th>\n",
       "      <td>371.0</td>\n",
       "      <td>BFA</td>\n",
       "      <td>2015</td>\n",
       "      <td>AFR</td>\n",
       "      <td>Burkina Faso</td>\n",
       "    </tr>\n",
       "    <tr>\n",
       "      <th>404</th>\n",
       "      <td>443.0</td>\n",
       "      <td>ZWE</td>\n",
       "      <td>2015</td>\n",
       "      <td>AFR</td>\n",
       "      <td>Zimbabwe</td>\n",
       "    </tr>\n",
       "    <tr>\n",
       "      <th>393</th>\n",
       "      <td>510.0</td>\n",
       "      <td>KEN</td>\n",
       "      <td>2015</td>\n",
       "      <td>AFR</td>\n",
       "      <td>Kenya</td>\n",
       "    </tr>\n",
       "    <tr>\n",
       "      <th>392</th>\n",
       "      <td>679.0</td>\n",
       "      <td>GIN</td>\n",
       "      <td>2015</td>\n",
       "      <td>AFR</td>\n",
       "      <td>Guinea</td>\n",
       "    </tr>\n",
       "    <tr>\n",
       "      <th>391</th>\n",
       "      <td>342.0</td>\n",
       "      <td>GNQ</td>\n",
       "      <td>2015</td>\n",
       "      <td>AFR</td>\n",
       "      <td>Equatorial Guinea</td>\n",
       "    </tr>\n",
       "    <tr>\n",
       "      <th>210</th>\n",
       "      <td>315.0</td>\n",
       "      <td>SEN</td>\n",
       "      <td>2015</td>\n",
       "      <td>AFR</td>\n",
       "      <td>Senegal</td>\n",
       "    </tr>\n",
       "    <tr>\n",
       "      <th>390</th>\n",
       "      <td>645.0</td>\n",
       "      <td>CIV</td>\n",
       "      <td>2015</td>\n",
       "      <td>AFR</td>\n",
       "      <td>Cote d'Ivoire</td>\n",
       "    </tr>\n",
       "    <tr>\n",
       "      <th>105</th>\n",
       "      <td>725.0</td>\n",
       "      <td>LBR</td>\n",
       "      <td>2015</td>\n",
       "      <td>AFR</td>\n",
       "      <td>Liberia</td>\n",
       "    </tr>\n",
       "    <tr>\n",
       "      <th>383</th>\n",
       "      <td>140.0</td>\n",
       "      <td>DZA</td>\n",
       "      <td>2015</td>\n",
       "      <td>AFR</td>\n",
       "      <td>Algeria</td>\n",
       "    </tr>\n",
       "    <tr>\n",
       "      <th>195</th>\n",
       "      <td>129.0</td>\n",
       "      <td>BWA</td>\n",
       "      <td>2015</td>\n",
       "      <td>AFR</td>\n",
       "      <td>Botswana</td>\n",
       "    </tr>\n",
       "    <tr>\n",
       "      <th>197</th>\n",
       "      <td>42.0</td>\n",
       "      <td>CPV</td>\n",
       "      <td>2015</td>\n",
       "      <td>AFR</td>\n",
       "      <td>Cabo Verde</td>\n",
       "    </tr>\n",
       "    <tr>\n",
       "      <th>201</th>\n",
       "      <td>291.0</td>\n",
       "      <td>GAB</td>\n",
       "      <td>2015</td>\n",
       "      <td>AFR</td>\n",
       "      <td>Gabon</td>\n",
       "    </tr>\n",
       "    <tr>\n",
       "      <th>204</th>\n",
       "      <td>487.0</td>\n",
       "      <td>LSO</td>\n",
       "      <td>2015</td>\n",
       "      <td>AFR</td>\n",
       "      <td>Lesotho</td>\n",
       "    </tr>\n",
       "    <tr>\n",
       "      <th>208</th>\n",
       "      <td>265.0</td>\n",
       "      <td>NAM</td>\n",
       "      <td>2015</td>\n",
       "      <td>AFR</td>\n",
       "      <td>Namibia</td>\n",
       "    </tr>\n",
       "    <tr>\n",
       "      <th>389</th>\n",
       "      <td>442.0</td>\n",
       "      <td>COG</td>\n",
       "      <td>2015</td>\n",
       "      <td>AFR</td>\n",
       "      <td>Congo</td>\n",
       "    </tr>\n",
       "    <tr>\n",
       "      <th>205</th>\n",
       "      <td>353.0</td>\n",
       "      <td>MDG</td>\n",
       "      <td>2015</td>\n",
       "      <td>AFR</td>\n",
       "      <td>Madagascar</td>\n",
       "    </tr>\n",
       "    <tr>\n",
       "      <th>206</th>\n",
       "      <td>602.0</td>\n",
       "      <td>MRT</td>\n",
       "      <td>2015</td>\n",
       "      <td>AFR</td>\n",
       "      <td>Mauritania</td>\n",
       "    </tr>\n",
       "    <tr>\n",
       "      <th>386</th>\n",
       "      <td>882.0</td>\n",
       "      <td>CAF</td>\n",
       "      <td>2015</td>\n",
       "      <td>AFR</td>\n",
       "      <td>Central African Republic</td>\n",
       "    </tr>\n",
       "    <tr>\n",
       "      <th>209</th>\n",
       "      <td>290.0</td>\n",
       "      <td>RWA</td>\n",
       "      <td>2015</td>\n",
       "      <td>AFR</td>\n",
       "      <td>Rwanda</td>\n",
       "    </tr>\n",
       "    <tr>\n",
       "      <th>100</th>\n",
       "      <td>549.0</td>\n",
       "      <td>GNB</td>\n",
       "      <td>2015</td>\n",
       "      <td>AFR</td>\n",
       "      <td>Guinea-Bissau</td>\n",
       "    </tr>\n",
       "    <tr>\n",
       "      <th>211</th>\n",
       "      <td>1360.0</td>\n",
       "      <td>SLE</td>\n",
       "      <td>2015</td>\n",
       "      <td>AFR</td>\n",
       "      <td>Sierra Leone</td>\n",
       "    </tr>\n",
       "  </tbody>\n",
       "</table>\n",
       "</div>"
      ],
      "text/plain": [
       "     MMR100K   ISO  YEAR REGION                           COUNTRY\n",
       "2      693.0   COD  2015    AFR  Democratic Republic of the Congo\n",
       "91     596.0   CMR  2015    AFR                          Cameroon\n",
       "96     501.0   ERI  2015    AFR                           Eritrea\n",
       "116    542.0  None  2015    AFR                            Global\n",
       "289    371.0   BFA  2015    AFR                      Burkina Faso\n",
       "404    443.0   ZWE  2015    AFR                          Zimbabwe\n",
       "393    510.0   KEN  2015    AFR                             Kenya\n",
       "392    679.0   GIN  2015    AFR                            Guinea\n",
       "391    342.0   GNQ  2015    AFR                 Equatorial Guinea\n",
       "210    315.0   SEN  2015    AFR                           Senegal\n",
       "390    645.0   CIV  2015    AFR                     Cote d'Ivoire\n",
       "105    725.0   LBR  2015    AFR                           Liberia\n",
       "383    140.0   DZA  2015    AFR                           Algeria\n",
       "195    129.0   BWA  2015    AFR                          Botswana\n",
       "197     42.0   CPV  2015    AFR                        Cabo Verde\n",
       "201    291.0   GAB  2015    AFR                             Gabon\n",
       "204    487.0   LSO  2015    AFR                           Lesotho\n",
       "208    265.0   NAM  2015    AFR                           Namibia\n",
       "389    442.0   COG  2015    AFR                             Congo\n",
       "205    353.0   MDG  2015    AFR                        Madagascar\n",
       "206    602.0   MRT  2015    AFR                        Mauritania\n",
       "386    882.0   CAF  2015    AFR          Central African Republic\n",
       "209    290.0   RWA  2015    AFR                            Rwanda\n",
       "100    549.0   GNB  2015    AFR                     Guinea-Bissau\n",
       "211   1360.0   SLE  2015    AFR                      Sierra Leone"
      ]
     },
     "execution_count": 92,
     "metadata": {},
     "output_type": "execute_result"
    }
   ],
   "source": [
    "MMR = MMR.sort_values(by = ['REGION'])\n",
    "MMR.head(25)"
   ]
  },
  {
   "cell_type": "markdown",
   "metadata": {},
   "source": [
    "From the box plot you can see that the spread is huge for MMR on the African continent. What makes these countries so different? Why does Sierra Leone have such a high MMR (1360) when the island country just of the coast, Cape Verde, has one of the lowest MMRs in the region? To answer this question I will look at socioeconomic factors that may explain thses descrepancies. "
   ]
  },
  {
   "cell_type": "markdown",
   "metadata": {},
   "source": [
    "## 4. Feature Analysis and Selection "
   ]
  },
  {
   "cell_type": "markdown",
   "metadata": {},
   "source": [
    "### 4.1 Feature Selection"
   ]
  },
  {
   "cell_type": "markdown",
   "metadata": {},
   "source": [
    "A. Data sets in the DATAFRAME:\n",
    "\n",
    "* Maternal Mortality Rates (MDG_0000000026):\n",
    "http://apps.who.int/gho/data/node.main.15\n",
    "\n",
    "* Adolescent Birth Rates (MDG_0000000003): \n",
    "http://apps.who.int/gho/data/node.main.REPADO39?lang=en\n",
    "\n",
    "* Abortion policy scale (CSV from PDF): https://www.reproductiverights.org/sites/crr.civicactions.net/files/documents/AbortionMap_Factsheet_2013.pdf\n",
    "\n",
    "* GNI Per Capita Data by Country(PPP) (WHS9_93): \n",
    "http://apps.who.int/gho/data/node.main.GNI107?lang=en\n",
    "\n",
    "* Life Expectancy For Women at birth and at 60 yoa (WHOSIS_000001, WHOSIS_000015): \n",
    "http://apps.who.int/gho/data/node.main.WOMENLIFEEXP?lang=en\n",
    "\n",
    "\n",
    "\n",
    "B. Data Sets that still need to be loaded into data frame from API:\n",
    "\n",
    "* Net Primary School Enrollment female and male (WHS9_87): \n",
    "http://apps.who.int/gho/data/node.main.119?lang=en\n",
    "\n",
    "* Percent Cellphone Subscribers (WHS9_CS): \n",
    "http://apps.who.int/gho/data/node.main.CELL107?lang=en\n",
    "\n",
    "* Contraceptives by country modern methods. tradtitional, fmaliy planning needs met (cpmo, cpmt): \n",
    "http://apps.who.int/gho/data/view.main.94350\n",
    "\n",
    "* Health Service Coverage, birth attendant, antenatal care (WHS4_154): \n",
    "http://apps.who.int/gho/data/node.main.REPWOMEN39?lang=en\n",
    "\n",
    "\n",
    "\n",
    "C. Potential data sets: \n",
    "* Prevalence of Anemia (PREVANEMIA): \n",
    "http://apps.who.int/gho/data/view.main.NCD1760\n",
    "\n",
    "* Population using improved water and improved sanitation (WHS5_122, WHS5_158):\n",
    "http://apps.who.int/gho/data/node.main.46?lang=en\n",
    "\n",
    "* Literacy Rates for all adults (?): \n",
    "http://apps.who.int/gho/data/node.main.116?lang=en\n",
    "\n",
    "* Fertility rate (WHS9_95): \n",
    "http://apps.who.int/gho/data/node.main.110?lang=en\n",
    "\n",
    "* Birth and Death rate (WHS9_CBR, WHS_CDR): \n",
    "http://apps.who.int/gho/data/node.main.CBDR107?lang=en\n",
    "\n",
    "* Population (WHS9_86): \n",
    "http://apps.who.int/gho/data/node.main.POP107?lang=en\n"
   ]
  },
  {
   "cell_type": "markdown",
   "metadata": {},
   "source": [
    "### 4.2 Feature Engineering "
   ]
  },
  {
   "cell_type": "markdown",
   "metadata": {},
   "source": [
    "####  A. Current Status:\n",
    "Each feature set from the WHO has unique challenges. In some cases the data sets only contain info for developing nations and in many cases the data sets contain tons of extra data. Much of the feature engineering upto this point has been focused on creating a feature column with as many countries as possible that can be easily added to the MMR data frame. \n",
    "\n",
    "Data sets in the DATAFRAME:\n",
    "* Maternal Mortality Rates (MatMorR): \n",
    "* Adolescent Birth Rates (AdolBR): \n",
    "* Abortion policy scale (ABScale): \n",
    "* GNI Per Capita Data by Country(PPP) (GNI_PPP): \n",
    "* Life Expectancy at birth (LifeExpect):\n",
    "\n",
    "#### B Future Work: \n",
    "\n",
    "B. Data Sets that still need to be loaded into data frame from API:\n",
    "\n",
    "* Net Primary School Enrollment female and male (WHS9_87):\n",
    "* Percent Cellphone Subscribers (WHS9_CS): \n",
    "* Contraceptives by country modern methods. tradtitional, fmaliy planning needs met (cpmo, cpmt): \n",
    "* Health Service Coverage, birth attendant, antenatal care (WHS4_154): "
   ]
  },
  {
   "cell_type": "markdown",
   "metadata": {},
   "source": [
    "### Question: What data sets, if any, do you think should be included from 4.1 C \"potential data sets\"? why?"
   ]
  },
  {
   "cell_type": "markdown",
   "metadata": {},
   "source": [
    "### 5. Modeling"
   ]
  },
  {
   "cell_type": "markdown",
   "metadata": {},
   "source": [
    "#### 5.2 Model building \n",
    "\n",
    "Future Work: For my final project, I will use the random forest method. "
   ]
  },
  {
   "cell_type": "code",
   "execution_count": 104,
   "metadata": {
    "collapsed": false
   },
   "outputs": [
    {
     "name": "stderr",
     "output_type": "stream",
     "text": [
      "C:\\Users\\minire\\Anaconda2\\lib\\site-packages\\ipykernel\\__main__.py:4: SettingWithCopyWarning: \n",
      "A value is trying to be set on a copy of a slice from a DataFrame.\n",
      "Try using .loc[row_indexer,col_indexer] = value instead\n",
      "\n",
      "See the caveats in the documentation: http://pandas.pydata.org/pandas-docs/stable/indexing.html#indexing-view-versus-copy\n"
     ]
    },
    {
     "data": {
      "text/html": [
       "<div>\n",
       "<table border=\"1\" class=\"dataframe\">\n",
       "  <thead>\n",
       "    <tr style=\"text-align: right;\">\n",
       "      <th></th>\n",
       "      <th>MMR100K</th>\n",
       "      <th>ISO</th>\n",
       "      <th>YEAR</th>\n",
       "      <th>REGION</th>\n",
       "      <th>COUNTRY</th>\n",
       "      <th>MMRBinary</th>\n",
       "    </tr>\n",
       "  </thead>\n",
       "  <tbody>\n",
       "    <tr>\n",
       "      <th>2</th>\n",
       "      <td>693.0</td>\n",
       "      <td>COD</td>\n",
       "      <td>2015</td>\n",
       "      <td>AFR</td>\n",
       "      <td>Democratic Republic of the Congo</td>\n",
       "      <td>0</td>\n",
       "    </tr>\n",
       "    <tr>\n",
       "      <th>5</th>\n",
       "      <td>319.0</td>\n",
       "      <td>GHA</td>\n",
       "      <td>2015</td>\n",
       "      <td>AFR</td>\n",
       "      <td>Ghana</td>\n",
       "      <td>0</td>\n",
       "    </tr>\n",
       "    <tr>\n",
       "      <th>7</th>\n",
       "      <td>587.0</td>\n",
       "      <td>MLI</td>\n",
       "      <td>2015</td>\n",
       "      <td>AFR</td>\n",
       "      <td>Mali</td>\n",
       "      <td>0</td>\n",
       "    </tr>\n",
       "    <tr>\n",
       "      <th>8</th>\n",
       "      <td>53.0</td>\n",
       "      <td>MUS</td>\n",
       "      <td>2015</td>\n",
       "      <td>AFR</td>\n",
       "      <td>Mauritius</td>\n",
       "      <td>1</td>\n",
       "    </tr>\n",
       "    <tr>\n",
       "      <th>10</th>\n",
       "      <td>489.0</td>\n",
       "      <td>MOZ</td>\n",
       "      <td>2015</td>\n",
       "      <td>AFR</td>\n",
       "      <td>Mozambique</td>\n",
       "      <td>0</td>\n",
       "    </tr>\n",
       "  </tbody>\n",
       "</table>\n",
       "</div>"
      ],
      "text/plain": [
       "    MMR100K  ISO  YEAR REGION                           COUNTRY  MMRBinary\n",
       "2     693.0  COD  2015    AFR  Democratic Republic of the Congo          0\n",
       "5     319.0  GHA  2015    AFR                             Ghana          0\n",
       "7     587.0  MLI  2015    AFR                              Mali          0\n",
       "8      53.0  MUS  2015    AFR                         Mauritius          1\n",
       "10    489.0  MOZ  2015    AFR                        Mozambique          0"
      ]
     },
     "execution_count": 104,
     "metadata": {},
     "output_type": "execute_result"
    }
   ],
   "source": [
    "# creating a binary variable for MMR\n",
    "# If the MMR is under the global average the value is '1'. If the MMR is over the global average the value is '0'. \n",
    "\n",
    "MMR['MMRBinary'] = np.where(MMR.MMR100K <= 56, 1 , 0)\n",
    "MMR.head()"
   ]
  },
  {
   "cell_type": "markdown",
   "metadata": {},
   "source": [
    "#### 5.3 Model Evaluation "
   ]
  },
  {
   "cell_type": "code",
   "execution_count": 105,
   "metadata": {
    "collapsed": false
   },
   "outputs": [
    {
     "data": {
      "text/plain": [
       "'OUTPUT: 0.953488372093 '"
      ]
     },
     "execution_count": 105,
     "metadata": {},
     "output_type": "execute_result"
    }
   ],
   "source": [
    "\n",
    "\n",
    "# using the following method with a categorical value of MMR I was able to get an accuract score of 0.95. \n",
    "#This model is VERY BLUNT and I will need to use a model that allows me to predict MMR as a rate not a catergorical value \n",
    "'''# define X and y\n",
    "feature_cols = ['ABR%', 'AOD_FMLE', 'GNI']\n",
    "X = mother[feature_cols]\n",
    "y = mother.MMRBinary\n",
    "\n",
    "# train/test split\n",
    "from sklearn.cross_validation import train_test_split\n",
    "X_train, X_test, y_train, y_test = train_test_split(X, y, random_state=1)\n",
    "\n",
    "# train a logistic regression model\n",
    "from sklearn.linear_model import LogisticRegression\n",
    "logreg = LogisticRegression(C=1e9)\n",
    "logreg.fit(X_train, y_train)\n",
    "\n",
    "# make predictions for testing set\n",
    "y_pred_class = logreg.predict(X_test)\n",
    "\n",
    "# calculate testing accuracy\n",
    "from sklearn import metrics\n",
    "print metrics.accuracy_score(y_test, y_pred_class)'''\n",
    "\n",
    "\"OUTPUT: 0.953488372093 \"\n"
   ]
  },
  {
   "cell_type": "markdown",
   "metadata": {},
   "source": [
    "### 6. Findings and Conclusions "
   ]
  },
  {
   "cell_type": "markdown",
   "metadata": {},
   "source": [
    "#### 6.1 Findings/conclusions\n",
    "\n",
    "Looking at the features individualy the following accuracy scores were found: \n",
    "* Life expectancy for females (AOD_FMLE) = 0.860465116279\n",
    "* Adolescent Birth Rate as a decimal (ABR%) = 0.906976744186\n",
    "* GNI_PPP = 0.53488372093\n",
    "\n",
    "Unsurprisingly, adolescent brith rate is the best predictor for maternal mortality rate because a very young mother is correlated with birth complicatioins. However, it is interesting to note that the wealth of a nation is not necessarily a good indicator alone. This suggests that there are some countries that can afford to invest further in reproductive helath and education.\n"
   ]
  },
  {
   "cell_type": "markdown",
   "metadata": {},
   "source": [
    "#### 6.2 Future Work "
   ]
  },
  {
   "cell_type": "code",
   "execution_count": null,
   "metadata": {
    "collapsed": true
   },
   "outputs": [],
   "source": []
  }
 ],
 "metadata": {
  "anaconda-cloud": {},
  "kernelspec": {
   "display_name": "Python [Root]",
   "language": "python",
   "name": "Python [Root]"
  },
  "language_info": {
   "codemirror_mode": {
    "name": "ipython",
    "version": 2
   },
   "file_extension": ".py",
   "mimetype": "text/x-python",
   "name": "python",
   "nbconvert_exporter": "python",
   "pygments_lexer": "ipython2",
   "version": "2.7.12"
  }
 },
 "nbformat": 4,
 "nbformat_minor": 0
}
