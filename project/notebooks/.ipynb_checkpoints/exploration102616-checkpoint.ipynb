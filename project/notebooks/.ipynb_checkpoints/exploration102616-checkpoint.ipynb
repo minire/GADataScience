{
 "cells": [
  {
   "cell_type": "markdown",
   "metadata": {},
   "source": [
    "This notebook is for exploration of WHO data with a link to WHO/GHO API resources below"
   ]
  },
  {
   "cell_type": "code",
   "execution_count": 222,
   "metadata": {
    "collapsed": true
   },
   "outputs": [],
   "source": [
    "#http://apps.who.int/gho/data/node.resources.api\n"
   ]
  },
  {
   "cell_type": "code",
   "execution_count": 223,
   "metadata": {
    "collapsed": true
   },
   "outputs": [],
   "source": [
    "import requests\n",
    "import pandas as pd \n",
    "import json"
   ]
  },
  {
   "cell_type": "code",
   "execution_count": 224,
   "metadata": {
    "collapsed": false
   },
   "outputs": [],
   "source": [
    "# grabbing data for the adolescent birth rate 'MDG_0000000003'    \n",
    "B = requests.get('http://apps.who.int/gho/athena/api/GHO/MDG_0000000003.json')\n"
   ]
  },
  {
   "cell_type": "code",
   "execution_count": 225,
   "metadata": {
    "collapsed": false
   },
   "outputs": [
    {
     "data": {
      "text/plain": [
       "[u'attribute', u'fact', u'dimension', u'copyright', u'dataset']"
      ]
     },
     "execution_count": 225,
     "metadata": {},
     "output_type": "execute_result"
    }
   ],
   "source": [
    "#Converting data into json format\n",
    "data = B.json()\n",
    "data.keys()"
   ]
  },
  {
   "cell_type": "code",
   "execution_count": 226,
   "metadata": {
    "collapsed": true
   },
   "outputs": [],
   "source": [
    "#investigating the data contained in each key of the adolescent brith rate .json() data set 'data'"
   ]
  },
  {
   "cell_type": "code",
   "execution_count": 1,
   "metadata": {
    "collapsed": false
   },
   "outputs": [
    {
     "data": {
      "text/plain": [
       "' dimension data exploration\\ndimension = data[\\'dimension\\']\\n\\nfor foo in dimension:\\n    if foo[\\'label\\'] == \"COUNTRY\":\\n        print foo\\n        \\ndimension = data[\\'dimension\\']\\nfor foo in dimension:\\n    if foo[\\'label\\'] == \"COUNTRY\":\\n        print foo.keys()\\n        \\ndimension = data[\\'dimension\\']\\nfor foo in dimension:\\n    for boo in foo[\\'code\\']: \\n        print boo.keys() '"
      ]
     },
     "execution_count": 1,
     "metadata": {},
     "output_type": "execute_result"
    }
   ],
   "source": [
    "''' dimension data exploration\n",
    "dimension = data['dimension']\n",
    "\n",
    "for foo in dimension:\n",
    "    if foo['label'] == \"COUNTRY\":\n",
    "        print foo\n",
    "        \n",
    "dimension = data['dimension']\n",
    "for foo in dimension:\n",
    "    if foo['label'] == \"COUNTRY\":\n",
    "        print foo.keys()\n",
    "        \n",
    "dimension = data['dimension']\n",
    "for foo in dimension:\n",
    "    for boo in foo['code']: \n",
    "        print boo.keys() '''"
   ]
  },
  {
   "cell_type": "code",
   "execution_count": 275,
   "metadata": {
    "collapsed": false,
    "scrolled": false
   },
   "outputs": [
    {
     "name": "stdout",
     "output_type": "stream",
     "text": [
      "[u'isMeasure', u'code', u'display', u'label']\n"
     ]
    }
   ],
   "source": []
  },
  {
   "cell_type": "code",
   "execution_count": 269,
   "metadata": {
    "collapsed": false
   },
   "outputs": [
    {
     "name": "stdout",
     "output_type": "stream",
     "text": [
      "[u'url', u'attr', u'display', u'display_sequence', u'label']\n",
      "[u'url', u'attr', u'display', u'display_sequence', u'label']\n",
      "[u'url', u'attr', u'display', u'display_sequence', u'label']\n",
      "[u'url', u'attr', u'display', u'display_sequence', u'label']\n",
      "[u'url', u'attr', u'display', u'display_sequence', u'label']\n",
      "[u'url', u'attr', u'display', u'display_sequence', u'label']\n",
      "[u'url', u'attr', u'display', u'display_sequence', u'label']\n",
      "[u'url', u'attr', u'display', u'display_sequence', u'label']\n",
      "[u'url', u'attr', u'display', u'display_sequence', u'label']\n",
      "[u'url', u'attr', u'display', u'display_sequence', u'label']\n",
      "[u'url', u'attr', u'display', u'display_sequence', u'label']\n",
      "[u'url', u'attr', u'display', u'display_sequence', u'label']\n",
      "[u'url', u'attr', u'display', u'display_sequence', u'label']\n",
      "[u'url', u'attr', u'display', u'display_sequence', u'label']\n",
      "[u'url', u'attr', u'display', u'display_sequence', u'label']\n",
      "[u'url', u'attr', u'display', u'display_sequence', u'label']\n",
      "[u'url', u'attr', u'display', u'display_sequence', u'label']\n",
      "[u'url', u'attr', u'display', u'display_sequence', u'label']\n",
      "[u'url', u'attr', u'display', u'display_sequence', u'label']\n",
      "[u'url', u'attr', u'display', u'display_sequence', u'label']\n",
      "[u'url', u'attr', u'display', u'display_sequence', u'label']\n",
      "[u'url', u'attr', u'display', u'display_sequence', u'label']\n",
      "[u'url', u'attr', u'display', u'display_sequence', u'label']\n",
      "[u'url', u'attr', u'display', u'display_sequence', u'label']\n",
      "[u'url', u'attr', u'display', u'display_sequence', u'label']\n",
      "[u'url', u'attr', u'display', u'display_sequence', u'label']\n",
      "[u'url', u'attr', u'display', u'display_sequence', u'label']\n",
      "[u'url', u'attr', u'display', u'display_sequence', u'label']\n",
      "[u'url', u'attr', u'display', u'display_sequence', u'label']\n",
      "[u'url', u'attr', u'display', u'display_sequence', u'label']\n",
      "[u'url', u'attr', u'display', u'display_sequence', u'label']\n",
      "[u'url', u'attr', u'display', u'display_sequence', u'label']\n",
      "[u'url', u'attr', u'display', u'display_sequence', u'label']\n",
      "[u'url', u'attr', u'display', u'display_sequence', u'label']\n",
      "[u'url', u'attr', u'display', u'display_sequence', u'label']\n",
      "[u'url', u'attr', u'display', u'display_sequence', u'label']\n",
      "[u'url', u'attr', u'display', u'display_sequence', u'label']\n",
      "[u'url', u'attr', u'display', u'display_sequence', u'label']\n",
      "[u'url', u'attr', u'display', u'display_sequence', u'label']\n",
      "[u'url', u'attr', u'display', u'display_sequence', u'label']\n",
      "[u'url', u'attr', u'display', u'display_sequence', u'label']\n",
      "[u'url', u'attr', u'display', u'display_sequence', u'label']\n",
      "[u'url', u'attr', u'display', u'display_sequence', u'label']\n",
      "[u'url', u'attr', u'display', u'display_sequence', u'label']\n",
      "[u'url', u'attr', u'display', u'display_sequence', u'label']\n",
      "[u'url', u'attr', u'display', u'display_sequence', u'label']\n",
      "[u'url', u'attr', u'display', u'display_sequence', u'label']\n",
      "[u'url', u'attr', u'display', u'display_sequence', u'label']\n",
      "[u'url', u'attr', u'display', u'display_sequence', u'label']\n",
      "[u'url', u'attr', u'display', u'display_sequence', u'label']\n",
      "[u'url', u'attr', u'display', u'display_sequence', u'label']\n",
      "[u'url', u'attr', u'display', u'display_sequence', u'label']\n",
      "[u'url', u'attr', u'display', u'display_sequence', u'label']\n",
      "[u'url', u'attr', u'display', u'display_sequence', u'label']\n",
      "[u'url', u'attr', u'display', u'display_sequence', u'label']\n",
      "[u'url', u'attr', u'display', u'display_sequence', u'label']\n",
      "[u'url', u'attr', u'display', u'display_sequence', u'label']\n",
      "[u'url', u'attr', u'display', u'display_sequence', u'label']\n",
      "[u'url', u'attr', u'display', u'display_sequence', u'label']\n",
      "[u'url', u'attr', u'display', u'display_sequence', u'label']\n",
      "[u'url', u'attr', u'display', u'display_sequence', u'label']\n",
      "[u'url', u'attr', u'display', u'display_sequence', u'label']\n",
      "[u'url', u'attr', u'display', u'display_sequence', u'label']\n",
      "[u'url', u'attr', u'display', u'display_sequence', u'label']\n",
      "[u'url', u'attr', u'display', u'display_sequence', u'label']\n",
      "[u'url', u'attr', u'display', u'display_sequence', u'label']\n",
      "[u'url', u'attr', u'display', u'display_sequence', u'label']\n",
      "[u'url', u'attr', u'display', u'display_sequence', u'label']\n",
      "[u'url', u'attr', u'display', u'display_sequence', u'label']\n",
      "[u'url', u'attr', u'display', u'display_sequence', u'label']\n",
      "[u'url', u'attr', u'display', u'display_sequence', u'label']\n",
      "[u'url', u'attr', u'display', u'display_sequence', u'label']\n",
      "[u'url', u'attr', u'display', u'display_sequence', u'label']\n",
      "[u'url', u'attr', u'display', u'display_sequence', u'label']\n",
      "[u'url', u'attr', u'display', u'display_sequence', u'label']\n",
      "[u'url', u'attr', u'display', u'display_sequence', u'label']\n",
      "[u'url', u'attr', u'display', u'display_sequence', u'label']\n",
      "[u'url', u'attr', u'display', u'display_sequence', u'label']\n",
      "[u'url', u'attr', u'display', u'display_sequence', u'label']\n",
      "[u'url', u'attr', u'display', u'display_sequence', u'label']\n",
      "[u'url', u'attr', u'display', u'display_sequence', u'label']\n",
      "[u'url', u'attr', u'display', u'display_sequence', u'label']\n",
      "[u'url', u'attr', u'display', u'display_sequence', u'label']\n",
      "[u'url', u'attr', u'display', u'display_sequence', u'label']\n",
      "[u'url', u'attr', u'display', u'display_sequence', u'label']\n",
      "[u'url', u'attr', u'display', u'display_sequence', u'label']\n",
      "[u'url', u'attr', u'display', u'display_sequence', u'label']\n",
      "[u'url', u'attr', u'display', u'display_sequence', u'label']\n",
      "[u'url', u'attr', u'display', u'display_sequence', u'label']\n",
      "[u'url', u'attr', u'display', u'display_sequence', u'label']\n",
      "[u'url', u'attr', u'display', u'display_sequence', u'label']\n",
      "[u'url', u'attr', u'display', u'display_sequence', u'label']\n",
      "[u'url', u'attr', u'display', u'display_sequence', u'label']\n",
      "[u'url', u'attr', u'display', u'display_sequence', u'label']\n",
      "[u'url', u'attr', u'display', u'display_sequence', u'label']\n",
      "[u'url', u'attr', u'display', u'display_sequence', u'label']\n",
      "[u'url', u'attr', u'display', u'display_sequence', u'label']\n",
      "[u'url', u'attr', u'display', u'display_sequence', u'label']\n",
      "[u'url', u'attr', u'display', u'display_sequence', u'label']\n",
      "[u'url', u'attr', u'display', u'display_sequence', u'label']\n",
      "[u'url', u'attr', u'display', u'display_sequence', u'label']\n",
      "[u'url', u'attr', u'display', u'display_sequence', u'label']\n",
      "[u'url', u'attr', u'display', u'display_sequence', u'label']\n",
      "[u'url', u'attr', u'display', u'display_sequence', u'label']\n",
      "[u'url', u'attr', u'display', u'display_sequence', u'label']\n",
      "[u'url', u'attr', u'display', u'display_sequence', u'label']\n",
      "[u'url', u'attr', u'display', u'display_sequence', u'label']\n",
      "[u'url', u'attr', u'display', u'display_sequence', u'label']\n",
      "[u'url', u'attr', u'display', u'display_sequence', u'label']\n",
      "[u'url', u'attr', u'display', u'display_sequence', u'label']\n",
      "[u'url', u'attr', u'display', u'display_sequence', u'label']\n",
      "[u'url', u'attr', u'display', u'display_sequence', u'label']\n",
      "[u'url', u'attr', u'display', u'display_sequence', u'label']\n",
      "[u'url', u'attr', u'display', u'display_sequence', u'label']\n",
      "[u'url', u'attr', u'display', u'display_sequence', u'label']\n",
      "[u'url', u'attr', u'display', u'display_sequence', u'label']\n",
      "[u'url', u'attr', u'display', u'display_sequence', u'label']\n",
      "[u'url', u'attr', u'display', u'display_sequence', u'label']\n",
      "[u'url', u'attr', u'display', u'display_sequence', u'label']\n",
      "[u'url', u'attr', u'display', u'display_sequence', u'label']\n",
      "[u'url', u'attr', u'display', u'display_sequence', u'label']\n",
      "[u'url', u'attr', u'display', u'display_sequence', u'label']\n",
      "[u'url', u'attr', u'display', u'display_sequence', u'label']\n",
      "[u'url', u'attr', u'display', u'display_sequence', u'label']\n",
      "[u'url', u'attr', u'display', u'display_sequence', u'label']\n",
      "[u'url', u'attr', u'display', u'display_sequence', u'label']\n",
      "[u'url', u'attr', u'display', u'display_sequence', u'label']\n",
      "[u'url', u'attr', u'display', u'display_sequence', u'label']\n",
      "[u'url', u'attr', u'display', u'display_sequence', u'label']\n",
      "[u'url', u'attr', u'display', u'display_sequence', u'label']\n",
      "[u'url', u'attr', u'display', u'display_sequence', u'label']\n",
      "[u'url', u'attr', u'display', u'display_sequence', u'label']\n",
      "[u'url', u'attr', u'display', u'display_sequence', u'label']\n",
      "[u'url', u'attr', u'display', u'display_sequence', u'label']\n",
      "[u'url', u'attr', u'display', u'display_sequence', u'label']\n",
      "[u'url', u'attr', u'display', u'display_sequence', u'label']\n",
      "[u'url', u'attr', u'display', u'display_sequence', u'label']\n",
      "[u'url', u'attr', u'display', u'display_sequence', u'label']\n",
      "[u'url', u'attr', u'display', u'display_sequence', u'label']\n",
      "[u'url', u'attr', u'display', u'display_sequence', u'label']\n",
      "[u'url', u'attr', u'display', u'display_sequence', u'label']\n",
      "[u'url', u'attr', u'display', u'display_sequence', u'label']\n",
      "[u'url', u'attr', u'display', u'display_sequence', u'label']\n",
      "[u'url', u'attr', u'display', u'display_sequence', u'label']\n",
      "[u'url', u'attr', u'display', u'display_sequence', u'label']\n",
      "[u'url', u'attr', u'display', u'display_sequence', u'label']\n",
      "[u'url', u'attr', u'display', u'display_sequence', u'label']\n",
      "[u'url', u'attr', u'display', u'display_sequence', u'label']\n",
      "[u'url', u'attr', u'display', u'display_sequence', u'label']\n",
      "[u'url', u'attr', u'display', u'display_sequence', u'label']\n",
      "[u'url', u'attr', u'display', u'display_sequence', u'label']\n",
      "[u'url', u'attr', u'display', u'display_sequence', u'label']\n",
      "[u'url', u'attr', u'display', u'display_sequence', u'label']\n",
      "[u'url', u'attr', u'display', u'display_sequence', u'label']\n",
      "[u'url', u'attr', u'display', u'display_sequence', u'label']\n",
      "[u'url', u'attr', u'display', u'display_sequence', u'label']\n",
      "[u'url', u'attr', u'display', u'display_sequence', u'label']\n",
      "[u'url', u'attr', u'display', u'display_sequence', u'label']\n",
      "[u'url', u'attr', u'display', u'display_sequence', u'label']\n",
      "[u'url', u'attr', u'display', u'display_sequence', u'label']\n",
      "[u'url', u'attr', u'display', u'display_sequence', u'label']\n",
      "[u'url', u'attr', u'display', u'display_sequence', u'label']\n",
      "[u'url', u'attr', u'display', u'display_sequence', u'label']\n",
      "[u'url', u'attr', u'display', u'display_sequence', u'label']\n",
      "[u'url', u'attr', u'display', u'display_sequence', u'label']\n",
      "[u'url', u'attr', u'display', u'display_sequence', u'label']\n",
      "[u'url', u'attr', u'display', u'display_sequence', u'label']\n",
      "[u'url', u'attr', u'display', u'display_sequence', u'label']\n",
      "[u'url', u'attr', u'display', u'display_sequence', u'label']\n",
      "[u'url', u'attr', u'display', u'display_sequence', u'label']\n",
      "[u'url', u'attr', u'display', u'display_sequence', u'label']\n",
      "[u'url', u'attr', u'display', u'display_sequence', u'label']\n",
      "[u'url', u'attr', u'display', u'display_sequence', u'label']\n",
      "[u'url', u'attr', u'display', u'display_sequence', u'label']\n",
      "[u'url', u'attr', u'display', u'display_sequence', u'label']\n",
      "[u'url', u'attr', u'display', u'display_sequence', u'label']\n",
      "[u'url', u'attr', u'display', u'display_sequence', u'label']\n",
      "[u'url', u'attr', u'display', u'display_sequence', u'label']\n",
      "[u'url', u'attr', u'display', u'display_sequence', u'label']\n",
      "[u'url', u'attr', u'display', u'display_sequence', u'label']\n",
      "[u'url', u'attr', u'display', u'display_sequence', u'label']\n",
      "[u'url', u'attr', u'display', u'display_sequence', u'label']\n",
      "[u'url', u'attr', u'display', u'display_sequence', u'label']\n",
      "[u'url', u'attr', u'display', u'display_sequence', u'label']\n",
      "[u'url', u'attr', u'display', u'display_sequence', u'label']\n",
      "[u'url', u'attr', u'display', u'display_sequence', u'label']\n",
      "[u'url', u'attr', u'display', u'display_sequence', u'label']\n",
      "[u'url', u'attr', u'display', u'display_sequence', u'label']\n",
      "[u'url', u'attr', u'display', u'display_sequence', u'label']\n",
      "[u'url', u'attr', u'display', u'display_sequence', u'label']\n",
      "[u'url', u'attr', u'display', u'display_sequence', u'label']\n",
      "[u'url', u'attr', u'display', u'display_sequence', u'label']\n",
      "[u'url', u'attr', u'display', u'display_sequence', u'label']\n",
      "[u'url', u'attr', u'display', u'display_sequence', u'label']\n",
      "[u'url', u'attr', u'display', u'display_sequence', u'label']\n",
      "[u'url', u'attr', u'display', u'display_sequence', u'label']\n",
      "[u'url', u'attr', u'display', u'display_sequence', u'label']\n",
      "[u'url', u'attr', u'display', u'display_sequence', u'label']\n",
      "[u'url', u'attr', u'display', u'display_sequence', u'label']\n",
      "[u'url', u'attr', u'display', u'display_sequence', u'label']\n",
      "[u'url', u'attr', u'display', u'display_sequence', u'label']\n",
      "[u'url', u'attr', u'display', u'display_sequence', u'label']\n",
      "[u'url', u'attr', u'display', u'display_sequence', u'label']\n",
      "[u'url', u'attr', u'display', u'display_sequence', u'label']\n",
      "[u'url', u'attr', u'display', u'display_sequence', u'label']\n",
      "[u'url', u'attr', u'display', u'display_sequence', u'label']\n",
      "[u'url', u'attr', u'display', u'display_sequence', u'label']\n",
      "[u'url', u'attr', u'display', u'display_sequence', u'label']\n",
      "[u'url', u'attr', u'display', u'display_sequence', u'label']\n",
      "[u'url', u'attr', u'display', u'display_sequence', u'label']\n",
      "[u'url', u'attr', u'display', u'display_sequence', u'label']\n",
      "[u'url', u'attr', u'display', u'display_sequence', u'label']\n",
      "[u'url', u'attr', u'display', u'display_sequence', u'label']\n",
      "[u'url', u'attr', u'display', u'display_sequence', u'label']\n",
      "[u'url', u'attr', u'display', u'display_sequence', u'label']\n",
      "[u'url', u'attr', u'display', u'display_sequence', u'label']\n",
      "[u'url', u'attr', u'display', u'display_sequence', u'label']\n",
      "[u'url', u'attr', u'display', u'display_sequence', u'label']\n",
      "[u'url', u'attr', u'display', u'display_sequence', u'label']\n",
      "[u'url', u'attr', u'display', u'display_sequence', u'label']\n",
      "[u'url', u'attr', u'display', u'display_sequence', u'label']\n",
      "[u'url', u'attr', u'display', u'display_sequence', u'label']\n"
     ]
    }
   ],
   "source": []
  },
  {
   "cell_type": "code",
   "execution_count": 290,
   "metadata": {
    "collapsed": false
   },
   "outputs": [
    {
     "name": "stdout",
     "output_type": "stream",
     "text": [
      "{u'DZA': u'Algeria', u'AGO': u'Angola', u'EGY': u'Egypt', u'BGD': u'Bangladesh', u'NER': u'Niger', u'QAT': u'Qatar', u'NAM': u'Namibia', u'BGR': u'Bulgaria', u'BOL': u'Bolivia (Plurinational State of)', u'GHA': u'Ghana', u'PAK': u'Pakistan', u'CPV': u'Cabo Verde', u'JOR': u'Jordan', u'LBR': u'Liberia', u'LBY': u'Libya', u'MYS': u'Malaysia', u'PRK': u\"Democratic People's Republic of Korea\", u'TZA': u'United Republic of Tanzania', u'BWA': u'Botswana', u'KHM': u'Cambodia', u'TTO': u'Trinidad and Tobago', u'PRY': u'Paraguay', u'SAU': u'Saudi Arabia', u'LBN': u'Lebanon', u'SVN': u'Slovenia', u'BFA': u'Burkina Faso', u'SVK': u'Slovakia', u'MRT': u'Mauritania', u'HRV': u'Croatia', u'CHL': u'Chile', u'CHN': u'China', u'KNA': u'Saint Kitts and Nevis', u'JAM': u'Jamaica', u'SMR': u'San Marino', u'DJI': u'Djibouti', u'GIN': u'Guinea', u'FIN': u'Finland', u'URY': u'Uruguay', u'THA': u'Thailand', u'SYC': u'Seychelles', u'NPL': u'Nepal', u'LAO': u\"Lao People's Democratic Republic\", u'YEM': u'Yemen', u'PHL': u'Philippines', u'ZAF': u'South Africa', u'KIR': u'Kiribati', u'TGO': u'Togo', u'SYR': u'Syrian Arab Republic', u'NIC': u'Nicaragua', u'MLT': u'Malta', u'KAZ': u'Kazakhstan', u'NIU': u'Niue', u'DMA': u'Dominica', u'BEN': u'Benin', u'NGA': u'Nigeria', u'BEL': u'Belgium', u'DEU': u'Germany', u'LKA': u'Sri Lanka', u'GBR': u'United Kingdom of Great Britain and Northern Ireland', u'GUY': u'Guyana', u'CRI': u'Costa Rica', u'COK': u'Cook Islands', u'MAR': u'Morocco', u'LSO': u'Lesotho', u'HUN': u'Hungary', u'TKM': u'Turkmenistan', u'SUR': u'Suriname', u'NLD': u'Netherlands', u'TCD': u'Chad', u'GEO': u'Georgia', u'ROU': u'Romania', u'MNG': u'Mongolia', u'MHL': u'Marshall Islands', u'BLZ': u'Belize', u'MMR': u'Myanmar', u'AFG': u'Afghanistan', u'BDI': u'Burundi', u'BLR': u'Belarus', u'GRD': u'Grenada', u'GRC': u'Greece', u'MNE': u'Montenegro', u'AND': u'Andorra', u'MOZ': u'Mozambique', u'TJK': u'Tajikistan', u'HTI': u'Haiti', u'MEX': u'Mexico', u'ZWE': u'Zimbabwe', u'LCA': u'Saint Lucia', u'IND': u'India', u'LVA': u'Latvia', u'BTN': u'Bhutan', u'VCT': u'Saint Vincent and the Grenadines', u'VNM': u'Viet Nam', u'NOR': u'Norway', u'CZE': u'Czech Republic', u'ATG': u'Antigua and Barbuda', u'FJI': u'Fiji', u'HND': u'Honduras', u'MUS': u'Mauritius', u'DOM': u'Dominican Republic', u'LUX': u'Luxembourg', u'ISR': u'Israel', u'FSM': u'Micronesia (Federated States of)', u'PER': u'Peru', u'IDN': u'Indonesia', u'VUT': u'Vanuatu', u'MKD': u'The former Yugoslav republic of Macedonia', u'COD': u'Democratic Republic of the Congo', u'COG': u'Congo', u'ISL': u'Iceland', u'ETH': u'Ethiopia', u'COM': u'Comoros', u'COL': u'Colombia', u'PRT': u'Portugal', u'MDA': u'Republic of Moldova', u'STP': u'Sao Tome and Principe', u'MDG': u'Madagascar', u'ECU': u'Ecuador', u'SEN': u'Senegal', u'MDV': u'Maldives', u'SRB': u'Serbia', u'FRA': u'France', u'LTU': u'Lithuania', u'RWA': u'Rwanda', u'ZMB': u'Zambia', u'GMB': u'Gambia', u'GTM': u'Guatemala', u'DNK': u'Denmark', u'UKR': u'Ukraine', u'AUS': u'Australia', u'AUT': u'Austria', u'VEN': u'Venezuela (Bolivarian Republic of)', u'PLW': u'Palau', u'KEN': u'Kenya', u'TUR': u'Turkey', u'ALB': u'Albania', u'OMN': u'Oman', u'TUV': u'Tuvalu', u'ITA': u'Italy', u'BRN': u'Brunei Darussalam', u'TUN': u'Tunisia', u'RUS': u'Russian Federation', None: u'Female', u'BRB': u'Barbados', u'BRA': u'Brazil', u'CIV': u\"Cote d'Ivoire\", u'TLS': u'Timor-Leste', u'GNQ': u'Equatorial Guinea', u'USA': u'United States of America', u'WSM': u'Samoa', u'AZE': u'Azerbaijan', u'GNB': u'Guinea-Bissau', u'SWZ': u'Swaziland', u'TON': u'Tonga', u'CAN': u'Canada', u'KOR': u'Republic of Korea', u'CAF': u'Central African Republic', u'CHE': u'Switzerland', u'CYP': u'Cyprus', u'BIH': u'Bosnia and Herzegovina', u'SGP': u'Singapore', u'SOM': u'Somalia', u'UZB': u'Uzbekistan', u'CMR': u'Cameroon', u'POL': u'Poland', u'KWT': u'Kuwait', u'ERI': u'Eritrea', u'GAB': u'Gabon', u'ARE': u'United Arab Emirates', u'EST': u'Estonia', u'MWI': u'Malawi', u'ESP': u'Spain', u'IRQ': u'Iraq', u'SLV': u'El Salvador', u'MLI': u'Mali', u'IRL': u'Ireland', u'IRN': u'Iran (Islamic Republic of)', u'SSD': u'South Sudan', u'SLE': u'Sierra Leone', u'PAN': u'Panama', u'SDN': u'Sudan', u'SLB': u'Solomon Islands', u'NZL': u'New Zealand', u'JPN': u'Japan', u'KGZ': u'Kyrgyzstan', u'UGA': u'Uganda', u'PNG': u'Papua New Guinea', u'ARG': u'Argentina', u'SWE': u'Sweden', u'BHS': u'Bahamas', u'BHR': u'Bahrain', u'ARM': u'Armenia', u'NRU': u'Nauru', u'CUB': u'Cuba'}\n"
     ]
    }
   ],
   "source": [
    "\n",
    "dimension = data['dimension']\n",
    "country = {\n",
    "        \n",
    "    }\n",
    "\n",
    "for foo in dimension:\n",
    "    for boo in foo['code']:\n",
    "        ISO = None\n",
    "        display = boo['display']\n",
    "        for loo in boo['attr']:\n",
    "            if loo['category'] == 'ISO': \n",
    "                ISO = loo['value']\n",
    "        country[ISO] = display    \n",
    "\n",
    "print country\n",
    "            \n"
   ]
  },
  {
   "cell_type": "code",
   "execution_count": 295,
   "metadata": {
    "collapsed": false
   },
   "outputs": [
    {
     "data": {
      "text/html": [
       "<div>\n",
       "<table border=\"1\" class=\"dataframe\">\n",
       "  <thead>\n",
       "    <tr style=\"text-align: right;\">\n",
       "      <th></th>\n",
       "      <th>ISO</th>\n",
       "      <th>COUNTRY</th>\n",
       "    </tr>\n",
       "  </thead>\n",
       "  <tbody>\n",
       "    <tr>\n",
       "      <th>0</th>\n",
       "      <td>DZA</td>\n",
       "      <td>Algeria</td>\n",
       "    </tr>\n",
       "    <tr>\n",
       "      <th>1</th>\n",
       "      <td>AGO</td>\n",
       "      <td>Angola</td>\n",
       "    </tr>\n",
       "    <tr>\n",
       "      <th>2</th>\n",
       "      <td>EGY</td>\n",
       "      <td>Egypt</td>\n",
       "    </tr>\n",
       "    <tr>\n",
       "      <th>3</th>\n",
       "      <td>BGD</td>\n",
       "      <td>Bangladesh</td>\n",
       "    </tr>\n",
       "    <tr>\n",
       "      <th>4</th>\n",
       "      <td>NER</td>\n",
       "      <td>Niger</td>\n",
       "    </tr>\n",
       "  </tbody>\n",
       "</table>\n",
       "</div>"
      ],
      "text/plain": [
       "   ISO     COUNTRY\n",
       "0  DZA     Algeria\n",
       "1  AGO      Angola\n",
       "2  EGY       Egypt\n",
       "3  BGD  Bangladesh\n",
       "4  NER       Niger"
      ]
     },
     "execution_count": 295,
     "metadata": {},
     "output_type": "execute_result"
    }
   ],
   "source": [
    "cntryNames = pd.DataFrame(country.items(), columns=['ISO', 'COUNTRY'])\n",
    "cntryNames.head()\n"
   ]
  },
  {
   "cell_type": "code",
   "execution_count": null,
   "metadata": {
    "collapsed": false
   },
   "outputs": [],
   "source": [
    "data['fact'][1]"
   ]
  },
  {
   "cell_type": "code",
   "execution_count": null,
   "metadata": {
    "collapsed": true
   },
   "outputs": [],
   "source": [
    "#numeric values for adolescent brith rate are contained in data['fact'], making a data frame for this key in 'data'"
   ]
  },
  {
   "cell_type": "code",
   "execution_count": null,
   "metadata": {
    "collapsed": false
   },
   "outputs": [],
   "source": [
    "facts = data['fact']\n",
    "facts = pd.DataFrame(facts)\n",
    "facts.keys()"
   ]
  },
  {
   "cell_type": "code",
   "execution_count": null,
   "metadata": {
    "collapsed": false
   },
   "outputs": [],
   "source": [
    "facts.head()"
   ]
  },
  {
   "cell_type": "code",
   "execution_count": null,
   "metadata": {
    "collapsed": false
   },
   "outputs": [],
   "source": [
    "facts.value[0]"
   ]
  },
  {
   "cell_type": "code",
   "execution_count": null,
   "metadata": {
    "collapsed": false
   },
   "outputs": [],
   "source": [
    "#extracting numeric values from adolescent birth rate table data.fact.values\n",
    "\n",
    "data2 = list(facts.value)\n",
    "values = pd.DataFrame(data=data2)\n",
    "values.head()\n",
    "\n"
   ]
  },
  {
   "cell_type": "code",
   "execution_count": null,
   "metadata": {
    "collapsed": false,
    "scrolled": true
   },
   "outputs": [],
   "source": [
    "facts.Dim[0]"
   ]
  },
  {
   "cell_type": "code",
   "execution_count": null,
   "metadata": {
    "collapsed": false
   },
   "outputs": [],
   "source": [
    "#extracting country code and year from the dimension column \n",
    "\n",
    "\n",
    "def extract(A):\n",
    "    for A in foo:\n",
    "        if A['category'] == 'COUNTRY':\n",
    "            return A['code'] \n",
    "    \n",
    "facts['COUNTRY'] = [extract(foo) for foo in facts ['Dim']]\n",
    "\n",
    "def extract(A):\n",
    "    for A in foo:\n",
    "        if A['category'] == 'YEAR':\n",
    "            return A['code'] \n",
    "    \n",
    "facts['YEAR'] = [extract(foo) for foo in facts ['Dim']]\n",
    "           \n",
    "AdolBR = pd.concat([facts, values], axis=1)\n",
    "AdolBR.head()"
   ]
  },
  {
   "cell_type": "code",
   "execution_count": null,
   "metadata": {
    "collapsed": true
   },
   "outputs": [],
   "source": [
    "#checking rows for alignment \n",
    "\n",
    "\"\"\"AdolBR.iloc[30]\n",
    "AdolBR.iloc[30][0]\n",
    "\n",
    "AdolBR.iloc[100]\n",
    "AdolBR.iloc[100][0]\n",
    "\n",
    "AdolBR.iloc[188]\n",
    "AdolBR.iloc[188][0]\"\"\""
   ]
  },
  {
   "cell_type": "code",
   "execution_count": null,
   "metadata": {
    "collapsed": false
   },
   "outputs": [],
   "source": [
    "#deleting unecessary feature columns \n",
    "AdolBR.drop(['Dim', 'comments', 'dataset', 'effective_date', 'end_date', 'published', 'value', 'display'], axis=1, inplace=True)"
   ]
  },
  {
   "cell_type": "code",
   "execution_count": null,
   "metadata": {
    "collapsed": false
   },
   "outputs": [],
   "source": [
    "AdolBR.head()"
   ]
  },
  {
   "cell_type": "code",
   "execution_count": null,
   "metadata": {
    "collapsed": true
   },
   "outputs": [],
   "source": [
    "#spare code for investigating API\n",
    "# A.headers\n",
    "# A.status_code\n",
    "# A.text\n",
    "#AdolBR = pd.DataFrame.from_dict(A.json(), orient = index)\n",
    "#print AdolBR\n",
    "#from pandas.io.json import json_normalize\n",
    "#df =json_normalize(data['fact'])\n",
    "\n",
    "#spare code for for loops: \n",
    "#for foo in facts.Dim:\n",
    "#    for boo in foo:\n",
    "#       if boo['category'] == 'COUNTRY':\n",
    "#    country[foo[4]['category']] = foo[4]['code']\n",
    "#    print country \n",
    "#facts.Dim[0][4]['category']\n",
    "#facts.Dim[0][4]['code']        \n",
    "#facts.Dim[0][4]"
   ]
  }
 ],
 "metadata": {
  "anaconda-cloud": {},
  "kernelspec": {
   "display_name": "Python [Root]",
   "language": "python",
   "name": "Python [Root]"
  },
  "language_info": {
   "codemirror_mode": {
    "name": "ipython",
    "version": 2
   },
   "file_extension": ".py",
   "mimetype": "text/x-python",
   "name": "python",
   "nbconvert_exporter": "python",
   "pygments_lexer": "ipython2",
   "version": "2.7.12"
  }
 },
 "nbformat": 4,
 "nbformat_minor": 0
}
